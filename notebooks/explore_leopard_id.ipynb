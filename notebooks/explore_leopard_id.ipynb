{
 "cells": [
  {
   "cell_type": "code",
   "execution_count": 97,
   "metadata": {},
   "outputs": [],
   "source": [
    "import json\n",
    "from pathlib import Path\n",
    "import random\n",
    "import shutil\n",
    "import os"
   ]
  },
  {
   "cell_type": "code",
   "execution_count": 98,
   "metadata": {},
   "outputs": [],
   "source": [
    "cropped_images_path = Path(\"/workspaces/gorillatracker/datasets/vast/external-datasets/LeopardID2022/cropped_images/all\")\n",
    "annotation_path = Path(\"/workspaces/gorillatracker/datasets/vast/external-datasets/LeopardID2022/leopard.coco/annotations/instances_train2022.json\")\n",
    "image_path = Path(\"/workspaces/gorillatracker/datasets/vast/external-datasets/LeopardID2022/leopard.coco/images/train2022\")"
   ]
  },
  {
   "cell_type": "code",
   "execution_count": 99,
   "metadata": {},
   "outputs": [
    {
     "name": "stdout",
     "output_type": "stream",
     "text": [
      "Given number of images:  6795\n",
      "Given number of annotations:  6825\n",
      "Actual number of images:  5848\n",
      "Actual number of cropped images:  5823\n"
     ]
    }
   ],
   "source": [
    "def load_json(path: Path) -> dict:\n",
    "    with open(path, \"r\") as f:\n",
    "        data = json.load(f)\n",
    "    return data\n",
    "\n",
    "annotation_dict = load_json(annotation_path)\n",
    "print(\"Given number of images: \", len(annotation_dict[\"images\"]))\n",
    "print(\"Given number of annotations: \", len(annotation_dict[\"annotations\"]))\n",
    "image_files = [file for file in image_path.glob(\"*.jpg\") if not file.name.startswith(\"._\")]\n",
    "print(\"Actual number of images: \", len(image_files))\n",
    "print(\"Actual number of cropped images: \", len(list(cropped_images_path.glob(\"*.png\"))))"
   ]
  },
  {
   "cell_type": "code",
   "execution_count": 100,
   "metadata": {},
   "outputs": [
    {
     "name": "stdout",
     "output_type": "stream",
     "text": [
      "Number of images with multiple annotations:  30\n",
      "Image_Id:  3076\n",
      "81ad30d8-15c7-492e-918b-d9592d8f3f08\n",
      "____\n",
      "Image_Id:  1803\n",
      "b3cadf4e-6dc5-4d1a-bc0e-adc6805d9329\n",
      "____\n",
      "Image_Id:  1807\n",
      "b3cadf4e-6dc5-4d1a-bc0e-adc6805d9329\n",
      "____\n",
      "Image_Id:  2959\n",
      "____\n",
      "c3799f7d-5ba9-4266-beff-1cb38febbc86\n",
      "Image_Id:  6551\n",
      "96d393be-7d3b-429f-8e51-6048a8593b47\n",
      "f1116150-8ea6-4a26-a0b8-90208a8a2248\n",
      "Image_Id:  6552\n",
      "96d393be-7d3b-429f-8e51-6048a8593b47\n",
      "f1116150-8ea6-4a26-a0b8-90208a8a2248\n",
      "Image_Id:  6553\n",
      "96d393be-7d3b-429f-8e51-6048a8593b47\n",
      "f1116150-8ea6-4a26-a0b8-90208a8a2248\n",
      "Image_Id:  2456\n",
      "c7fa3bc1-65ee-4028-86a7-a64b841d5dba\n",
      "fc628bad-d8ce-4915-9cf1-29835d930e7c\n"
     ]
    }
   ],
   "source": [
    "# count number of images that have multiple annotations\n",
    "image_ids = [ann[\"image_id\"] for ann in annotation_dict[\"annotations\"]]\n",
    "duplicate_image_ids = set([image_id for image_id in image_ids if image_ids.count(image_id) > 1])\n",
    "print(\"Number of images with multiple annotations: \", len(duplicate_image_ids))\n",
    "# print first 8 duplicate image ids with their names \n",
    "for i, image_id in enumerate(list(duplicate_image_ids)[:8]):\n",
    "    annotations = [ann for ann in annotation_dict[\"annotations\"] if ann[\"image_id\"] == image_id]\n",
    "    print(\"Image_Id: \", image_id)\n",
    "    for ann in annotations:\n",
    "        print(ann[\"name\"])"
   ]
  },
  {
   "cell_type": "code",
   "execution_count": 101,
   "metadata": {},
   "outputs": [
    {
     "name": "stdout",
     "output_type": "stream",
     "text": [
      "Number of Individuals:  413\n",
      "['001e71df-ed06-43b6-bfdc-6beac644b1de_2099.png', '001e71df-ed06-43b6-bfdc-6beac644b1de_2100.png', '001e71df-ed06-43b6-bfdc-6beac644b1de_2107.png', '001e71df-ed06-43b6-bfdc-6beac644b1de_2108.png', '001e71df-ed06-43b6-bfdc-6beac644b1de_2109.png']\n"
     ]
    }
   ],
   "source": [
    "def group_images(images):\n",
    "    labels = {}\n",
    "    for image in images:\n",
    "        label = image.split(\"_\")[0]\n",
    "        if label not in labels:\n",
    "            labels[label] = []\n",
    "        labels[label].append(image)\n",
    "    return labels\n",
    "\n",
    "cropped_images = os.listdir(cropped_images_path)\n",
    "labels_dict = group_images(cropped_images)\n",
    "num_individuals = len(labels_dict)\n",
    "print(\"Number of Individuals: \", num_individuals)\n",
    "print(cropped_images[:5])"
   ]
  },
  {
   "cell_type": "code",
   "execution_count": 102,
   "metadata": {},
   "outputs": [
    {
     "name": "stdout",
     "output_type": "stream",
     "text": [
      "Number of Individuals with more than 4 images:  167\n",
      "Number of Individuals with 4 or less images:  246\n"
     ]
    }
   ],
   "source": [
    "# Now filter out individuals with less than 5 images\n",
    "filtered_individuals = {label: images for label, images in labels_dict.items() if len(images) > 4}\n",
    "num_filtered_individuals = len(filtered_individuals)\n",
    "\n",
    "print(\"Number of Individuals with more than 4 images: \", num_filtered_individuals)\n",
    "print(\"Number of Individuals with 4 or less images: \", num_individuals - num_filtered_individuals)"
   ]
  },
  {
   "cell_type": "code",
   "execution_count": 103,
   "metadata": {},
   "outputs": [],
   "source": [
    "def copy_images(filtered_individuals, max_images_per_individual, labels_dict, input_directory, target_directory):\n",
    "    if not os.path.exists(target_directory):\n",
    "        os.makedirs(target_directory)\n",
    "    \n",
    "    for individual in filtered_individuals:\n",
    "        image_files = labels_dict[individual]\n",
    "        if len(image_files) > max_images_per_individual:\n",
    "            image_files = random.sample(image_files, max_images_per_individual)\n",
    "        \n",
    "        for image_file in image_files:\n",
    "            src_path = os.path.join(input_directory, image_file)\n",
    "            dst_path = os.path.join(target_directory, image_file)\n",
    "            shutil.copy(src_path, dst_path)\n",
    "\n",
    "filtered_individuals_path = \"/workspaces/gorillatracker/datasets/vast/external-datasets/LeopardID2022/cropped_images/filtered\"\n",
    "max_images_per_individual = 50\n",
    "copy_images(filtered_individuals, max_images_per_individual, labels_dict, cropped_images_path, filtered_individuals_path)"
   ]
  }
 ],
 "metadata": {
  "kernelspec": {
   "display_name": "Python 3",
   "language": "python",
   "name": "python3"
  },
  "language_info": {
   "codemirror_mode": {
    "name": "ipython",
    "version": 3
   },
   "file_extension": ".py",
   "mimetype": "text/x-python",
   "name": "python",
   "nbconvert_exporter": "python",
   "pygments_lexer": "ipython3",
   "version": "3.10.14"
  }
 },
 "nbformat": 4,
 "nbformat_minor": 2
}

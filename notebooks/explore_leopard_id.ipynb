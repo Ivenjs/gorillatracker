{
 "cells": [
  {
   "cell_type": "code",
   "execution_count": null,
   "metadata": {},
   "outputs": [],
   "source": [
    "import json\n",
    "from pathlib import Path"
   ]
  },
  {
   "cell_type": "code",
   "execution_count": null,
   "metadata": {},
   "outputs": [],
   "source": [
    "cropped_images_path = Path(\"/workspaces/gorillatracker/datasets/vast/external-datasets/LeopardID2022/cropped_images/train\")\n",
    "annotation_path = Path(\"/workspaces/gorillatracker/datasets/vast/external-datasets/LeopardID2022/leopard.coco/annotations/instances_train2022.json\")\n",
    "image_path = Path(\"/workspaces/gorillatracker/datasets/vast/external-datasets/LeopardID2022/leopard.coco/images/train2022\")"
   ]
  },
  {
   "cell_type": "code",
   "execution_count": null,
   "metadata": {},
   "outputs": [],
   "source": [
    "def load_json(path: Path) -> dict:\n",
    "    with open(path, \"r\") as f:\n",
    "        data = json.load(f)\n",
    "    return data\n",
    "\n",
    "annotation_dict = load_json(annotation_path)\n",
    "print(\"Given number of images: \", len(annotation_dict[\"images\"]))\n",
    "print(\"Given number of annotations: \", len(annotation_dict[\"annotations\"]))\n",
    "image_files = [file for file in image_path.glob(\"*.jpg\") if not file.name.startswith(\"._\")]\n",
    "print(\"Actual number of images: \", len(image_files))\n",
    "print(\"Actual number of cropped images: \", len(list(cropped_images_path.glob(\"*.png\"))))"
   ]
  },
  {
   "cell_type": "code",
   "execution_count": null,
   "metadata": {},
   "outputs": [],
   "source": [
    "# count number of images that have multiple annotations\n",
    "image_ids = [ann[\"image_id\"] for ann in annotation_dict[\"annotations\"]]\n",
    "duplicate_image_ids = set([image_id for image_id in image_ids if image_ids.count(image_id) > 1])\n",
    "print(\"Number of images with multiple annotations: \", len(duplicate_image_ids))\n",
    "# print first 8 duplicate image ids with their names \n",
    "for i, image_id in enumerate(list(duplicate_image_ids)[:8]):\n",
    "    annotations = [ann for ann in annotation_dict[\"annotations\"] if ann[\"image_id\"] == image_id]\n",
    "    print(\"Image_Id: \", image_id)\n",
    "    for ann in annotations:\n",
    "        print(ann[\"name\"])\n",
    "        "
   ]
  }
 ],
 "metadata": {
  "kernelspec": {
   "display_name": "Python 3",
   "language": "python",
   "name": "python3"
  },
  "language_info": {
   "codemirror_mode": {
    "name": "ipython",
    "version": 3
   },
   "file_extension": ".py",
   "mimetype": "text/x-python",
   "name": "python",
   "nbconvert_exporter": "python",
   "pygments_lexer": "ipython3",
   "version": "3.10.14"
  }
 },
 "nbformat": 4,
 "nbformat_minor": 2
}

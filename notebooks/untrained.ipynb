{
 "cells": [
  {
   "cell_type": "code",
   "execution_count": null,
   "metadata": {},
   "outputs": [],
   "source": [
    "from gorillatracker.datasets.bristol import BristolDataset\n",
    "import pandas as pd\n",
    "from PIL import Image\n",
    "from torchvision import transforms, models\n",
    "import torch\n",
    "import torch.nn as nn\n",
    "from sklearn.cluster import KMeans\n",
    "from sklearn.metrics import davies_bouldin_score, silhouette_score\n",
    "from torch.utils.data import DataLoader\n",
    "from gorillatracker.utils.embedding_generator import generate_embeddings\n",
    "import torch.nn as nn\n",
    "from torchvision import models\n",
    "\n",
    "class CustomResNet(nn.Module):\n",
    "    def __init__(self):\n",
    "        super(CustomResNet, self).__init__()\n",
    "        # Load the pretrained ResNet model\n",
    "        self.resnet = models.resnet50(pretrained=True)\n",
    "        # Remove the classification head\n",
    "        self.resnet = nn.Sequential(*list(self.resnet.children())[:-1])\n",
    "\n",
    "    def forward(self, x):\n",
    "        # Forward pass through the ResNet model\n",
    "        x = self.resnet(x)\n",
    "        # Flatten the output\n",
    "        x = x.view(x.size(0), -1)\n",
    "        return x\n",
    "\n",
    "tf = transforms.Compose([BristolDataset.get_transforms(), transforms.Normalize(mean=[0.485, 0.456, 0.406], std=[0.229, 0.224, 0.225])])\n",
    "\n",
    "bristol = BristolDataset(\"/workspaces/gorillatracker/data/splits/ground_truth-bristol-cropped_images_face-closedset-mintraincount-3-seed-42-train-0-val-100-test-0\", partition=\"val\", transform=tf)\n",
    "\n",
    "\n",
    "\n",
    "\n",
    "model = CustomResNet()\n",
    "\n",
    "df = generate_embeddings(model, dataset=bristol, batch_size=32, worker=10)\n",
    "\n",
    "# with torch.no_grad():\n",
    "#     for  in bristol:\n",
    "\n",
    "# # Convert embeddings to a DataFrame\n",
    "# embedding_df = pd.DataFrame(embeddings)\n",
    "\n",
    "# # Define the number of clusters\n",
    "# num_clusters = 5\n",
    "\n",
    "# # Perform K-Means clustering\n",
    "# kmeans = KMeans(n_clusters=num_clusters, random_state=42)\n",
    "# df['cluster'] = kmeans.fit_predict(embedding_df)\n",
    "\n",
    "# # Compute Davies-Bouldin score\n",
    "# db_score = davies_bouldin_score(embedding_df, df['cluster'])\n",
    "\n",
    "# # Compute Silhouette score\n",
    "# sil_score = silhouette_score(embedding_df, df['cluster'])\n",
    "\n",
    "# print(f'Davies-Bouldin Score: {db_score}')\n",
    "# print(f'Silhouette Score: {sil_score}')\n"
   ]
  },
  {
   "cell_type": "code",
   "execution_count": null,
   "metadata": {},
   "outputs": [],
   "source": [
    "print(df.head())\n",
    "print(df[\"embedding\"].shape)\n",
    "print(type(df[\"embedding\"].iloc[0]))\n",
    "print(df[\"embedding\"].iloc[0].shape)"
   ]
  },
  {
   "cell_type": "code",
   "execution_count": null,
   "metadata": {},
   "outputs": [],
   "source": [
    "from gorillatracker.scripts.visualize_embeddings import EmbeddingProjector\n",
    "from io import BytesIO\n",
    "from bokeh.io import show, output_notebook, reset_output\n",
    "import base64\n",
    "import numpy as np\n",
    "\n",
    "output_notebook()\n",
    "to_pil_image = transforms.ToPILImage()\n",
    "\n",
    "images = []\n",
    "for image in df[\"input\"]:\n",
    "    buffer = BytesIO()\n",
    "    image.save(buffer, format=\"JPEG\")\n",
    "    image_byte = base64.b64encode(buffer.getvalue()).decode(\"utf-8\")\n",
    "    images.append(image_byte)\n",
    "\n",
    "ep = EmbeddingProjector()\n",
    "low_dim_embeddings = ep.reduce_dimensions(np.stack(df[\"embedding\"]))\n",
    "fig = ep.plot_clusters(\n",
    "    low_dim_embeddings, df[\"label\"], df[\"label_string\"], images, title=\"Embedding Projector\", figsize=(12, 10)\n",
    ")\n",
    "show(fig)\n",
    "reset_output()"
   ]
  },
  {
   "cell_type": "code",
   "execution_count": null,
   "metadata": {},
   "outputs": [],
   "source": [
    "print(\"Hello world!\")"
   ]
  }
 ],
 "metadata": {
  "kernelspec": {
   "display_name": "Python 3",
   "language": "python",
   "name": "python3"
  },
  "language_info": {
   "codemirror_mode": {
    "name": "ipython",
    "version": 3
   },
   "file_extension": ".py",
   "mimetype": "text/x-python",
   "name": "python",
   "nbconvert_exporter": "python",
   "pygments_lexer": "ipython3",
   "version": "3.10.14"
  }
 },
 "nbformat": 4,
 "nbformat_minor": 2
}

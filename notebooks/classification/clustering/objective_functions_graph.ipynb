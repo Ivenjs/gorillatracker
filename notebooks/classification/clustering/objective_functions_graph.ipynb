{
 "cells": [
  {
   "cell_type": "code",
   "execution_count": 24,
   "metadata": {},
   "outputs": [],
   "source": [
    "from gorillatracker.classification.thesis_latex import latexify\n",
    "\n",
    "latexify()"
   ]
  },
  {
   "cell_type": "code",
   "execution_count": 25,
   "metadata": {},
   "outputs": [],
   "source": [
    "from matplotlib import pyplot as plt\n",
    "import pandas as pd\n",
    "\n",
    "\n",
    "def generate(is_cosine: bool = False):\n",
    "    dataset = \"SPAC+min3\"\n",
    "    model = \"ViT-Finetuned\"\n",
    "    algorithm = \"KMeans\"\n",
    "\n",
    "    suffix = \"_cosine\" if is_cosine else \"_euclidean\"\n",
    "    metrics_df = pd.read_pickle(f\"/workspaces/gorillatracker/sep29_clustering_results{suffix}.pkl\")\n",
    "    # print(metrics_df.columns)\n",
    "\n",
    "    # Filter the data for SPAC+min3 ViT-Finetuned KMeans\n",
    "    filtered_df = metrics_df[\n",
    "        (metrics_df[\"dataset\"] == dataset) & (metrics_df[\"model\"] == model) & (metrics_df[\"algorithm\"] == algorithm)\n",
    "    ]\n",
    "\n",
    "    # Sort by number of clusters\n",
    "    filtered_df = filtered_df.sort_values(by=\"n_clusters\")\n",
    "\n",
    "    grid = (2, 2)\n",
    "    # Create the 1x4 subplot\n",
    "    fig, axs = plt.subplots(*grid, figsize=(20, 10))\n",
    "    # fig.suptitle('KMeans Performance Metrics for SPAC+min3 ViT-Finetuned', fontsize=16)\n",
    "\n",
    "    axs = axs.flatten()\n",
    "    # Plot Silhouette Coefficient\n",
    "    axs[0].plot(filtered_df[\"n_clusters\"], filtered_df[\"silhouette_coefficient\"])\n",
    "    axs[0].set_title(\"Silhouette Coefficient\", fontsize=14)\n",
    "    axs[0].set_xlabel(\"Number of Clusters\")\n",
    "    axs[0].set_ylabel(\"Score\")\n",
    "\n",
    "    # Plot Calinski-Harabasz Index\n",
    "    axs[1].plot(filtered_df[\"n_clusters\"], filtered_df[\"calinski_harabasz_index\"])\n",
    "    axs[1].set_title(\"Calinski-Harabasz Index\", fontsize=14)\n",
    "    axs[1].set_xlabel(\"Number of Clusters\")\n",
    "    axs[1].set_ylabel(\"Score\")\n",
    "\n",
    "    # Plot Davies-Bouldin Index\n",
    "    axs[2].plot(filtered_df[\"n_clusters\"], filtered_df[\"davies_bouldin_index\"])\n",
    "    axs[2].set_title(\"Davies-Bouldin Index\", fontsize=14)\n",
    "    axs[2].set_xlabel(\"Number of Clusters\")\n",
    "    axs[2].set_ylabel(\"Score\")\n",
    "\n",
    "    # Plot Dunn Index\n",
    "    axs[3].plot(filtered_df[\"n_clusters\"], filtered_df[\"dunn_index\"])\n",
    "    axs[3].set_title(\"Dunn Index\", fontsize=14)\n",
    "    axs[3].set_xlabel(\"Number of Clusters\")\n",
    "    axs[3].set_ylabel(\"Score\")\n",
    "\n",
    "    # Adjust layout and display the plot\n",
    "    plt.tight_layout()\n",
    "    name = f\"results/objective_functions_graphs{suffix}.pdf\"\n",
    "    path = f\"/workspaces/gorillatracker/{name}\"\n",
    "    plt.savefig(path, dpi=300, bbox_inches=\"tight\")\n",
    "    description_suffix = \" (Cosine Similarity)\" if is_cosine else \" (Euclidean Distance)\"\n",
    "    label_suffix = \"-cosine\" if is_cosine else \"-euclidean\"\n",
    "    print(\n",
    "        r\"\"\"\n",
    "    \\begin{figure}[htb]\n",
    "        \\includegraphics[width = 1.0\\textwidth]{\"\"\"\n",
    "        + name\n",
    "        + r\"\"\"}\n",
    "        \\caption{\"\"\"\n",
    "        + f\"Objetive Functions for Sweep over {algorithm} on {dataset} {model}{description_suffix}\"\n",
    "        + r\"\"\"}\n",
    "        \\label{fig:objective-functions-graphs\"\"\"\n",
    "        + label_suffix\n",
    "        + r\"\"\"}\n",
    "    \\end{figure}\n",
    "    \"\"\"\n",
    "    )"
   ]
  },
  {
   "cell_type": "code",
   "execution_count": 26,
   "metadata": {},
   "outputs": [
    {
     "name": "stdout",
     "output_type": "stream",
     "text": [
      "\n",
      "    \\begin{figure}[htb]\n",
      "        \\includegraphics[width = 1.0\\textwidth]{results/objective_functions_graphs_euclidean.pdf}\n",
      "        \\caption{Objetive Functions for Sweep over KMeans on SPAC+min3 ViT-Finetuned (Euclidean Distance)}\n",
      "        \\label{fig:objective-functions-graphs-euclidean}\n",
      "    \\end{figure}\n",
      "    \n"
     ]
    }
   ],
   "source": [
    "generate(is_cosine=False)"
   ]
  },
  {
   "cell_type": "code",
   "execution_count": 27,
   "metadata": {},
   "outputs": [
    {
     "name": "stdout",
     "output_type": "stream",
     "text": [
      "\n",
      "    \\begin{figure}[htb]\n",
      "        \\includegraphics[width = 1.0\\textwidth]{results/objective_functions_graphs_cosine.pdf}\n",
      "        \\caption{Objetive Functions for Sweep over KMeans on SPAC+min3 ViT-Finetuned (Cosine Similarity)}\n",
      "        \\label{fig:objective-functions-graphs-cosine}\n",
      "    \\end{figure}\n",
      "    \n"
     ]
    }
   ],
   "source": [
    "generate(is_cosine=True)"
   ]
  }
 ],
 "metadata": {
  "kernelspec": {
   "display_name": "Python 3",
   "language": "python",
   "name": "python3"
  },
  "language_info": {
   "codemirror_mode": {
    "name": "ipython",
    "version": 3
   },
   "file_extension": ".py",
   "mimetype": "text/x-python",
   "name": "python",
   "nbconvert_exporter": "python",
   "pygments_lexer": "ipython3",
   "version": "3.10.14"
  }
 },
 "nbformat": 4,
 "nbformat_minor": 2
}

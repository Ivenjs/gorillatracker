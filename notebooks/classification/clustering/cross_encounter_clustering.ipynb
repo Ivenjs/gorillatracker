{
 "cells": [
  {
   "cell_type": "code",
   "execution_count": null,
   "metadata": {},
   "outputs": [],
   "source": [
    "import pandas as pd\n",
    "from gorillatracker.classification.clustering import EXT_MERGED_DF\n",
    "\n",
    "df = EXT_MERGED_DF\n",
    "spac = df[(df[\"dataset\"] == \"SPAC+min3\") & (df[\"model\"] == \"ViT-Finetuned\")]\n",
    "bristol = df[(df[\"dataset\"] == \"Bristol\") & (df[\"model\"] == \"ViT-Finetuned\")]"
   ]
  },
  {
   "cell_type": "code",
   "execution_count": null,
   "metadata": {},
   "outputs": [],
   "source": [
    "import pandas as pd\n",
    "import numpy as np\n",
    "from sklearn.manifold import TSNE\n",
    "import matplotlib.pyplot as plt\n",
    "import seaborn as sns\n",
    "\n",
    "# Assuming your dataframe is named df and has columns 'embedding' (ndarray) and 'label' (int)\n",
    "def run_tsne_and_plot(df):\n",
    "    # Extract embeddings and labels\n",
    "    embeddings = np.vstack(df['embedding'].values)  # Assuming each embedding is an ndarray\n",
    "    labels = df['label'].values\n",
    "\n",
    "    # Run t-SNE\n",
    "    tsne = TSNE(n_components=2, random_state=42)\n",
    "    tsne_results = tsne.fit_transform(embeddings)\n",
    "\n",
    "    # Create a dataframe for the results\n",
    "    tsne_df = pd.DataFrame(tsne_results, columns=['tsne_1', 'tsne_2'])\n",
    "    tsne_df['label'] = labels\n",
    "\n",
    "    # Plot the results with seaborn, colored by label\n",
    "    plt.figure(figsize=(10, 8))\n",
    "    sns.scatterplot(\n",
    "        x='tsne_1', y='tsne_2',\n",
    "        hue='label',\n",
    "        palette=sns.color_palette(\"hsv\", len(np.unique(labels))),\n",
    "        data=tsne_df,\n",
    "        legend=\"full\",\n",
    "        alpha=0.8\n",
    "    )\n",
    "\n",
    "    plt.title('t-SNE of Embeddings Colored by Label')\n",
    "    plt.show()"
   ]
  },
  {
   "cell_type": "code",
   "execution_count": null,
   "metadata": {},
   "outputs": [],
   "source": [
    "run_tsne_and_plot(spac)"
   ]
  },
  {
   "cell_type": "code",
   "execution_count": null,
   "metadata": {},
   "outputs": [],
   "source": [
    "run_tsne_and_plot(bristol)"
   ]
  }
 ],
 "metadata": {
  "kernelspec": {
   "display_name": "Python 3",
   "language": "python",
   "name": "python3"
  },
  "language_info": {
   "codemirror_mode": {
    "name": "ipython",
    "version": 3
   },
   "file_extension": ".py",
   "mimetype": "text/x-python",
   "name": "python",
   "nbconvert_exporter": "python",
   "pygments_lexer": "ipython3",
   "version": "3.10.14"
  }
 },
 "nbformat": 4,
 "nbformat_minor": 2
}

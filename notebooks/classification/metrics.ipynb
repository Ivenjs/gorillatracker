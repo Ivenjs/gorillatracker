{
 "cells": [
  {
   "cell_type": "code",
   "execution_count": null,
   "metadata": {},
   "outputs": [],
   "source": [
    "import pandas as pd\n",
    "import numpy as np\n",
    "\n",
    "merged_df = pd.read_pickle(\"merged.pkl\")\n",
    "vitf_spac = merged_df[(merged_df[\"model\"] == \"ViT-Finetuned\") & (merged_df[\"dataset\"] == \"SPAC\")]\n",
    "df = vitf_spac"
   ]
  },
  {
   "cell_type": "code",
   "execution_count": null,
   "metadata": {},
   "outputs": [],
   "source": [
    "from gorillatracker.classification.metrics import analyse_embedding_space, format_metrics, formatted_names\n",
    "\n",
    "metrics = analyse_embedding_space(df)\n",
    "format_metrics(metrics)"
   ]
  },
  {
   "cell_type": "code",
   "execution_count": null,
   "metadata": {},
   "outputs": [],
   "source": [
    "def create_latex_table(metrics, formatted_names):\n",
    "    latex_table = r\"\"\"\n",
    "\\begin{table}\n",
    "    \\centering\n",
    "    \\resizebox{0.8\\paperwidth}{!}{\n",
    "    \\begin{tabular}{l *{8}{c}}\n",
    "    \\toprule\n",
    "    & \\multicolumn{2}{c}{Bristol} & \\multicolumn{2}{c}{SPAC} & \\multicolumn{2}{c}{Bristol} & \\multicolumn{2}{c}{SPAC} \\\\\n",
    "    \\cmidrule(lr){2-3} \\cmidrule(lr){4-5} \\cmidrule(lr){6-7} \\cmidrule(lr){8-9}\n",
    "    Metric & ViT-F & ViT-P & ViT-F & ViT-P & EfN-F & EfN-P & EfN-F & EfN-P \\\\\n",
    "    \\midrule\n",
    "\"\"\"\n",
    "\n",
    "    for metric, formatted_name in formatted_names.items():\n",
    "        row = f\"{formatted_name} \"\n",
    "        for model_prefix in [\"ViT-\", \"EfN-\"]:\n",
    "            for dataset in [\"Bristol\", \"SPAC\"]:\n",
    "                for model_suffix in [\"F\", \"P\"]:\n",
    "                    model = f\"{model_prefix}{model_suffix}\"\n",
    "                    value = metrics.get((model, dataset), {}).get(metric, \"-\")\n",
    "                    if isinstance(value, float):\n",
    "                        row += f\"& {value:.2f} \"\n",
    "                    else:\n",
    "                        row += f\"& {value} \"\n",
    "        row += r\"\\\\\"\n",
    "        latex_table += row + \"\\n\"\n",
    "\n",
    "    latex_table += r\"\"\"    \\bottomrule\n",
    "    \\end{tabular}\n",
    "    }\n",
    "    \\caption{Metrics comparison across models and datasets.}\n",
    "    \\label{tab:metrics-comparison}\n",
    "\\end{table}\n",
    "\"\"\"\n",
    "    return latex_table\n",
    "\n",
    "\n",
    "df = merged_df\n",
    "actual_metrics = {\n",
    "    (\"ViT-F\", \"SPAC\"): analyse_embedding_space(df[(df[\"model\"] == \"ViT-Finetuned\") & (df[\"dataset\"] == \"SPAC\")]),\n",
    "    (\"ViT-P\", \"SPAC\"): analyse_embedding_space(df[(df[\"model\"] == \"ViT-Pretrained\") & (df[\"dataset\"] == \"SPAC\")]),\n",
    "    # ('EfN-F', 'SPAC'): analyse_embedding_space(df[(df['model'] == 'EfN-Finetuned') & (df['dataset'] == 'SPAC')]),\n",
    "    (\"EfN-P\", \"SPAC\"): analyse_embedding_space(df[(df[\"model\"] == \"EfN-Pretrained\") & (df[\"dataset\"] == \"SPAC\")]),\n",
    "    (\"ViT-F\", \"Bristol\"): analyse_embedding_space(df[(df[\"model\"] == \"ViT-Finetuned\") & (df[\"dataset\"] == \"Bristol\")]),\n",
    "    (\"ViT-P\", \"Bristol\"): analyse_embedding_space(df[(df[\"model\"] == \"ViT-Pretrained\") & (df[\"dataset\"] == \"Bristol\")]),\n",
    "    # ('EfN-F', 'Bristol'): analyse_embedding_space(df[(df['model'] == 'EfN-Finetuned') & (df['dataset'] == 'Bristol')]),\n",
    "    (\"EfN-P\", \"Bristol\"): analyse_embedding_space(df[(df[\"model\"] == \"EfN-Pretrained\") & (df[\"dataset\"] == \"Bristol\")]),\n",
    "}\n",
    "\n",
    "print(create_latex_table(actual_metrics, formatted_names))"
   ]
  }
 ],
 "metadata": {
  "kernelspec": {
   "display_name": "Python 3",
   "language": "python",
   "name": "python3"
  },
  "language_info": {
   "codemirror_mode": {
    "name": "ipython",
    "version": 3
   },
   "file_extension": ".py",
   "mimetype": "text/x-python",
   "name": "python",
   "nbconvert_exporter": "python",
   "pygments_lexer": "ipython3",
   "version": "3.10.14"
  }
 },
 "nbformat": 4,
 "nbformat_minor": 2
}

{
 "cells": [
  {
   "cell_type": "code",
   "execution_count": 1,
   "metadata": {},
   "outputs": [
    {
     "name": "stdout",
     "output_type": "stream",
     "text": [
      "Number of configurations: 60\n",
      "Number of algorithm configurations: 6836\n"
     ]
    },
    {
     "name": "stderr",
     "output_type": "stream",
     "text": [
      "Processing configurations:   0%|          | 0/12 [00:00<?, ?it/s]"
     ]
    },
    {
     "name": "stdout",
     "output_type": "stream",
     "text": [
      "Processing SPAC+min3 ViT-Finetuned KMeans\n",
      "Loading cached result for SPAC+min3, ViT-Finetuned, KMeans, {'n_clusters': 3}\n",
      "Loading cached result for SPAC+min3, ViT-Finetuned, KMeans, {'n_clusters': 8}\n",
      "Loading cached result for SPAC+min3, ViT-Finetuned, KMeans, {'n_clusters': 13}\n",
      "Loading cached result for SPAC+min3, ViT-Finetuned, KMeans, {'n_clusters': 18}\n",
      "Loading cached result for SPAC+min3, ViT-Finetuned, KMeans, {'n_clusters': 23}\n",
      "Loading cached result for SPAC+min3, ViT-Finetuned, KMeans, {'n_clusters': 28}\n",
      "Loading cached result for SPAC+min3, ViT-Finetuned, KMeans, {'n_clusters': 33}\n",
      "Loading cached result for SPAC+min3, ViT-Finetuned, KMeans, {'n_clusters': 38}\n",
      "Loading cached result for SPAC+min3, ViT-Finetuned, KMeans, {'n_clusters': 43}\n",
      "Loading cached result for SPAC+min3, ViT-Finetuned, KMeans, {'n_clusters': 48}\n",
      "Loading cached result for SPAC+min3, ViT-Finetuned, KMeans, {'n_clusters': 53}\n",
      "Loading cached result for SPAC+min3, ViT-Finetuned, KMeans, {'n_clusters': 58}\n",
      "Loading cached result for SPAC+min3, ViT-Finetuned, KMeans, {'n_clusters': 63}\n",
      "Loading cached result for SPAC+min3, ViT-Finetuned, KMeans, {'n_clusters': 68}\n",
      "Loading cached result for SPAC+min3, ViT-Finetuned, KMeans, {'n_clusters': 73}\n",
      "Loading cached result for SPAC+min3, ViT-Finetuned, KMeans, {'n_clusters': 78}\n",
      "Loading cached result for SPAC+min3, ViT-Finetuned, KMeans, {'n_clusters': 83}\n",
      "Loading cached result for SPAC+min3, ViT-Finetuned, KMeans, {'n_clusters': 88}\n",
      "Loading cached result for SPAC+min3, ViT-Finetuned, KMeans, {'n_clusters': 93}\n",
      "Loading cached result for SPAC+min3, ViT-Finetuned, KMeans, {'n_clusters': 98}\n",
      "Loading cached result for SPAC+min3, ViT-Finetuned, KMeans, {'n_clusters': 103}\n",
      "Loading cached result for SPAC+min3, ViT-Finetuned, KMeans, {'n_clusters': 108}\n",
      "Loading cached result for SPAC+min3, ViT-Finetuned, KMeans, {'n_clusters': 113}\n",
      "Loading cached result for SPAC+min3, ViT-Finetuned, KMeans, {'n_clusters': 118}\n",
      "Loading cached result for SPAC+min3, ViT-Finetuned, KMeans, {'n_clusters': 123}\n",
      "Loading cached result for SPAC+min3, ViT-Finetuned, KMeans, {'n_clusters': 128}\n",
      "Loading cached result for SPAC+min3, ViT-Finetuned, KMeans, {'n_clusters': 133}\n",
      "Loading cached result for SPAC+min3, ViT-Finetuned, KMeans, {'n_clusters': 138}\n",
      "Loading cached result for SPAC+min3, ViT-Finetuned, KMeans, {'n_clusters': 143}\n",
      "Loading cached result for SPAC+min3, ViT-Finetuned, KMeans, {'n_clusters': 148}\n",
      "Loading cached result for SPAC+min3, ViT-Finetuned, KMeans, {'n_clusters': 153}\n",
      "Loading cached result for SPAC+min3, ViT-Finetuned, KMeans, {'n_clusters': 158}\n",
      "Loading cached result for SPAC+min3, ViT-Finetuned, KMeans, {'n_clusters': 163}\n",
      "Loading cached result for SPAC+min3, ViT-Finetuned, KMeans, {'n_clusters': 168}\n",
      "Loading cached result for SPAC+min3, ViT-Finetuned, KMeans, {'n_clusters': 173}\n",
      "Loading cached result for SPAC+min3, ViT-Finetuned, KMeans, {'n_clusters': 178}\n",
      "Loading cached result for SPAC+min3, ViT-Finetuned, KMeans, {'n_clusters': 183}\n",
      "Loading cached result for SPAC+min3, ViT-Finetuned, KMeans, {'n_clusters': 188}\n",
      "Loading cached result for SPAC+min3, ViT-Finetuned, KMeans, {'n_clusters': 193}\n",
      "Loading cached result for SPAC+min3, ViT-Finetuned, KMeans, {'n_clusters': 198}\n",
      "Loading cached result for SPAC+min3, ViT-Finetuned, KMeans, {'n_clusters': 203}\n",
      "Loading cached result for SPAC+min3, ViT-Finetuned, KMeans, {'n_clusters': 208}\n",
      "Loading cached result for SPAC+min3, ViT-Finetuned, KMeans, {'n_clusters': 213}\n",
      "Loading cached result for SPAC+min3, ViT-Finetuned, KMeans, {'n_clusters': 218}\n",
      "Loading cached result for SPAC+min3, ViT-Finetuned, KMeans, {'n_clusters': 223}\n",
      "Loading cached result for SPAC+min3, ViT-Finetuned, KMeans, {'n_clusters': 228}\n",
      "Loading cached result for SPAC+min3, ViT-Finetuned, KMeans, {'n_clusters': 233}\n",
      "Loading cached result for SPAC+min3, ViT-Finetuned, KMeans, {'n_clusters': 238}\n",
      "Loading cached result for SPAC+min3, ViT-Finetuned, KMeans, {'n_clusters': 243}\n",
      "Loading cached result for SPAC+min3, ViT-Finetuned, KMeans, {'n_clusters': 248}\n",
      "Loading cached result for SPAC+min3, ViT-Finetuned, KMeans, {'n_clusters': 253}\n",
      "Loading cached result for SPAC+min3, ViT-Finetuned, KMeans, {'n_clusters': 258}\n",
      "Loading cached result for SPAC+min3, ViT-Finetuned, KMeans, {'n_clusters': 263}\n",
      "Loading cached result for SPAC+min3, ViT-Finetuned, KMeans, {'n_clusters': 268}\n",
      "Loading cached result for SPAC+min3, ViT-Finetuned, KMeans, {'n_clusters': 273}\n",
      "Loading cached result for SPAC+min3, ViT-Finetuned, KMeans, {'n_clusters': 278}\n",
      "Loading cached result for SPAC+min3, ViT-Finetuned, KMeans, {'n_clusters': 283}\n",
      "Loading cached result for SPAC+min3, ViT-Finetuned, KMeans, {'n_clusters': 288}\n",
      "Loading cached result for SPAC+min3, ViT-Finetuned, KMeans, {'n_clusters': 293}\n",
      "Loading cached result for SPAC+min3, ViT-Finetuned, KMeans, {'n_clusters': 298}\n",
      "Loading cached result for SPAC+min3, ViT-Finetuned, KMeans, {'n_clusters': 303}\n",
      "Loading cached result for SPAC+min3, ViT-Finetuned, KMeans, {'n_clusters': 308}\n",
      "Loading cached result for SPAC+min3, ViT-Finetuned, KMeans, {'n_clusters': 313}\n",
      "Loading cached result for SPAC+min3, ViT-Finetuned, KMeans, {'n_clusters': 318}\n",
      "Loading cached result for SPAC+min3, ViT-Finetuned, KMeans, {'n_clusters': 323}\n",
      "Loading cached result for SPAC+min3, ViT-Finetuned, KMeans, {'n_clusters': 328}\n",
      "Loading cached result for SPAC+min3, ViT-Finetuned, KMeans, {'n_clusters': 333}\n",
      "Loading cached result for SPAC+min3, ViT-Finetuned, KMeans, {'n_clusters': 338}\n",
      "Loading cached result for SPAC+min3, ViT-Finetuned, KMeans, {'n_clusters': 343}\n",
      "Loading cached result for SPAC+min3, ViT-Finetuned, KMeans, {'n_clusters': 348}\n",
      "Loading cached result for SPAC+min3, ViT-Finetuned, KMeans, {'n_clusters': 353}\n",
      "Loading cached result for SPAC+min3, ViT-Finetuned, KMeans, {'n_clusters': 358}\n",
      "Loading cached result for SPAC+min3, ViT-Finetuned, KMeans, {'n_clusters': 363}\n",
      "Loading cached result for SPAC+min3, ViT-Finetuned, KMeans, {'n_clusters': 368}\n",
      "Loading cached result for SPAC+min3, ViT-Finetuned, KMeans, {'n_clusters': 373}\n",
      "Loading cached result for SPAC+min3, ViT-Finetuned, KMeans, {'n_clusters': 378}\n",
      "Loading cached result for SPAC+min3, ViT-Finetuned, KMeans, {'n_clusters': 383}\n",
      "Loading cached result for SPAC+min3, ViT-Finetuned, KMeans, {'n_clusters': 388}\n",
      "Loading cached result for SPAC+min3, ViT-Finetuned, KMeans, {'n_clusters': 393}\n",
      "Loading cached result for SPAC+min3, ViT-Finetuned, KMeans, {'n_clusters': 398}\n",
      "Loading cached result for SPAC+min3, ViT-Finetuned, KMeans, {'n_clusters': 403}\n",
      "Loading cached result for SPAC+min3, ViT-Finetuned, KMeans, {'n_clusters': 408}\n",
      "Loading cached result for SPAC+min3, ViT-Finetuned, KMeans, {'n_clusters': 413}\n",
      "Loading cached result for SPAC+min3, ViT-Finetuned, KMeans, {'n_clusters': 418}\n",
      "Loading cached result for SPAC+min3, ViT-Finetuned, KMeans, {'n_clusters': 423}\n",
      "Loading cached result for SPAC+min3, ViT-Finetuned, KMeans, {'n_clusters': 428}\n",
      "Loading cached result for SPAC+min3, ViT-Finetuned, KMeans, {'n_clusters': 433}\n",
      "Loading cached result for SPAC+min3, ViT-Finetuned, KMeans, {'n_clusters': 438}\n",
      "Loading cached result for SPAC+min3, ViT-Finetuned, KMeans, {'n_clusters': 443}\n",
      "Loading cached result for SPAC+min3, ViT-Finetuned, KMeans, {'n_clusters': 448}\n",
      "Loading cached result for SPAC+min3, ViT-Finetuned, KMeans, {'n_clusters': 453}\n",
      "Loading cached result for SPAC+min3, ViT-Finetuned, KMeans, {'n_clusters': 458}\n",
      "Loading cached result for SPAC+min3, ViT-Finetuned, KMeans, {'n_clusters': 463}\n",
      "Loading cached result for SPAC+min3, ViT-Finetuned, KMeans, {'n_clusters': 468}\n",
      "Loading cached result for SPAC+min3, ViT-Finetuned, KMeans, {'n_clusters': 473}\n",
      "Loading cached result for SPAC+min3, ViT-Finetuned, KMeans, {'n_clusters': 478}\n",
      "Loading cached result for SPAC+min3, ViT-Finetuned, KMeans, {'n_clusters': 483}\n",
      "Loading cached result for SPAC+min3, ViT-Finetuned, KMeans, {'n_clusters': 488}\n",
      "Loading cached result for SPAC+min3, ViT-Finetuned, KMeans, {'n_clusters': 493}\n",
      "Loading cached result for SPAC+min3, ViT-Finetuned, KMeans, {'n_clusters': 498}\n",
      "Loading cached result for SPAC+min3, ViT-Finetuned, KMeans, {'n_clusters': 503}\n",
      "Loading cached result for SPAC+min3, ViT-Finetuned, KMeans, {'n_clusters': 508}\n",
      "Loading cached result for SPAC+min3, ViT-Finetuned, KMeans, {'n_clusters': 513}\n",
      "Loading cached result for SPAC+min3, ViT-Finetuned, KMeans, {'n_clusters': 518}\n",
      "Loading cached result for SPAC+min3, ViT-Finetuned, KMeans, {'n_clusters': 523}\n",
      "Loading cached result for SPAC+min3, ViT-Finetuned, KMeans, {'n_clusters': 528}\n",
      "Loading cached result for SPAC+min3, ViT-Finetuned, KMeans, {'n_clusters': 533}\n",
      "Loading cached result for SPAC+min3, ViT-Finetuned, KMeans, {'n_clusters': 538}\n",
      "Loading cached result for SPAC+min3, ViT-Finetuned, KMeans, {'n_clusters': 543}\n",
      "Loading cached result for SPAC+min3, ViT-Finetuned, KMeans, {'n_clusters': 548}\n",
      "Loading cached result for SPAC+min3, ViT-Finetuned, KMeans, {'n_clusters': 553}\n",
      "Loading cached result for SPAC+min3, ViT-Finetuned, KMeans, {'n_clusters': 558}\n",
      "Loading cached result for SPAC+min3, ViT-Finetuned, KMeans, {'n_clusters': 563}\n",
      "Loading cached result for SPAC+min3, ViT-Finetuned, KMeans, {'n_clusters': 568}\n",
      "Loading cached result for SPAC+min3, ViT-Finetuned, KMeans, {'n_clusters': 573}\n",
      "Loading cached result for SPAC+min3, ViT-Finetuned, KMeans, {'n_clusters': 578}\n",
      "Loading cached result for SPAC+min3, ViT-Finetuned, KMeans, {'n_clusters': 583}\n",
      "Loading cached result for SPAC+min3, ViT-Finetuned, KMeans, {'n_clusters': 588}\n",
      "Loading cached result for SPAC+min3, ViT-Finetuned, KMeans, {'n_clusters': 593}\n",
      "Loading cached result for SPAC+min3, ViT-Finetuned, KMeans, {'n_clusters': 598}\n",
      "Loading cached result for SPAC+min3, ViT-Finetuned, KMeans, {'n_clusters': 603}\n",
      "Loading cached result for SPAC+min3, ViT-Finetuned, KMeans, {'n_clusters': 608}\n",
      "Loading cached result for SPAC+min3, ViT-Finetuned, KMeans, {'n_clusters': 613}\n",
      "Loading cached result for SPAC+min3, ViT-Finetuned, KMeans, {'n_clusters': 618}\n",
      "Loading cached result for SPAC+min3, ViT-Finetuned, KMeans, {'n_clusters': 623}\n",
      "Loading cached result for SPAC+min3, ViT-Finetuned, KMeans, {'n_clusters': 628}\n",
      "Loading cached result for SPAC+min3, ViT-Finetuned, KMeans, {'n_clusters': 633}\n",
      "Loading cached result for SPAC+min3, ViT-Finetuned, KMeans, {'n_clusters': 638}\n",
      "Loading cached result for SPAC+min3, ViT-Finetuned, KMeans, {'n_clusters': 643}\n",
      "Loading cached result for SPAC+min3, ViT-Finetuned, KMeans, {'n_clusters': 648}\n",
      "Loading cached result for SPAC+min3, ViT-Finetuned, KMeans, {'n_clusters': 653}\n",
      "Loading cached result for SPAC+min3, ViT-Finetuned, KMeans, {'n_clusters': 658}\n",
      "Loading cached result for SPAC+min3, ViT-Finetuned, KMeans, {'n_clusters': 663}\n",
      "Loading cached result for SPAC+min3, ViT-Finetuned, KMeans, {'n_clusters': 668}\n",
      "Loading cached result for SPAC+min3, ViT-Finetuned, KMeans, {'n_clusters': 673}\n",
      "Loading cached result for SPAC+min3, ViT-Finetuned, KMeans, {'n_clusters': 678}\n",
      "Loading cached result for SPAC+min3, ViT-Finetuned, KMeans, {'n_clusters': 683}\n",
      "Loading cached result for SPAC+min3, ViT-Finetuned, KMeans, {'n_clusters': 688}\n",
      "Loading cached result for SPAC+min3, ViT-Finetuned, KMeans, {'n_clusters': 693}\n",
      "Loading cached result for SPAC+min3, ViT-Finetuned, KMeans, {'n_clusters': 698}\n",
      "Loading cached result for SPAC+min3, ViT-Finetuned, KMeans, {'n_clusters': 703}\n",
      "Loading cached result for SPAC+min3, ViT-Finetuned, KMeans, {'n_clusters': 708}\n",
      "Loading cached result for SPAC+min3, ViT-Finetuned, KMeans, {'n_clusters': 713}\n",
      "Loading cached result for SPAC+min3, ViT-Finetuned, KMeans, {'n_clusters': 718}\n",
      "Processing SPAC+min3 ViT-Finetuned AgglomerativeClustering\n",
      "Processing SPAC+min3 ViT-Finetuned AgglomerativeClustering {'n_clusters': 3}\n"
     ]
    },
    {
     "name": "stderr",
     "output_type": "stream",
     "text": [
      "/opt/conda/envs/research/lib/python3.10/site-packages/sklearn/metrics/_classification.py:1531: UndefinedMetricWarning: Precision is ill-defined and being set to 0.0 in labels with no predicted samples. Use `zero_division` parameter to control this behavior.\n",
      "  _warn_prf(average, modifier, f\"{metric.capitalize()} is\", len(result))\n"
     ]
    },
    {
     "name": "stdout",
     "output_type": "stream",
     "text": [
      "Processing SPAC+min3 ViT-Finetuned AgglomerativeClustering {'n_clusters': 8}\n"
     ]
    },
    {
     "name": "stderr",
     "output_type": "stream",
     "text": [
      "/opt/conda/envs/research/lib/python3.10/site-packages/sklearn/metrics/_classification.py:1531: UndefinedMetricWarning: Precision is ill-defined and being set to 0.0 in labels with no predicted samples. Use `zero_division` parameter to control this behavior.\n",
      "  _warn_prf(average, modifier, f\"{metric.capitalize()} is\", len(result))\n"
     ]
    },
    {
     "name": "stdout",
     "output_type": "stream",
     "text": [
      "Processing SPAC+min3 ViT-Finetuned AgglomerativeClustering {'n_clusters': 13}\n"
     ]
    },
    {
     "name": "stderr",
     "output_type": "stream",
     "text": [
      "/opt/conda/envs/research/lib/python3.10/site-packages/sklearn/metrics/_classification.py:1531: UndefinedMetricWarning: Precision is ill-defined and being set to 0.0 in labels with no predicted samples. Use `zero_division` parameter to control this behavior.\n",
      "  _warn_prf(average, modifier, f\"{metric.capitalize()} is\", len(result))\n"
     ]
    },
    {
     "name": "stdout",
     "output_type": "stream",
     "text": [
      "Processing SPAC+min3 ViT-Finetuned AgglomerativeClustering {'n_clusters': 18}\n"
     ]
    },
    {
     "name": "stderr",
     "output_type": "stream",
     "text": [
      "/opt/conda/envs/research/lib/python3.10/site-packages/sklearn/metrics/_classification.py:1531: UndefinedMetricWarning: Precision is ill-defined and being set to 0.0 in labels with no predicted samples. Use `zero_division` parameter to control this behavior.\n",
      "  _warn_prf(average, modifier, f\"{metric.capitalize()} is\", len(result))\n"
     ]
    },
    {
     "name": "stdout",
     "output_type": "stream",
     "text": [
      "Processing SPAC+min3 ViT-Finetuned AgglomerativeClustering {'n_clusters': 23}\n"
     ]
    },
    {
     "name": "stderr",
     "output_type": "stream",
     "text": [
      "/opt/conda/envs/research/lib/python3.10/site-packages/sklearn/metrics/_classification.py:1531: UndefinedMetricWarning: Precision is ill-defined and being set to 0.0 in labels with no predicted samples. Use `zero_division` parameter to control this behavior.\n",
      "  _warn_prf(average, modifier, f\"{metric.capitalize()} is\", len(result))\n"
     ]
    },
    {
     "name": "stdout",
     "output_type": "stream",
     "text": [
      "Processing SPAC+min3 ViT-Finetuned AgglomerativeClustering {'n_clusters': 28}\n"
     ]
    },
    {
     "name": "stderr",
     "output_type": "stream",
     "text": [
      "/opt/conda/envs/research/lib/python3.10/site-packages/sklearn/metrics/_classification.py:1531: UndefinedMetricWarning: Precision is ill-defined and being set to 0.0 in labels with no predicted samples. Use `zero_division` parameter to control this behavior.\n",
      "  _warn_prf(average, modifier, f\"{metric.capitalize()} is\", len(result))\n"
     ]
    },
    {
     "name": "stdout",
     "output_type": "stream",
     "text": [
      "Processing SPAC+min3 ViT-Finetuned AgglomerativeClustering {'n_clusters': 33}\n"
     ]
    },
    {
     "name": "stderr",
     "output_type": "stream",
     "text": [
      "/opt/conda/envs/research/lib/python3.10/site-packages/sklearn/metrics/_classification.py:1531: UndefinedMetricWarning: Precision is ill-defined and being set to 0.0 in labels with no predicted samples. Use `zero_division` parameter to control this behavior.\n",
      "  _warn_prf(average, modifier, f\"{metric.capitalize()} is\", len(result))\n"
     ]
    },
    {
     "name": "stdout",
     "output_type": "stream",
     "text": [
      "Processing SPAC+min3 ViT-Finetuned AgglomerativeClustering {'n_clusters': 38}\n"
     ]
    },
    {
     "name": "stderr",
     "output_type": "stream",
     "text": [
      "/opt/conda/envs/research/lib/python3.10/site-packages/sklearn/metrics/_classification.py:1531: UndefinedMetricWarning: Precision is ill-defined and being set to 0.0 in labels with no predicted samples. Use `zero_division` parameter to control this behavior.\n",
      "  _warn_prf(average, modifier, f\"{metric.capitalize()} is\", len(result))\n"
     ]
    },
    {
     "name": "stdout",
     "output_type": "stream",
     "text": [
      "Processing SPAC+min3 ViT-Finetuned AgglomerativeClustering {'n_clusters': 43}\n"
     ]
    },
    {
     "name": "stderr",
     "output_type": "stream",
     "text": [
      "/opt/conda/envs/research/lib/python3.10/site-packages/sklearn/metrics/_classification.py:1531: UndefinedMetricWarning: Precision is ill-defined and being set to 0.0 in labels with no predicted samples. Use `zero_division` parameter to control this behavior.\n",
      "  _warn_prf(average, modifier, f\"{metric.capitalize()} is\", len(result))\n"
     ]
    },
    {
     "name": "stdout",
     "output_type": "stream",
     "text": [
      "Processing SPAC+min3 ViT-Finetuned AgglomerativeClustering {'n_clusters': 48}\n"
     ]
    },
    {
     "name": "stderr",
     "output_type": "stream",
     "text": [
      "/opt/conda/envs/research/lib/python3.10/site-packages/sklearn/metrics/_classification.py:1531: UndefinedMetricWarning: Precision is ill-defined and being set to 0.0 in labels with no predicted samples. Use `zero_division` parameter to control this behavior.\n",
      "  _warn_prf(average, modifier, f\"{metric.capitalize()} is\", len(result))\n"
     ]
    },
    {
     "name": "stdout",
     "output_type": "stream",
     "text": [
      "Processing SPAC+min3 ViT-Finetuned AgglomerativeClustering {'n_clusters': 53}\n"
     ]
    },
    {
     "name": "stderr",
     "output_type": "stream",
     "text": [
      "/opt/conda/envs/research/lib/python3.10/site-packages/sklearn/metrics/_classification.py:1531: UndefinedMetricWarning: Precision is ill-defined and being set to 0.0 in labels with no predicted samples. Use `zero_division` parameter to control this behavior.\n",
      "  _warn_prf(average, modifier, f\"{metric.capitalize()} is\", len(result))\n"
     ]
    },
    {
     "name": "stdout",
     "output_type": "stream",
     "text": [
      "Processing SPAC+min3 ViT-Finetuned AgglomerativeClustering {'n_clusters': 58}\n"
     ]
    },
    {
     "name": "stderr",
     "output_type": "stream",
     "text": [
      "/opt/conda/envs/research/lib/python3.10/site-packages/sklearn/metrics/_classification.py:1531: UndefinedMetricWarning: Precision is ill-defined and being set to 0.0 in labels with no predicted samples. Use `zero_division` parameter to control this behavior.\n",
      "  _warn_prf(average, modifier, f\"{metric.capitalize()} is\", len(result))\n"
     ]
    },
    {
     "name": "stdout",
     "output_type": "stream",
     "text": [
      "Processing SPAC+min3 ViT-Finetuned AgglomerativeClustering {'n_clusters': 63}\n"
     ]
    },
    {
     "name": "stderr",
     "output_type": "stream",
     "text": [
      "/opt/conda/envs/research/lib/python3.10/site-packages/sklearn/metrics/_classification.py:1531: UndefinedMetricWarning: Precision is ill-defined and being set to 0.0 in labels with no predicted samples. Use `zero_division` parameter to control this behavior.\n",
      "  _warn_prf(average, modifier, f\"{metric.capitalize()} is\", len(result))\n"
     ]
    },
    {
     "name": "stdout",
     "output_type": "stream",
     "text": [
      "Processing SPAC+min3 ViT-Finetuned AgglomerativeClustering {'n_clusters': 68}\n"
     ]
    },
    {
     "name": "stderr",
     "output_type": "stream",
     "text": [
      "/opt/conda/envs/research/lib/python3.10/site-packages/sklearn/metrics/_classification.py:1531: UndefinedMetricWarning: Precision is ill-defined and being set to 0.0 in labels with no predicted samples. Use `zero_division` parameter to control this behavior.\n",
      "  _warn_prf(average, modifier, f\"{metric.capitalize()} is\", len(result))\n"
     ]
    },
    {
     "name": "stdout",
     "output_type": "stream",
     "text": [
      "Processing SPAC+min3 ViT-Finetuned AgglomerativeClustering {'n_clusters': 73}\n"
     ]
    },
    {
     "name": "stderr",
     "output_type": "stream",
     "text": [
      "/opt/conda/envs/research/lib/python3.10/site-packages/sklearn/metrics/_classification.py:1531: UndefinedMetricWarning: Precision is ill-defined and being set to 0.0 in labels with no predicted samples. Use `zero_division` parameter to control this behavior.\n",
      "  _warn_prf(average, modifier, f\"{metric.capitalize()} is\", len(result))\n"
     ]
    },
    {
     "name": "stdout",
     "output_type": "stream",
     "text": [
      "Processing SPAC+min3 ViT-Finetuned AgglomerativeClustering {'n_clusters': 78}\n"
     ]
    },
    {
     "name": "stderr",
     "output_type": "stream",
     "text": [
      "/opt/conda/envs/research/lib/python3.10/site-packages/sklearn/metrics/_classification.py:1531: UndefinedMetricWarning: Precision is ill-defined and being set to 0.0 in labels with no predicted samples. Use `zero_division` parameter to control this behavior.\n",
      "  _warn_prf(average, modifier, f\"{metric.capitalize()} is\", len(result))\n"
     ]
    },
    {
     "name": "stdout",
     "output_type": "stream",
     "text": [
      "Processing SPAC+min3 ViT-Finetuned AgglomerativeClustering {'n_clusters': 83}\n"
     ]
    },
    {
     "name": "stderr",
     "output_type": "stream",
     "text": [
      "/opt/conda/envs/research/lib/python3.10/site-packages/sklearn/metrics/_classification.py:1531: UndefinedMetricWarning: Precision is ill-defined and being set to 0.0 in labels with no predicted samples. Use `zero_division` parameter to control this behavior.\n",
      "  _warn_prf(average, modifier, f\"{metric.capitalize()} is\", len(result))\n"
     ]
    },
    {
     "name": "stdout",
     "output_type": "stream",
     "text": [
      "Processing SPAC+min3 ViT-Finetuned AgglomerativeClustering {'n_clusters': 88}\n"
     ]
    },
    {
     "name": "stderr",
     "output_type": "stream",
     "text": [
      "/opt/conda/envs/research/lib/python3.10/site-packages/sklearn/metrics/_classification.py:1531: UndefinedMetricWarning: Precision is ill-defined and being set to 0.0 in labels with no predicted samples. Use `zero_division` parameter to control this behavior.\n",
      "  _warn_prf(average, modifier, f\"{metric.capitalize()} is\", len(result))\n"
     ]
    },
    {
     "name": "stdout",
     "output_type": "stream",
     "text": [
      "Processing SPAC+min3 ViT-Finetuned AgglomerativeClustering {'n_clusters': 93}\n"
     ]
    },
    {
     "name": "stderr",
     "output_type": "stream",
     "text": [
      "/opt/conda/envs/research/lib/python3.10/site-packages/sklearn/metrics/_classification.py:1531: UndefinedMetricWarning: Precision is ill-defined and being set to 0.0 in labels with no predicted samples. Use `zero_division` parameter to control this behavior.\n",
      "  _warn_prf(average, modifier, f\"{metric.capitalize()} is\", len(result))\n"
     ]
    },
    {
     "name": "stdout",
     "output_type": "stream",
     "text": [
      "Processing SPAC+min3 ViT-Finetuned AgglomerativeClustering {'n_clusters': 98}\n"
     ]
    },
    {
     "name": "stderr",
     "output_type": "stream",
     "text": [
      "/opt/conda/envs/research/lib/python3.10/site-packages/sklearn/metrics/_classification.py:1531: UndefinedMetricWarning: Precision is ill-defined and being set to 0.0 in labels with no predicted samples. Use `zero_division` parameter to control this behavior.\n",
      "  _warn_prf(average, modifier, f\"{metric.capitalize()} is\", len(result))\n"
     ]
    },
    {
     "name": "stdout",
     "output_type": "stream",
     "text": [
      "Processing SPAC+min3 ViT-Finetuned AgglomerativeClustering {'n_clusters': 103}\n"
     ]
    },
    {
     "name": "stderr",
     "output_type": "stream",
     "text": [
      "/opt/conda/envs/research/lib/python3.10/site-packages/sklearn/metrics/_classification.py:1531: UndefinedMetricWarning: Precision is ill-defined and being set to 0.0 in labels with no predicted samples. Use `zero_division` parameter to control this behavior.\n",
      "  _warn_prf(average, modifier, f\"{metric.capitalize()} is\", len(result))\n"
     ]
    },
    {
     "name": "stdout",
     "output_type": "stream",
     "text": [
      "Processing SPAC+min3 ViT-Finetuned AgglomerativeClustering {'n_clusters': 108}\n"
     ]
    },
    {
     "name": "stderr",
     "output_type": "stream",
     "text": [
      "/opt/conda/envs/research/lib/python3.10/site-packages/sklearn/metrics/_classification.py:1531: UndefinedMetricWarning: Precision is ill-defined and being set to 0.0 in labels with no predicted samples. Use `zero_division` parameter to control this behavior.\n",
      "  _warn_prf(average, modifier, f\"{metric.capitalize()} is\", len(result))\n"
     ]
    },
    {
     "name": "stdout",
     "output_type": "stream",
     "text": [
      "Processing SPAC+min3 ViT-Finetuned AgglomerativeClustering {'n_clusters': 113}\n"
     ]
    },
    {
     "name": "stderr",
     "output_type": "stream",
     "text": [
      "/opt/conda/envs/research/lib/python3.10/site-packages/sklearn/metrics/_classification.py:1531: UndefinedMetricWarning: Precision is ill-defined and being set to 0.0 in labels with no predicted samples. Use `zero_division` parameter to control this behavior.\n",
      "  _warn_prf(average, modifier, f\"{metric.capitalize()} is\", len(result))\n"
     ]
    },
    {
     "name": "stdout",
     "output_type": "stream",
     "text": [
      "Processing SPAC+min3 ViT-Finetuned AgglomerativeClustering {'n_clusters': 118}\n"
     ]
    },
    {
     "name": "stderr",
     "output_type": "stream",
     "text": [
      "/opt/conda/envs/research/lib/python3.10/site-packages/sklearn/metrics/_classification.py:1531: UndefinedMetricWarning: Precision is ill-defined and being set to 0.0 in labels with no predicted samples. Use `zero_division` parameter to control this behavior.\n",
      "  _warn_prf(average, modifier, f\"{metric.capitalize()} is\", len(result))\n"
     ]
    },
    {
     "name": "stdout",
     "output_type": "stream",
     "text": [
      "Processing SPAC+min3 ViT-Finetuned AgglomerativeClustering {'n_clusters': 123}\n"
     ]
    },
    {
     "name": "stderr",
     "output_type": "stream",
     "text": [
      "/opt/conda/envs/research/lib/python3.10/site-packages/sklearn/metrics/_classification.py:1531: UndefinedMetricWarning: Precision is ill-defined and being set to 0.0 in labels with no predicted samples. Use `zero_division` parameter to control this behavior.\n",
      "  _warn_prf(average, modifier, f\"{metric.capitalize()} is\", len(result))\n"
     ]
    },
    {
     "name": "stdout",
     "output_type": "stream",
     "text": [
      "Processing SPAC+min3 ViT-Finetuned AgglomerativeClustering {'n_clusters': 128}\n"
     ]
    },
    {
     "name": "stderr",
     "output_type": "stream",
     "text": [
      "/opt/conda/envs/research/lib/python3.10/site-packages/sklearn/metrics/_classification.py:1531: UndefinedMetricWarning: Precision is ill-defined and being set to 0.0 in labels with no predicted samples. Use `zero_division` parameter to control this behavior.\n",
      "  _warn_prf(average, modifier, f\"{metric.capitalize()} is\", len(result))\n"
     ]
    },
    {
     "name": "stdout",
     "output_type": "stream",
     "text": [
      "Processing SPAC+min3 ViT-Finetuned AgglomerativeClustering {'n_clusters': 133}\n",
      "Processing SPAC+min3 ViT-Finetuned AgglomerativeClustering {'n_clusters': 138}\n",
      "Processing SPAC+min3 ViT-Finetuned AgglomerativeClustering {'n_clusters': 143}\n",
      "Processing SPAC+min3 ViT-Finetuned AgglomerativeClustering {'n_clusters': 148}\n",
      "Processing SPAC+min3 ViT-Finetuned AgglomerativeClustering {'n_clusters': 153}\n",
      "Processing SPAC+min3 ViT-Finetuned AgglomerativeClustering {'n_clusters': 158}\n",
      "Processing SPAC+min3 ViT-Finetuned AgglomerativeClustering {'n_clusters': 163}\n",
      "Processing SPAC+min3 ViT-Finetuned AgglomerativeClustering {'n_clusters': 168}\n",
      "Processing SPAC+min3 ViT-Finetuned AgglomerativeClustering {'n_clusters': 173}\n",
      "Processing SPAC+min3 ViT-Finetuned AgglomerativeClustering {'n_clusters': 178}\n",
      "Processing SPAC+min3 ViT-Finetuned AgglomerativeClustering {'n_clusters': 183}\n",
      "Processing SPAC+min3 ViT-Finetuned AgglomerativeClustering {'n_clusters': 188}\n",
      "Processing SPAC+min3 ViT-Finetuned AgglomerativeClustering {'n_clusters': 193}\n",
      "Processing SPAC+min3 ViT-Finetuned AgglomerativeClustering {'n_clusters': 198}\n",
      "Processing SPAC+min3 ViT-Finetuned AgglomerativeClustering {'n_clusters': 203}\n",
      "Processing SPAC+min3 ViT-Finetuned AgglomerativeClustering {'n_clusters': 208}\n",
      "Processing SPAC+min3 ViT-Finetuned AgglomerativeClustering {'n_clusters': 213}\n",
      "Processing SPAC+min3 ViT-Finetuned AgglomerativeClustering {'n_clusters': 218}\n",
      "Processing SPAC+min3 ViT-Finetuned AgglomerativeClustering {'n_clusters': 223}\n",
      "Processing SPAC+min3 ViT-Finetuned AgglomerativeClustering {'n_clusters': 228}\n",
      "Processing SPAC+min3 ViT-Finetuned AgglomerativeClustering {'n_clusters': 233}\n",
      "Processing SPAC+min3 ViT-Finetuned AgglomerativeClustering {'n_clusters': 238}\n",
      "Processing SPAC+min3 ViT-Finetuned AgglomerativeClustering {'n_clusters': 243}\n",
      "Processing SPAC+min3 ViT-Finetuned AgglomerativeClustering {'n_clusters': 248}\n",
      "Processing SPAC+min3 ViT-Finetuned AgglomerativeClustering {'n_clusters': 253}\n",
      "Processing SPAC+min3 ViT-Finetuned AgglomerativeClustering {'n_clusters': 258}\n",
      "Processing SPAC+min3 ViT-Finetuned AgglomerativeClustering {'n_clusters': 263}\n",
      "Processing SPAC+min3 ViT-Finetuned AgglomerativeClustering {'n_clusters': 268}\n",
      "Processing SPAC+min3 ViT-Finetuned AgglomerativeClustering {'n_clusters': 273}\n",
      "Processing SPAC+min3 ViT-Finetuned AgglomerativeClustering {'n_clusters': 278}\n",
      "Processing SPAC+min3 ViT-Finetuned AgglomerativeClustering {'n_clusters': 283}\n",
      "Processing SPAC+min3 ViT-Finetuned AgglomerativeClustering {'n_clusters': 288}\n",
      "Processing SPAC+min3 ViT-Finetuned AgglomerativeClustering {'n_clusters': 293}\n",
      "Processing SPAC+min3 ViT-Finetuned AgglomerativeClustering {'n_clusters': 298}\n",
      "Processing SPAC+min3 ViT-Finetuned AgglomerativeClustering {'n_clusters': 303}\n",
      "Processing SPAC+min3 ViT-Finetuned AgglomerativeClustering {'n_clusters': 308}\n",
      "Processing SPAC+min3 ViT-Finetuned AgglomerativeClustering {'n_clusters': 313}\n",
      "Processing SPAC+min3 ViT-Finetuned AgglomerativeClustering {'n_clusters': 318}\n",
      "Processing SPAC+min3 ViT-Finetuned AgglomerativeClustering {'n_clusters': 323}\n",
      "Processing SPAC+min3 ViT-Finetuned AgglomerativeClustering {'n_clusters': 328}\n",
      "Processing SPAC+min3 ViT-Finetuned AgglomerativeClustering {'n_clusters': 333}\n",
      "Processing SPAC+min3 ViT-Finetuned AgglomerativeClustering {'n_clusters': 338}\n",
      "Processing SPAC+min3 ViT-Finetuned AgglomerativeClustering {'n_clusters': 343}\n",
      "Processing SPAC+min3 ViT-Finetuned AgglomerativeClustering {'n_clusters': 348}\n",
      "Processing SPAC+min3 ViT-Finetuned AgglomerativeClustering {'n_clusters': 353}\n",
      "Processing SPAC+min3 ViT-Finetuned AgglomerativeClustering {'n_clusters': 358}\n",
      "Processing SPAC+min3 ViT-Finetuned AgglomerativeClustering {'n_clusters': 363}\n",
      "Processing SPAC+min3 ViT-Finetuned AgglomerativeClustering {'n_clusters': 368}\n",
      "Processing SPAC+min3 ViT-Finetuned AgglomerativeClustering {'n_clusters': 373}\n",
      "Processing SPAC+min3 ViT-Finetuned AgglomerativeClustering {'n_clusters': 378}\n",
      "Processing SPAC+min3 ViT-Finetuned AgglomerativeClustering {'n_clusters': 383}\n",
      "Processing SPAC+min3 ViT-Finetuned AgglomerativeClustering {'n_clusters': 388}\n",
      "Processing SPAC+min3 ViT-Finetuned AgglomerativeClustering {'n_clusters': 393}\n",
      "Processing SPAC+min3 ViT-Finetuned AgglomerativeClustering {'n_clusters': 398}\n",
      "Processing SPAC+min3 ViT-Finetuned AgglomerativeClustering {'n_clusters': 403}\n",
      "Processing SPAC+min3 ViT-Finetuned AgglomerativeClustering {'n_clusters': 408}\n",
      "Processing SPAC+min3 ViT-Finetuned AgglomerativeClustering {'n_clusters': 413}\n",
      "Processing SPAC+min3 ViT-Finetuned AgglomerativeClustering {'n_clusters': 418}\n",
      "Processing SPAC+min3 ViT-Finetuned AgglomerativeClustering {'n_clusters': 423}\n",
      "Processing SPAC+min3 ViT-Finetuned AgglomerativeClustering {'n_clusters': 428}\n",
      "Processing SPAC+min3 ViT-Finetuned AgglomerativeClustering {'n_clusters': 433}\n",
      "Processing SPAC+min3 ViT-Finetuned AgglomerativeClustering {'n_clusters': 438}\n",
      "Processing SPAC+min3 ViT-Finetuned AgglomerativeClustering {'n_clusters': 443}\n",
      "Processing SPAC+min3 ViT-Finetuned AgglomerativeClustering {'n_clusters': 448}\n",
      "Processing SPAC+min3 ViT-Finetuned AgglomerativeClustering {'n_clusters': 453}\n",
      "Processing SPAC+min3 ViT-Finetuned AgglomerativeClustering {'n_clusters': 458}\n",
      "Processing SPAC+min3 ViT-Finetuned AgglomerativeClustering {'n_clusters': 463}\n",
      "Processing SPAC+min3 ViT-Finetuned AgglomerativeClustering {'n_clusters': 468}\n",
      "Processing SPAC+min3 ViT-Finetuned AgglomerativeClustering {'n_clusters': 473}\n",
      "Processing SPAC+min3 ViT-Finetuned AgglomerativeClustering {'n_clusters': 478}\n",
      "Processing SPAC+min3 ViT-Finetuned AgglomerativeClustering {'n_clusters': 483}\n",
      "Processing SPAC+min3 ViT-Finetuned AgglomerativeClustering {'n_clusters': 488}\n",
      "Processing SPAC+min3 ViT-Finetuned AgglomerativeClustering {'n_clusters': 493}\n",
      "Processing SPAC+min3 ViT-Finetuned AgglomerativeClustering {'n_clusters': 498}\n",
      "Processing SPAC+min3 ViT-Finetuned AgglomerativeClustering {'n_clusters': 503}\n",
      "Processing SPAC+min3 ViT-Finetuned AgglomerativeClustering {'n_clusters': 508}\n",
      "Processing SPAC+min3 ViT-Finetuned AgglomerativeClustering {'n_clusters': 513}\n",
      "Processing SPAC+min3 ViT-Finetuned AgglomerativeClustering {'n_clusters': 518}\n",
      "Processing SPAC+min3 ViT-Finetuned AgglomerativeClustering {'n_clusters': 523}\n",
      "Processing SPAC+min3 ViT-Finetuned AgglomerativeClustering {'n_clusters': 528}\n",
      "Processing SPAC+min3 ViT-Finetuned AgglomerativeClustering {'n_clusters': 533}\n",
      "Processing SPAC+min3 ViT-Finetuned AgglomerativeClustering {'n_clusters': 538}\n",
      "Processing SPAC+min3 ViT-Finetuned AgglomerativeClustering {'n_clusters': 543}\n",
      "Processing SPAC+min3 ViT-Finetuned AgglomerativeClustering {'n_clusters': 548}\n",
      "Processing SPAC+min3 ViT-Finetuned AgglomerativeClustering {'n_clusters': 553}\n",
      "Processing SPAC+min3 ViT-Finetuned AgglomerativeClustering {'n_clusters': 558}\n",
      "Processing SPAC+min3 ViT-Finetuned AgglomerativeClustering {'n_clusters': 563}\n",
      "Processing SPAC+min3 ViT-Finetuned AgglomerativeClustering {'n_clusters': 568}\n",
      "Processing SPAC+min3 ViT-Finetuned AgglomerativeClustering {'n_clusters': 573}\n",
      "Processing SPAC+min3 ViT-Finetuned AgglomerativeClustering {'n_clusters': 578}\n",
      "Processing SPAC+min3 ViT-Finetuned AgglomerativeClustering {'n_clusters': 583}\n",
      "Processing SPAC+min3 ViT-Finetuned AgglomerativeClustering {'n_clusters': 588}\n",
      "Processing SPAC+min3 ViT-Finetuned AgglomerativeClustering {'n_clusters': 593}\n",
      "Processing SPAC+min3 ViT-Finetuned AgglomerativeClustering {'n_clusters': 598}\n",
      "Processing SPAC+min3 ViT-Finetuned AgglomerativeClustering {'n_clusters': 603}\n",
      "Processing SPAC+min3 ViT-Finetuned AgglomerativeClustering {'n_clusters': 608}\n",
      "Processing SPAC+min3 ViT-Finetuned AgglomerativeClustering {'n_clusters': 613}\n",
      "Processing SPAC+min3 ViT-Finetuned AgglomerativeClustering {'n_clusters': 618}\n",
      "Processing SPAC+min3 ViT-Finetuned AgglomerativeClustering {'n_clusters': 623}\n",
      "Processing SPAC+min3 ViT-Finetuned AgglomerativeClustering {'n_clusters': 628}\n",
      "Processing SPAC+min3 ViT-Finetuned AgglomerativeClustering {'n_clusters': 633}\n",
      "Processing SPAC+min3 ViT-Finetuned AgglomerativeClustering {'n_clusters': 638}\n",
      "Processing SPAC+min3 ViT-Finetuned AgglomerativeClustering {'n_clusters': 643}\n",
      "Processing SPAC+min3 ViT-Finetuned AgglomerativeClustering {'n_clusters': 648}\n",
      "Processing SPAC+min3 ViT-Finetuned AgglomerativeClustering {'n_clusters': 653}\n",
      "Processing SPAC+min3 ViT-Finetuned AgglomerativeClustering {'n_clusters': 658}\n",
      "Processing SPAC+min3 ViT-Finetuned AgglomerativeClustering {'n_clusters': 663}\n",
      "Processing SPAC+min3 ViT-Finetuned AgglomerativeClustering {'n_clusters': 668}\n",
      "Processing SPAC+min3 ViT-Finetuned AgglomerativeClustering {'n_clusters': 673}\n",
      "Processing SPAC+min3 ViT-Finetuned AgglomerativeClustering {'n_clusters': 678}\n",
      "Processing SPAC+min3 ViT-Finetuned AgglomerativeClustering {'n_clusters': 683}\n",
      "Processing SPAC+min3 ViT-Finetuned AgglomerativeClustering {'n_clusters': 688}\n",
      "Processing SPAC+min3 ViT-Finetuned AgglomerativeClustering {'n_clusters': 693}\n",
      "Processing SPAC+min3 ViT-Finetuned AgglomerativeClustering {'n_clusters': 698}\n",
      "Processing SPAC+min3 ViT-Finetuned AgglomerativeClustering {'n_clusters': 703}\n",
      "Processing SPAC+min3 ViT-Finetuned AgglomerativeClustering {'n_clusters': 708}\n",
      "Processing SPAC+min3 ViT-Finetuned AgglomerativeClustering {'n_clusters': 713}\n",
      "Processing SPAC+min3 ViT-Finetuned AgglomerativeClustering {'n_clusters': 718}\n"
     ]
    },
    {
     "name": "stderr",
     "output_type": "stream",
     "text": [
      "Processing configurations:  17%|█▋        | 2/12 [01:05<05:28, 32.88s/it]"
     ]
    },
    {
     "name": "stdout",
     "output_type": "stream",
     "text": [
      "Processing SPAC+min3 ViT-Finetuned HDBSCAN\n",
      "Processing SPAC+min3 ViT-Finetuned HDBSCAN {'min_cluster_size': 3}\n"
     ]
    },
    {
     "name": "stderr",
     "output_type": "stream",
     "text": [
      "/opt/conda/envs/research/lib/python3.10/site-packages/sklearn/metrics/_classification.py:1531: UndefinedMetricWarning: Precision is ill-defined and being set to 0.0 in labels with no predicted samples. Use `zero_division` parameter to control this behavior.\n",
      "  _warn_prf(average, modifier, f\"{metric.capitalize()} is\", len(result))\n"
     ]
    },
    {
     "name": "stdout",
     "output_type": "stream",
     "text": [
      "Processing SPAC+min3 ViT-Finetuned HDBSCAN {'min_cluster_size': 5}\n"
     ]
    },
    {
     "name": "stderr",
     "output_type": "stream",
     "text": [
      "/opt/conda/envs/research/lib/python3.10/site-packages/sklearn/metrics/_classification.py:1531: UndefinedMetricWarning: Precision is ill-defined and being set to 0.0 in labels with no predicted samples. Use `zero_division` parameter to control this behavior.\n",
      "  _warn_prf(average, modifier, f\"{metric.capitalize()} is\", len(result))\n"
     ]
    },
    {
     "name": "stdout",
     "output_type": "stream",
     "text": [
      "Processing SPAC+min3 ViT-Finetuned HDBSCAN {'min_cluster_size': 10}\n"
     ]
    },
    {
     "name": "stderr",
     "output_type": "stream",
     "text": [
      "/opt/conda/envs/research/lib/python3.10/site-packages/sklearn/metrics/_classification.py:1531: UndefinedMetricWarning: Precision is ill-defined and being set to 0.0 in labels with no predicted samples. Use `zero_division` parameter to control this behavior.\n",
      "  _warn_prf(average, modifier, f\"{metric.capitalize()} is\", len(result))\n"
     ]
    },
    {
     "name": "stdout",
     "output_type": "stream",
     "text": [
      "Processing SPAC+min3 ViT-Finetuned HDBSCAN {'min_cluster_size': 20}\n"
     ]
    },
    {
     "name": "stderr",
     "output_type": "stream",
     "text": [
      "/opt/conda/envs/research/lib/python3.10/site-packages/sklearn/metrics/_classification.py:1531: UndefinedMetricWarning: Precision is ill-defined and being set to 0.0 in labels with no predicted samples. Use `zero_division` parameter to control this behavior.\n",
      "  _warn_prf(average, modifier, f\"{metric.capitalize()} is\", len(result))\n"
     ]
    },
    {
     "name": "stdout",
     "output_type": "stream",
     "text": [
      "Processing SPAC+min3 ViT-Finetuned HDBSCAN {'min_cluster_size': 25}\n"
     ]
    },
    {
     "name": "stderr",
     "output_type": "stream",
     "text": [
      "/opt/conda/envs/research/lib/python3.10/site-packages/sklearn/metrics/_classification.py:1531: UndefinedMetricWarning: Precision is ill-defined and being set to 0.0 in labels with no predicted samples. Use `zero_division` parameter to control this behavior.\n",
      "  _warn_prf(average, modifier, f\"{metric.capitalize()} is\", len(result))\n",
      "Processing configurations:  25%|██▌       | 3/12 [01:07<02:58, 19.79s/it]"
     ]
    },
    {
     "name": "stdout",
     "output_type": "stream",
     "text": [
      "Processing SPAC+min3 ViT-Pretrained KMeans\n",
      "Processing SPAC+min3 ViT-Pretrained KMeans {'n_clusters': 3}\n"
     ]
    },
    {
     "name": "stderr",
     "output_type": "stream",
     "text": [
      "/opt/conda/envs/research/lib/python3.10/site-packages/sklearn/metrics/_classification.py:1531: UndefinedMetricWarning: Precision is ill-defined and being set to 0.0 in labels with no predicted samples. Use `zero_division` parameter to control this behavior.\n",
      "  _warn_prf(average, modifier, f\"{metric.capitalize()} is\", len(result))\n"
     ]
    },
    {
     "name": "stdout",
     "output_type": "stream",
     "text": [
      "Processing SPAC+min3 ViT-Pretrained KMeans {'n_clusters': 8}\n"
     ]
    },
    {
     "name": "stderr",
     "output_type": "stream",
     "text": [
      "/opt/conda/envs/research/lib/python3.10/site-packages/sklearn/metrics/_classification.py:1531: UndefinedMetricWarning: Precision is ill-defined and being set to 0.0 in labels with no predicted samples. Use `zero_division` parameter to control this behavior.\n",
      "  _warn_prf(average, modifier, f\"{metric.capitalize()} is\", len(result))\n"
     ]
    },
    {
     "name": "stdout",
     "output_type": "stream",
     "text": [
      "Processing SPAC+min3 ViT-Pretrained KMeans {'n_clusters': 13}\n"
     ]
    },
    {
     "name": "stderr",
     "output_type": "stream",
     "text": [
      "/opt/conda/envs/research/lib/python3.10/site-packages/sklearn/metrics/_classification.py:1531: UndefinedMetricWarning: Precision is ill-defined and being set to 0.0 in labels with no predicted samples. Use `zero_division` parameter to control this behavior.\n",
      "  _warn_prf(average, modifier, f\"{metric.capitalize()} is\", len(result))\n"
     ]
    },
    {
     "name": "stdout",
     "output_type": "stream",
     "text": [
      "Processing SPAC+min3 ViT-Pretrained KMeans {'n_clusters': 18}\n"
     ]
    },
    {
     "name": "stderr",
     "output_type": "stream",
     "text": [
      "/opt/conda/envs/research/lib/python3.10/site-packages/sklearn/metrics/_classification.py:1531: UndefinedMetricWarning: Precision is ill-defined and being set to 0.0 in labels with no predicted samples. Use `zero_division` parameter to control this behavior.\n",
      "  _warn_prf(average, modifier, f\"{metric.capitalize()} is\", len(result))\n"
     ]
    },
    {
     "name": "stdout",
     "output_type": "stream",
     "text": [
      "Processing SPAC+min3 ViT-Pretrained KMeans {'n_clusters': 23}\n"
     ]
    },
    {
     "name": "stderr",
     "output_type": "stream",
     "text": [
      "/opt/conda/envs/research/lib/python3.10/site-packages/sklearn/metrics/_classification.py:1531: UndefinedMetricWarning: Precision is ill-defined and being set to 0.0 in labels with no predicted samples. Use `zero_division` parameter to control this behavior.\n",
      "  _warn_prf(average, modifier, f\"{metric.capitalize()} is\", len(result))\n"
     ]
    },
    {
     "name": "stdout",
     "output_type": "stream",
     "text": [
      "Processing SPAC+min3 ViT-Pretrained KMeans {'n_clusters': 28}\n"
     ]
    },
    {
     "name": "stderr",
     "output_type": "stream",
     "text": [
      "/opt/conda/envs/research/lib/python3.10/site-packages/sklearn/metrics/_classification.py:1531: UndefinedMetricWarning: Precision is ill-defined and being set to 0.0 in labels with no predicted samples. Use `zero_division` parameter to control this behavior.\n",
      "  _warn_prf(average, modifier, f\"{metric.capitalize()} is\", len(result))\n"
     ]
    },
    {
     "name": "stdout",
     "output_type": "stream",
     "text": [
      "Processing SPAC+min3 ViT-Pretrained KMeans {'n_clusters': 33}\n"
     ]
    },
    {
     "name": "stderr",
     "output_type": "stream",
     "text": [
      "/opt/conda/envs/research/lib/python3.10/site-packages/sklearn/metrics/_classification.py:1531: UndefinedMetricWarning: Precision is ill-defined and being set to 0.0 in labels with no predicted samples. Use `zero_division` parameter to control this behavior.\n",
      "  _warn_prf(average, modifier, f\"{metric.capitalize()} is\", len(result))\n"
     ]
    },
    {
     "name": "stdout",
     "output_type": "stream",
     "text": [
      "Processing SPAC+min3 ViT-Pretrained KMeans {'n_clusters': 38}\n"
     ]
    },
    {
     "name": "stderr",
     "output_type": "stream",
     "text": [
      "/opt/conda/envs/research/lib/python3.10/site-packages/sklearn/metrics/_classification.py:1531: UndefinedMetricWarning: Precision is ill-defined and being set to 0.0 in labels with no predicted samples. Use `zero_division` parameter to control this behavior.\n",
      "  _warn_prf(average, modifier, f\"{metric.capitalize()} is\", len(result))\n"
     ]
    },
    {
     "name": "stdout",
     "output_type": "stream",
     "text": [
      "Processing SPAC+min3 ViT-Pretrained KMeans {'n_clusters': 43}\n"
     ]
    },
    {
     "name": "stderr",
     "output_type": "stream",
     "text": [
      "/opt/conda/envs/research/lib/python3.10/site-packages/sklearn/metrics/_classification.py:1531: UndefinedMetricWarning: Precision is ill-defined and being set to 0.0 in labels with no predicted samples. Use `zero_division` parameter to control this behavior.\n",
      "  _warn_prf(average, modifier, f\"{metric.capitalize()} is\", len(result))\n"
     ]
    },
    {
     "name": "stdout",
     "output_type": "stream",
     "text": [
      "Processing SPAC+min3 ViT-Pretrained KMeans {'n_clusters': 48}\n"
     ]
    },
    {
     "name": "stderr",
     "output_type": "stream",
     "text": [
      "/opt/conda/envs/research/lib/python3.10/site-packages/sklearn/metrics/_classification.py:1531: UndefinedMetricWarning: Precision is ill-defined and being set to 0.0 in labels with no predicted samples. Use `zero_division` parameter to control this behavior.\n",
      "  _warn_prf(average, modifier, f\"{metric.capitalize()} is\", len(result))\n"
     ]
    },
    {
     "name": "stdout",
     "output_type": "stream",
     "text": [
      "Processing SPAC+min3 ViT-Pretrained KMeans {'n_clusters': 53}\n"
     ]
    },
    {
     "name": "stderr",
     "output_type": "stream",
     "text": [
      "/opt/conda/envs/research/lib/python3.10/site-packages/sklearn/metrics/_classification.py:1531: UndefinedMetricWarning: Precision is ill-defined and being set to 0.0 in labels with no predicted samples. Use `zero_division` parameter to control this behavior.\n",
      "  _warn_prf(average, modifier, f\"{metric.capitalize()} is\", len(result))\n"
     ]
    },
    {
     "name": "stdout",
     "output_type": "stream",
     "text": [
      "Processing SPAC+min3 ViT-Pretrained KMeans {'n_clusters': 58}\n"
     ]
    },
    {
     "name": "stderr",
     "output_type": "stream",
     "text": [
      "/opt/conda/envs/research/lib/python3.10/site-packages/sklearn/metrics/_classification.py:1531: UndefinedMetricWarning: Precision is ill-defined and being set to 0.0 in labels with no predicted samples. Use `zero_division` parameter to control this behavior.\n",
      "  _warn_prf(average, modifier, f\"{metric.capitalize()} is\", len(result))\n"
     ]
    },
    {
     "name": "stdout",
     "output_type": "stream",
     "text": [
      "Processing SPAC+min3 ViT-Pretrained KMeans {'n_clusters': 63}\n"
     ]
    },
    {
     "name": "stderr",
     "output_type": "stream",
     "text": [
      "/opt/conda/envs/research/lib/python3.10/site-packages/sklearn/metrics/_classification.py:1531: UndefinedMetricWarning: Precision is ill-defined and being set to 0.0 in labels with no predicted samples. Use `zero_division` parameter to control this behavior.\n",
      "  _warn_prf(average, modifier, f\"{metric.capitalize()} is\", len(result))\n"
     ]
    },
    {
     "name": "stdout",
     "output_type": "stream",
     "text": [
      "Processing SPAC+min3 ViT-Pretrained KMeans {'n_clusters': 68}\n"
     ]
    },
    {
     "name": "stderr",
     "output_type": "stream",
     "text": [
      "/opt/conda/envs/research/lib/python3.10/site-packages/sklearn/metrics/_classification.py:1531: UndefinedMetricWarning: Precision is ill-defined and being set to 0.0 in labels with no predicted samples. Use `zero_division` parameter to control this behavior.\n",
      "  _warn_prf(average, modifier, f\"{metric.capitalize()} is\", len(result))\n"
     ]
    },
    {
     "name": "stdout",
     "output_type": "stream",
     "text": [
      "Processing SPAC+min3 ViT-Pretrained KMeans {'n_clusters': 73}\n"
     ]
    },
    {
     "name": "stderr",
     "output_type": "stream",
     "text": [
      "/opt/conda/envs/research/lib/python3.10/site-packages/sklearn/metrics/_classification.py:1531: UndefinedMetricWarning: Precision is ill-defined and being set to 0.0 in labels with no predicted samples. Use `zero_division` parameter to control this behavior.\n",
      "  _warn_prf(average, modifier, f\"{metric.capitalize()} is\", len(result))\n"
     ]
    },
    {
     "name": "stdout",
     "output_type": "stream",
     "text": [
      "Processing SPAC+min3 ViT-Pretrained KMeans {'n_clusters': 78}\n"
     ]
    },
    {
     "name": "stderr",
     "output_type": "stream",
     "text": [
      "/opt/conda/envs/research/lib/python3.10/site-packages/sklearn/metrics/_classification.py:1531: UndefinedMetricWarning: Precision is ill-defined and being set to 0.0 in labels with no predicted samples. Use `zero_division` parameter to control this behavior.\n",
      "  _warn_prf(average, modifier, f\"{metric.capitalize()} is\", len(result))\n"
     ]
    },
    {
     "name": "stdout",
     "output_type": "stream",
     "text": [
      "Processing SPAC+min3 ViT-Pretrained KMeans {'n_clusters': 83}\n"
     ]
    },
    {
     "name": "stderr",
     "output_type": "stream",
     "text": [
      "/opt/conda/envs/research/lib/python3.10/site-packages/sklearn/metrics/_classification.py:1531: UndefinedMetricWarning: Precision is ill-defined and being set to 0.0 in labels with no predicted samples. Use `zero_division` parameter to control this behavior.\n",
      "  _warn_prf(average, modifier, f\"{metric.capitalize()} is\", len(result))\n"
     ]
    },
    {
     "name": "stdout",
     "output_type": "stream",
     "text": [
      "Processing SPAC+min3 ViT-Pretrained KMeans {'n_clusters': 88}\n"
     ]
    },
    {
     "name": "stderr",
     "output_type": "stream",
     "text": [
      "/opt/conda/envs/research/lib/python3.10/site-packages/sklearn/metrics/_classification.py:1531: UndefinedMetricWarning: Precision is ill-defined and being set to 0.0 in labels with no predicted samples. Use `zero_division` parameter to control this behavior.\n",
      "  _warn_prf(average, modifier, f\"{metric.capitalize()} is\", len(result))\n"
     ]
    },
    {
     "name": "stdout",
     "output_type": "stream",
     "text": [
      "Processing SPAC+min3 ViT-Pretrained KMeans {'n_clusters': 93}\n"
     ]
    },
    {
     "name": "stderr",
     "output_type": "stream",
     "text": [
      "/opt/conda/envs/research/lib/python3.10/site-packages/sklearn/metrics/_classification.py:1531: UndefinedMetricWarning: Precision is ill-defined and being set to 0.0 in labels with no predicted samples. Use `zero_division` parameter to control this behavior.\n",
      "  _warn_prf(average, modifier, f\"{metric.capitalize()} is\", len(result))\n"
     ]
    },
    {
     "name": "stdout",
     "output_type": "stream",
     "text": [
      "Processing SPAC+min3 ViT-Pretrained KMeans {'n_clusters': 98}\n"
     ]
    },
    {
     "name": "stderr",
     "output_type": "stream",
     "text": [
      "/opt/conda/envs/research/lib/python3.10/site-packages/sklearn/metrics/_classification.py:1531: UndefinedMetricWarning: Precision is ill-defined and being set to 0.0 in labels with no predicted samples. Use `zero_division` parameter to control this behavior.\n",
      "  _warn_prf(average, modifier, f\"{metric.capitalize()} is\", len(result))\n"
     ]
    },
    {
     "name": "stdout",
     "output_type": "stream",
     "text": [
      "Processing SPAC+min3 ViT-Pretrained KMeans {'n_clusters': 103}\n"
     ]
    },
    {
     "name": "stderr",
     "output_type": "stream",
     "text": [
      "/opt/conda/envs/research/lib/python3.10/site-packages/sklearn/metrics/_classification.py:1531: UndefinedMetricWarning: Precision is ill-defined and being set to 0.0 in labels with no predicted samples. Use `zero_division` parameter to control this behavior.\n",
      "  _warn_prf(average, modifier, f\"{metric.capitalize()} is\", len(result))\n"
     ]
    },
    {
     "name": "stdout",
     "output_type": "stream",
     "text": [
      "Processing SPAC+min3 ViT-Pretrained KMeans {'n_clusters': 108}\n"
     ]
    },
    {
     "name": "stderr",
     "output_type": "stream",
     "text": [
      "/opt/conda/envs/research/lib/python3.10/site-packages/sklearn/metrics/_classification.py:1531: UndefinedMetricWarning: Precision is ill-defined and being set to 0.0 in labels with no predicted samples. Use `zero_division` parameter to control this behavior.\n",
      "  _warn_prf(average, modifier, f\"{metric.capitalize()} is\", len(result))\n"
     ]
    },
    {
     "name": "stdout",
     "output_type": "stream",
     "text": [
      "Processing SPAC+min3 ViT-Pretrained KMeans {'n_clusters': 113}\n"
     ]
    },
    {
     "name": "stderr",
     "output_type": "stream",
     "text": [
      "/opt/conda/envs/research/lib/python3.10/site-packages/sklearn/metrics/_classification.py:1531: UndefinedMetricWarning: Precision is ill-defined and being set to 0.0 in labels with no predicted samples. Use `zero_division` parameter to control this behavior.\n",
      "  _warn_prf(average, modifier, f\"{metric.capitalize()} is\", len(result))\n"
     ]
    },
    {
     "name": "stdout",
     "output_type": "stream",
     "text": [
      "Processing SPAC+min3 ViT-Pretrained KMeans {'n_clusters': 118}\n"
     ]
    },
    {
     "name": "stderr",
     "output_type": "stream",
     "text": [
      "/opt/conda/envs/research/lib/python3.10/site-packages/sklearn/metrics/_classification.py:1531: UndefinedMetricWarning: Precision is ill-defined and being set to 0.0 in labels with no predicted samples. Use `zero_division` parameter to control this behavior.\n",
      "  _warn_prf(average, modifier, f\"{metric.capitalize()} is\", len(result))\n"
     ]
    },
    {
     "name": "stdout",
     "output_type": "stream",
     "text": [
      "Processing SPAC+min3 ViT-Pretrained KMeans {'n_clusters': 123}\n"
     ]
    },
    {
     "name": "stderr",
     "output_type": "stream",
     "text": [
      "/opt/conda/envs/research/lib/python3.10/site-packages/sklearn/metrics/_classification.py:1531: UndefinedMetricWarning: Precision is ill-defined and being set to 0.0 in labels with no predicted samples. Use `zero_division` parameter to control this behavior.\n",
      "  _warn_prf(average, modifier, f\"{metric.capitalize()} is\", len(result))\n"
     ]
    },
    {
     "name": "stdout",
     "output_type": "stream",
     "text": [
      "Processing SPAC+min3 ViT-Pretrained KMeans {'n_clusters': 128}\n"
     ]
    },
    {
     "name": "stderr",
     "output_type": "stream",
     "text": [
      "/opt/conda/envs/research/lib/python3.10/site-packages/sklearn/metrics/_classification.py:1531: UndefinedMetricWarning: Precision is ill-defined and being set to 0.0 in labels with no predicted samples. Use `zero_division` parameter to control this behavior.\n",
      "  _warn_prf(average, modifier, f\"{metric.capitalize()} is\", len(result))\n"
     ]
    },
    {
     "name": "stdout",
     "output_type": "stream",
     "text": [
      "Processing SPAC+min3 ViT-Pretrained KMeans {'n_clusters': 133}\n",
      "Processing SPAC+min3 ViT-Pretrained KMeans {'n_clusters': 138}\n",
      "Processing SPAC+min3 ViT-Pretrained KMeans {'n_clusters': 143}\n",
      "Processing SPAC+min3 ViT-Pretrained KMeans {'n_clusters': 148}\n",
      "Processing SPAC+min3 ViT-Pretrained KMeans {'n_clusters': 153}\n",
      "Processing SPAC+min3 ViT-Pretrained KMeans {'n_clusters': 158}\n",
      "Processing SPAC+min3 ViT-Pretrained KMeans {'n_clusters': 163}\n",
      "Processing SPAC+min3 ViT-Pretrained KMeans {'n_clusters': 168}\n",
      "Processing SPAC+min3 ViT-Pretrained KMeans {'n_clusters': 173}\n",
      "Processing SPAC+min3 ViT-Pretrained KMeans {'n_clusters': 178}\n",
      "Processing SPAC+min3 ViT-Pretrained KMeans {'n_clusters': 183}\n",
      "Processing SPAC+min3 ViT-Pretrained KMeans {'n_clusters': 188}\n",
      "Processing SPAC+min3 ViT-Pretrained KMeans {'n_clusters': 193}\n",
      "Processing SPAC+min3 ViT-Pretrained KMeans {'n_clusters': 198}\n",
      "Processing SPAC+min3 ViT-Pretrained KMeans {'n_clusters': 203}\n",
      "Processing SPAC+min3 ViT-Pretrained KMeans {'n_clusters': 208}\n",
      "Processing SPAC+min3 ViT-Pretrained KMeans {'n_clusters': 213}\n",
      "Processing SPAC+min3 ViT-Pretrained KMeans {'n_clusters': 218}\n",
      "Processing SPAC+min3 ViT-Pretrained KMeans {'n_clusters': 223}\n",
      "Processing SPAC+min3 ViT-Pretrained KMeans {'n_clusters': 228}\n",
      "Processing SPAC+min3 ViT-Pretrained KMeans {'n_clusters': 233}\n",
      "Processing SPAC+min3 ViT-Pretrained KMeans {'n_clusters': 238}\n",
      "Processing SPAC+min3 ViT-Pretrained KMeans {'n_clusters': 243}\n",
      "Processing SPAC+min3 ViT-Pretrained KMeans {'n_clusters': 248}\n",
      "Processing SPAC+min3 ViT-Pretrained KMeans {'n_clusters': 253}\n",
      "Processing SPAC+min3 ViT-Pretrained KMeans {'n_clusters': 258}\n",
      "Processing SPAC+min3 ViT-Pretrained KMeans {'n_clusters': 263}\n",
      "Processing SPAC+min3 ViT-Pretrained KMeans {'n_clusters': 268}\n",
      "Processing SPAC+min3 ViT-Pretrained KMeans {'n_clusters': 273}\n",
      "Processing SPAC+min3 ViT-Pretrained KMeans {'n_clusters': 278}\n",
      "Processing SPAC+min3 ViT-Pretrained KMeans {'n_clusters': 283}\n",
      "Processing SPAC+min3 ViT-Pretrained KMeans {'n_clusters': 288}\n",
      "Processing SPAC+min3 ViT-Pretrained KMeans {'n_clusters': 293}\n",
      "Processing SPAC+min3 ViT-Pretrained KMeans {'n_clusters': 298}\n",
      "Processing SPAC+min3 ViT-Pretrained KMeans {'n_clusters': 303}\n",
      "Processing SPAC+min3 ViT-Pretrained KMeans {'n_clusters': 308}\n",
      "Processing SPAC+min3 ViT-Pretrained KMeans {'n_clusters': 313}\n",
      "Processing SPAC+min3 ViT-Pretrained KMeans {'n_clusters': 318}\n",
      "Processing SPAC+min3 ViT-Pretrained KMeans {'n_clusters': 323}\n",
      "Processing SPAC+min3 ViT-Pretrained KMeans {'n_clusters': 328}\n",
      "Processing SPAC+min3 ViT-Pretrained KMeans {'n_clusters': 333}\n",
      "Processing SPAC+min3 ViT-Pretrained KMeans {'n_clusters': 338}\n",
      "Processing SPAC+min3 ViT-Pretrained KMeans {'n_clusters': 343}\n",
      "Processing SPAC+min3 ViT-Pretrained KMeans {'n_clusters': 348}\n",
      "Processing SPAC+min3 ViT-Pretrained KMeans {'n_clusters': 353}\n",
      "Processing SPAC+min3 ViT-Pretrained KMeans {'n_clusters': 358}\n",
      "Processing SPAC+min3 ViT-Pretrained KMeans {'n_clusters': 363}\n",
      "Processing SPAC+min3 ViT-Pretrained KMeans {'n_clusters': 368}\n",
      "Processing SPAC+min3 ViT-Pretrained KMeans {'n_clusters': 373}\n",
      "Processing SPAC+min3 ViT-Pretrained KMeans {'n_clusters': 378}\n",
      "Processing SPAC+min3 ViT-Pretrained KMeans {'n_clusters': 383}\n",
      "Processing SPAC+min3 ViT-Pretrained KMeans {'n_clusters': 388}\n",
      "Processing SPAC+min3 ViT-Pretrained KMeans {'n_clusters': 393}\n",
      "Processing SPAC+min3 ViT-Pretrained KMeans {'n_clusters': 398}\n",
      "Processing SPAC+min3 ViT-Pretrained KMeans {'n_clusters': 403}\n",
      "Processing SPAC+min3 ViT-Pretrained KMeans {'n_clusters': 408}\n",
      "Processing SPAC+min3 ViT-Pretrained KMeans {'n_clusters': 413}\n",
      "Processing SPAC+min3 ViT-Pretrained KMeans {'n_clusters': 418}\n",
      "Processing SPAC+min3 ViT-Pretrained KMeans {'n_clusters': 423}\n",
      "Processing SPAC+min3 ViT-Pretrained KMeans {'n_clusters': 428}\n",
      "Processing SPAC+min3 ViT-Pretrained KMeans {'n_clusters': 433}\n",
      "Processing SPAC+min3 ViT-Pretrained KMeans {'n_clusters': 438}\n",
      "Processing SPAC+min3 ViT-Pretrained KMeans {'n_clusters': 443}\n",
      "Processing SPAC+min3 ViT-Pretrained KMeans {'n_clusters': 448}\n",
      "Processing SPAC+min3 ViT-Pretrained KMeans {'n_clusters': 453}\n",
      "Processing SPAC+min3 ViT-Pretrained KMeans {'n_clusters': 458}\n",
      "Processing SPAC+min3 ViT-Pretrained KMeans {'n_clusters': 463}\n",
      "Processing SPAC+min3 ViT-Pretrained KMeans {'n_clusters': 468}\n",
      "Processing SPAC+min3 ViT-Pretrained KMeans {'n_clusters': 473}\n",
      "Processing SPAC+min3 ViT-Pretrained KMeans {'n_clusters': 478}\n",
      "Processing SPAC+min3 ViT-Pretrained KMeans {'n_clusters': 483}\n",
      "Processing SPAC+min3 ViT-Pretrained KMeans {'n_clusters': 488}\n",
      "Processing SPAC+min3 ViT-Pretrained KMeans {'n_clusters': 493}\n",
      "Processing SPAC+min3 ViT-Pretrained KMeans {'n_clusters': 498}\n",
      "Processing SPAC+min3 ViT-Pretrained KMeans {'n_clusters': 503}\n",
      "Processing SPAC+min3 ViT-Pretrained KMeans {'n_clusters': 508}\n",
      "Processing SPAC+min3 ViT-Pretrained KMeans {'n_clusters': 513}\n",
      "Processing SPAC+min3 ViT-Pretrained KMeans {'n_clusters': 518}\n",
      "Processing SPAC+min3 ViT-Pretrained KMeans {'n_clusters': 523}\n",
      "Processing SPAC+min3 ViT-Pretrained KMeans {'n_clusters': 528}\n",
      "Processing SPAC+min3 ViT-Pretrained KMeans {'n_clusters': 533}\n",
      "Processing SPAC+min3 ViT-Pretrained KMeans {'n_clusters': 538}\n",
      "Processing SPAC+min3 ViT-Pretrained KMeans {'n_clusters': 543}\n",
      "Processing SPAC+min3 ViT-Pretrained KMeans {'n_clusters': 548}\n",
      "Processing SPAC+min3 ViT-Pretrained KMeans {'n_clusters': 553}\n",
      "Processing SPAC+min3 ViT-Pretrained KMeans {'n_clusters': 558}\n",
      "Processing SPAC+min3 ViT-Pretrained KMeans {'n_clusters': 563}\n",
      "Processing SPAC+min3 ViT-Pretrained KMeans {'n_clusters': 568}\n",
      "Processing SPAC+min3 ViT-Pretrained KMeans {'n_clusters': 573}\n",
      "Processing SPAC+min3 ViT-Pretrained KMeans {'n_clusters': 578}\n",
      "Processing SPAC+min3 ViT-Pretrained KMeans {'n_clusters': 583}\n",
      "Processing SPAC+min3 ViT-Pretrained KMeans {'n_clusters': 588}\n",
      "Processing SPAC+min3 ViT-Pretrained KMeans {'n_clusters': 593}\n",
      "Processing SPAC+min3 ViT-Pretrained KMeans {'n_clusters': 598}\n",
      "Processing SPAC+min3 ViT-Pretrained KMeans {'n_clusters': 603}\n",
      "Processing SPAC+min3 ViT-Pretrained KMeans {'n_clusters': 608}\n",
      "Processing SPAC+min3 ViT-Pretrained KMeans {'n_clusters': 613}\n",
      "Processing SPAC+min3 ViT-Pretrained KMeans {'n_clusters': 618}\n",
      "Processing SPAC+min3 ViT-Pretrained KMeans {'n_clusters': 623}\n",
      "Processing SPAC+min3 ViT-Pretrained KMeans {'n_clusters': 628}\n",
      "Processing SPAC+min3 ViT-Pretrained KMeans {'n_clusters': 633}\n",
      "Processing SPAC+min3 ViT-Pretrained KMeans {'n_clusters': 638}\n",
      "Processing SPAC+min3 ViT-Pretrained KMeans {'n_clusters': 643}\n",
      "Processing SPAC+min3 ViT-Pretrained KMeans {'n_clusters': 648}\n",
      "Processing SPAC+min3 ViT-Pretrained KMeans {'n_clusters': 653}\n",
      "Processing SPAC+min3 ViT-Pretrained KMeans {'n_clusters': 658}\n",
      "Processing SPAC+min3 ViT-Pretrained KMeans {'n_clusters': 663}\n",
      "Processing SPAC+min3 ViT-Pretrained KMeans {'n_clusters': 668}\n",
      "Processing SPAC+min3 ViT-Pretrained KMeans {'n_clusters': 673}\n",
      "Processing SPAC+min3 ViT-Pretrained KMeans {'n_clusters': 678}\n",
      "Processing SPAC+min3 ViT-Pretrained KMeans {'n_clusters': 683}\n",
      "Processing SPAC+min3 ViT-Pretrained KMeans {'n_clusters': 688}\n",
      "Processing SPAC+min3 ViT-Pretrained KMeans {'n_clusters': 693}\n",
      "Processing SPAC+min3 ViT-Pretrained KMeans {'n_clusters': 698}\n",
      "Processing SPAC+min3 ViT-Pretrained KMeans {'n_clusters': 703}\n",
      "Processing SPAC+min3 ViT-Pretrained KMeans {'n_clusters': 708}\n",
      "Processing SPAC+min3 ViT-Pretrained KMeans {'n_clusters': 713}\n",
      "Processing SPAC+min3 ViT-Pretrained KMeans {'n_clusters': 718}\n"
     ]
    },
    {
     "name": "stderr",
     "output_type": "stream",
     "text": [
      "Processing configurations:  33%|███▎      | 4/12 [03:33<08:56, 67.01s/it]"
     ]
    },
    {
     "name": "stdout",
     "output_type": "stream",
     "text": [
      "Processing SPAC+min3 ViT-Pretrained AgglomerativeClustering\n",
      "Processing SPAC+min3 ViT-Pretrained AgglomerativeClustering {'n_clusters': 3}\n"
     ]
    },
    {
     "name": "stderr",
     "output_type": "stream",
     "text": [
      "/opt/conda/envs/research/lib/python3.10/site-packages/sklearn/metrics/_classification.py:1531: UndefinedMetricWarning: Precision is ill-defined and being set to 0.0 in labels with no predicted samples. Use `zero_division` parameter to control this behavior.\n",
      "  _warn_prf(average, modifier, f\"{metric.capitalize()} is\", len(result))\n"
     ]
    },
    {
     "name": "stdout",
     "output_type": "stream",
     "text": [
      "Processing SPAC+min3 ViT-Pretrained AgglomerativeClustering {'n_clusters': 8}\n"
     ]
    },
    {
     "name": "stderr",
     "output_type": "stream",
     "text": [
      "/opt/conda/envs/research/lib/python3.10/site-packages/sklearn/metrics/_classification.py:1531: UndefinedMetricWarning: Precision is ill-defined and being set to 0.0 in labels with no predicted samples. Use `zero_division` parameter to control this behavior.\n",
      "  _warn_prf(average, modifier, f\"{metric.capitalize()} is\", len(result))\n"
     ]
    },
    {
     "name": "stdout",
     "output_type": "stream",
     "text": [
      "Processing SPAC+min3 ViT-Pretrained AgglomerativeClustering {'n_clusters': 13}\n"
     ]
    },
    {
     "name": "stderr",
     "output_type": "stream",
     "text": [
      "/opt/conda/envs/research/lib/python3.10/site-packages/sklearn/metrics/_classification.py:1531: UndefinedMetricWarning: Precision is ill-defined and being set to 0.0 in labels with no predicted samples. Use `zero_division` parameter to control this behavior.\n",
      "  _warn_prf(average, modifier, f\"{metric.capitalize()} is\", len(result))\n"
     ]
    },
    {
     "name": "stdout",
     "output_type": "stream",
     "text": [
      "Processing SPAC+min3 ViT-Pretrained AgglomerativeClustering {'n_clusters': 18}\n"
     ]
    },
    {
     "name": "stderr",
     "output_type": "stream",
     "text": [
      "/opt/conda/envs/research/lib/python3.10/site-packages/sklearn/metrics/_classification.py:1531: UndefinedMetricWarning: Precision is ill-defined and being set to 0.0 in labels with no predicted samples. Use `zero_division` parameter to control this behavior.\n",
      "  _warn_prf(average, modifier, f\"{metric.capitalize()} is\", len(result))\n"
     ]
    },
    {
     "name": "stdout",
     "output_type": "stream",
     "text": [
      "Processing SPAC+min3 ViT-Pretrained AgglomerativeClustering {'n_clusters': 23}\n"
     ]
    },
    {
     "name": "stderr",
     "output_type": "stream",
     "text": [
      "/opt/conda/envs/research/lib/python3.10/site-packages/sklearn/metrics/_classification.py:1531: UndefinedMetricWarning: Precision is ill-defined and being set to 0.0 in labels with no predicted samples. Use `zero_division` parameter to control this behavior.\n",
      "  _warn_prf(average, modifier, f\"{metric.capitalize()} is\", len(result))\n"
     ]
    },
    {
     "name": "stdout",
     "output_type": "stream",
     "text": [
      "Processing SPAC+min3 ViT-Pretrained AgglomerativeClustering {'n_clusters': 28}\n"
     ]
    },
    {
     "name": "stderr",
     "output_type": "stream",
     "text": [
      "/opt/conda/envs/research/lib/python3.10/site-packages/sklearn/metrics/_classification.py:1531: UndefinedMetricWarning: Precision is ill-defined and being set to 0.0 in labels with no predicted samples. Use `zero_division` parameter to control this behavior.\n",
      "  _warn_prf(average, modifier, f\"{metric.capitalize()} is\", len(result))\n"
     ]
    },
    {
     "name": "stdout",
     "output_type": "stream",
     "text": [
      "Processing SPAC+min3 ViT-Pretrained AgglomerativeClustering {'n_clusters': 33}\n"
     ]
    },
    {
     "name": "stderr",
     "output_type": "stream",
     "text": [
      "/opt/conda/envs/research/lib/python3.10/site-packages/sklearn/metrics/_classification.py:1531: UndefinedMetricWarning: Precision is ill-defined and being set to 0.0 in labels with no predicted samples. Use `zero_division` parameter to control this behavior.\n",
      "  _warn_prf(average, modifier, f\"{metric.capitalize()} is\", len(result))\n"
     ]
    },
    {
     "name": "stdout",
     "output_type": "stream",
     "text": [
      "Processing SPAC+min3 ViT-Pretrained AgglomerativeClustering {'n_clusters': 38}\n"
     ]
    },
    {
     "name": "stderr",
     "output_type": "stream",
     "text": [
      "/opt/conda/envs/research/lib/python3.10/site-packages/sklearn/metrics/_classification.py:1531: UndefinedMetricWarning: Precision is ill-defined and being set to 0.0 in labels with no predicted samples. Use `zero_division` parameter to control this behavior.\n",
      "  _warn_prf(average, modifier, f\"{metric.capitalize()} is\", len(result))\n"
     ]
    },
    {
     "name": "stdout",
     "output_type": "stream",
     "text": [
      "Processing SPAC+min3 ViT-Pretrained AgglomerativeClustering {'n_clusters': 43}\n"
     ]
    },
    {
     "name": "stderr",
     "output_type": "stream",
     "text": [
      "/opt/conda/envs/research/lib/python3.10/site-packages/sklearn/metrics/_classification.py:1531: UndefinedMetricWarning: Precision is ill-defined and being set to 0.0 in labels with no predicted samples. Use `zero_division` parameter to control this behavior.\n",
      "  _warn_prf(average, modifier, f\"{metric.capitalize()} is\", len(result))\n"
     ]
    },
    {
     "name": "stdout",
     "output_type": "stream",
     "text": [
      "Processing SPAC+min3 ViT-Pretrained AgglomerativeClustering {'n_clusters': 48}\n"
     ]
    },
    {
     "name": "stderr",
     "output_type": "stream",
     "text": [
      "/opt/conda/envs/research/lib/python3.10/site-packages/sklearn/metrics/_classification.py:1531: UndefinedMetricWarning: Precision is ill-defined and being set to 0.0 in labels with no predicted samples. Use `zero_division` parameter to control this behavior.\n",
      "  _warn_prf(average, modifier, f\"{metric.capitalize()} is\", len(result))\n"
     ]
    },
    {
     "name": "stdout",
     "output_type": "stream",
     "text": [
      "Processing SPAC+min3 ViT-Pretrained AgglomerativeClustering {'n_clusters': 53}\n"
     ]
    },
    {
     "name": "stderr",
     "output_type": "stream",
     "text": [
      "/opt/conda/envs/research/lib/python3.10/site-packages/sklearn/metrics/_classification.py:1531: UndefinedMetricWarning: Precision is ill-defined and being set to 0.0 in labels with no predicted samples. Use `zero_division` parameter to control this behavior.\n",
      "  _warn_prf(average, modifier, f\"{metric.capitalize()} is\", len(result))\n"
     ]
    },
    {
     "name": "stdout",
     "output_type": "stream",
     "text": [
      "Processing SPAC+min3 ViT-Pretrained AgglomerativeClustering {'n_clusters': 58}\n"
     ]
    },
    {
     "name": "stderr",
     "output_type": "stream",
     "text": [
      "/opt/conda/envs/research/lib/python3.10/site-packages/sklearn/metrics/_classification.py:1531: UndefinedMetricWarning: Precision is ill-defined and being set to 0.0 in labels with no predicted samples. Use `zero_division` parameter to control this behavior.\n",
      "  _warn_prf(average, modifier, f\"{metric.capitalize()} is\", len(result))\n"
     ]
    },
    {
     "name": "stdout",
     "output_type": "stream",
     "text": [
      "Processing SPAC+min3 ViT-Pretrained AgglomerativeClustering {'n_clusters': 63}\n"
     ]
    },
    {
     "name": "stderr",
     "output_type": "stream",
     "text": [
      "/opt/conda/envs/research/lib/python3.10/site-packages/sklearn/metrics/_classification.py:1531: UndefinedMetricWarning: Precision is ill-defined and being set to 0.0 in labels with no predicted samples. Use `zero_division` parameter to control this behavior.\n",
      "  _warn_prf(average, modifier, f\"{metric.capitalize()} is\", len(result))\n"
     ]
    },
    {
     "name": "stdout",
     "output_type": "stream",
     "text": [
      "Processing SPAC+min3 ViT-Pretrained AgglomerativeClustering {'n_clusters': 68}\n"
     ]
    },
    {
     "name": "stderr",
     "output_type": "stream",
     "text": [
      "/opt/conda/envs/research/lib/python3.10/site-packages/sklearn/metrics/_classification.py:1531: UndefinedMetricWarning: Precision is ill-defined and being set to 0.0 in labels with no predicted samples. Use `zero_division` parameter to control this behavior.\n",
      "  _warn_prf(average, modifier, f\"{metric.capitalize()} is\", len(result))\n"
     ]
    },
    {
     "name": "stdout",
     "output_type": "stream",
     "text": [
      "Processing SPAC+min3 ViT-Pretrained AgglomerativeClustering {'n_clusters': 73}\n"
     ]
    },
    {
     "name": "stderr",
     "output_type": "stream",
     "text": [
      "/opt/conda/envs/research/lib/python3.10/site-packages/sklearn/metrics/_classification.py:1531: UndefinedMetricWarning: Precision is ill-defined and being set to 0.0 in labels with no predicted samples. Use `zero_division` parameter to control this behavior.\n",
      "  _warn_prf(average, modifier, f\"{metric.capitalize()} is\", len(result))\n"
     ]
    },
    {
     "name": "stdout",
     "output_type": "stream",
     "text": [
      "Processing SPAC+min3 ViT-Pretrained AgglomerativeClustering {'n_clusters': 78}\n"
     ]
    },
    {
     "name": "stderr",
     "output_type": "stream",
     "text": [
      "/opt/conda/envs/research/lib/python3.10/site-packages/sklearn/metrics/_classification.py:1531: UndefinedMetricWarning: Precision is ill-defined and being set to 0.0 in labels with no predicted samples. Use `zero_division` parameter to control this behavior.\n",
      "  _warn_prf(average, modifier, f\"{metric.capitalize()} is\", len(result))\n"
     ]
    },
    {
     "name": "stdout",
     "output_type": "stream",
     "text": [
      "Processing SPAC+min3 ViT-Pretrained AgglomerativeClustering {'n_clusters': 83}\n"
     ]
    },
    {
     "name": "stderr",
     "output_type": "stream",
     "text": [
      "/opt/conda/envs/research/lib/python3.10/site-packages/sklearn/metrics/_classification.py:1531: UndefinedMetricWarning: Precision is ill-defined and being set to 0.0 in labels with no predicted samples. Use `zero_division` parameter to control this behavior.\n",
      "  _warn_prf(average, modifier, f\"{metric.capitalize()} is\", len(result))\n"
     ]
    },
    {
     "name": "stdout",
     "output_type": "stream",
     "text": [
      "Processing SPAC+min3 ViT-Pretrained AgglomerativeClustering {'n_clusters': 88}\n"
     ]
    },
    {
     "name": "stderr",
     "output_type": "stream",
     "text": [
      "/opt/conda/envs/research/lib/python3.10/site-packages/sklearn/metrics/_classification.py:1531: UndefinedMetricWarning: Precision is ill-defined and being set to 0.0 in labels with no predicted samples. Use `zero_division` parameter to control this behavior.\n",
      "  _warn_prf(average, modifier, f\"{metric.capitalize()} is\", len(result))\n"
     ]
    },
    {
     "name": "stdout",
     "output_type": "stream",
     "text": [
      "Processing SPAC+min3 ViT-Pretrained AgglomerativeClustering {'n_clusters': 93}\n"
     ]
    },
    {
     "name": "stderr",
     "output_type": "stream",
     "text": [
      "/opt/conda/envs/research/lib/python3.10/site-packages/sklearn/metrics/_classification.py:1531: UndefinedMetricWarning: Precision is ill-defined and being set to 0.0 in labels with no predicted samples. Use `zero_division` parameter to control this behavior.\n",
      "  _warn_prf(average, modifier, f\"{metric.capitalize()} is\", len(result))\n"
     ]
    },
    {
     "name": "stdout",
     "output_type": "stream",
     "text": [
      "Processing SPAC+min3 ViT-Pretrained AgglomerativeClustering {'n_clusters': 98}\n"
     ]
    },
    {
     "name": "stderr",
     "output_type": "stream",
     "text": [
      "/opt/conda/envs/research/lib/python3.10/site-packages/sklearn/metrics/_classification.py:1531: UndefinedMetricWarning: Precision is ill-defined and being set to 0.0 in labels with no predicted samples. Use `zero_division` parameter to control this behavior.\n",
      "  _warn_prf(average, modifier, f\"{metric.capitalize()} is\", len(result))\n"
     ]
    },
    {
     "name": "stdout",
     "output_type": "stream",
     "text": [
      "Processing SPAC+min3 ViT-Pretrained AgglomerativeClustering {'n_clusters': 103}\n"
     ]
    },
    {
     "name": "stderr",
     "output_type": "stream",
     "text": [
      "/opt/conda/envs/research/lib/python3.10/site-packages/sklearn/metrics/_classification.py:1531: UndefinedMetricWarning: Precision is ill-defined and being set to 0.0 in labels with no predicted samples. Use `zero_division` parameter to control this behavior.\n",
      "  _warn_prf(average, modifier, f\"{metric.capitalize()} is\", len(result))\n"
     ]
    },
    {
     "name": "stdout",
     "output_type": "stream",
     "text": [
      "Processing SPAC+min3 ViT-Pretrained AgglomerativeClustering {'n_clusters': 108}\n"
     ]
    },
    {
     "name": "stderr",
     "output_type": "stream",
     "text": [
      "/opt/conda/envs/research/lib/python3.10/site-packages/sklearn/metrics/_classification.py:1531: UndefinedMetricWarning: Precision is ill-defined and being set to 0.0 in labels with no predicted samples. Use `zero_division` parameter to control this behavior.\n",
      "  _warn_prf(average, modifier, f\"{metric.capitalize()} is\", len(result))\n"
     ]
    },
    {
     "name": "stdout",
     "output_type": "stream",
     "text": [
      "Processing SPAC+min3 ViT-Pretrained AgglomerativeClustering {'n_clusters': 113}\n"
     ]
    },
    {
     "name": "stderr",
     "output_type": "stream",
     "text": [
      "/opt/conda/envs/research/lib/python3.10/site-packages/sklearn/metrics/_classification.py:1531: UndefinedMetricWarning: Precision is ill-defined and being set to 0.0 in labels with no predicted samples. Use `zero_division` parameter to control this behavior.\n",
      "  _warn_prf(average, modifier, f\"{metric.capitalize()} is\", len(result))\n"
     ]
    },
    {
     "name": "stdout",
     "output_type": "stream",
     "text": [
      "Processing SPAC+min3 ViT-Pretrained AgglomerativeClustering {'n_clusters': 118}\n"
     ]
    },
    {
     "name": "stderr",
     "output_type": "stream",
     "text": [
      "/opt/conda/envs/research/lib/python3.10/site-packages/sklearn/metrics/_classification.py:1531: UndefinedMetricWarning: Precision is ill-defined and being set to 0.0 in labels with no predicted samples. Use `zero_division` parameter to control this behavior.\n",
      "  _warn_prf(average, modifier, f\"{metric.capitalize()} is\", len(result))\n"
     ]
    },
    {
     "name": "stdout",
     "output_type": "stream",
     "text": [
      "Processing SPAC+min3 ViT-Pretrained AgglomerativeClustering {'n_clusters': 123}\n"
     ]
    },
    {
     "name": "stderr",
     "output_type": "stream",
     "text": [
      "/opt/conda/envs/research/lib/python3.10/site-packages/sklearn/metrics/_classification.py:1531: UndefinedMetricWarning: Precision is ill-defined and being set to 0.0 in labels with no predicted samples. Use `zero_division` parameter to control this behavior.\n",
      "  _warn_prf(average, modifier, f\"{metric.capitalize()} is\", len(result))\n"
     ]
    },
    {
     "name": "stdout",
     "output_type": "stream",
     "text": [
      "Processing SPAC+min3 ViT-Pretrained AgglomerativeClustering {'n_clusters': 128}\n"
     ]
    },
    {
     "name": "stderr",
     "output_type": "stream",
     "text": [
      "/opt/conda/envs/research/lib/python3.10/site-packages/sklearn/metrics/_classification.py:1531: UndefinedMetricWarning: Precision is ill-defined and being set to 0.0 in labels with no predicted samples. Use `zero_division` parameter to control this behavior.\n",
      "  _warn_prf(average, modifier, f\"{metric.capitalize()} is\", len(result))\n"
     ]
    },
    {
     "name": "stdout",
     "output_type": "stream",
     "text": [
      "Processing SPAC+min3 ViT-Pretrained AgglomerativeClustering {'n_clusters': 133}\n",
      "Processing SPAC+min3 ViT-Pretrained AgglomerativeClustering {'n_clusters': 138}\n",
      "Processing SPAC+min3 ViT-Pretrained AgglomerativeClustering {'n_clusters': 143}\n",
      "Processing SPAC+min3 ViT-Pretrained AgglomerativeClustering {'n_clusters': 148}\n",
      "Processing SPAC+min3 ViT-Pretrained AgglomerativeClustering {'n_clusters': 153}\n",
      "Processing SPAC+min3 ViT-Pretrained AgglomerativeClustering {'n_clusters': 158}\n",
      "Processing SPAC+min3 ViT-Pretrained AgglomerativeClustering {'n_clusters': 163}\n",
      "Processing SPAC+min3 ViT-Pretrained AgglomerativeClustering {'n_clusters': 168}\n",
      "Processing SPAC+min3 ViT-Pretrained AgglomerativeClustering {'n_clusters': 173}\n",
      "Processing SPAC+min3 ViT-Pretrained AgglomerativeClustering {'n_clusters': 178}\n",
      "Processing SPAC+min3 ViT-Pretrained AgglomerativeClustering {'n_clusters': 183}\n",
      "Processing SPAC+min3 ViT-Pretrained AgglomerativeClustering {'n_clusters': 188}\n",
      "Processing SPAC+min3 ViT-Pretrained AgglomerativeClustering {'n_clusters': 193}\n",
      "Processing SPAC+min3 ViT-Pretrained AgglomerativeClustering {'n_clusters': 198}\n",
      "Processing SPAC+min3 ViT-Pretrained AgglomerativeClustering {'n_clusters': 203}\n",
      "Processing SPAC+min3 ViT-Pretrained AgglomerativeClustering {'n_clusters': 208}\n",
      "Processing SPAC+min3 ViT-Pretrained AgglomerativeClustering {'n_clusters': 213}\n",
      "Processing SPAC+min3 ViT-Pretrained AgglomerativeClustering {'n_clusters': 218}\n",
      "Processing SPAC+min3 ViT-Pretrained AgglomerativeClustering {'n_clusters': 223}\n",
      "Processing SPAC+min3 ViT-Pretrained AgglomerativeClustering {'n_clusters': 228}\n",
      "Processing SPAC+min3 ViT-Pretrained AgglomerativeClustering {'n_clusters': 233}\n",
      "Processing SPAC+min3 ViT-Pretrained AgglomerativeClustering {'n_clusters': 238}\n",
      "Processing SPAC+min3 ViT-Pretrained AgglomerativeClustering {'n_clusters': 243}\n",
      "Processing SPAC+min3 ViT-Pretrained AgglomerativeClustering {'n_clusters': 248}\n",
      "Processing SPAC+min3 ViT-Pretrained AgglomerativeClustering {'n_clusters': 253}\n",
      "Processing SPAC+min3 ViT-Pretrained AgglomerativeClustering {'n_clusters': 258}\n",
      "Processing SPAC+min3 ViT-Pretrained AgglomerativeClustering {'n_clusters': 263}\n",
      "Processing SPAC+min3 ViT-Pretrained AgglomerativeClustering {'n_clusters': 268}\n",
      "Processing SPAC+min3 ViT-Pretrained AgglomerativeClustering {'n_clusters': 273}\n",
      "Processing SPAC+min3 ViT-Pretrained AgglomerativeClustering {'n_clusters': 278}\n",
      "Processing SPAC+min3 ViT-Pretrained AgglomerativeClustering {'n_clusters': 283}\n",
      "Processing SPAC+min3 ViT-Pretrained AgglomerativeClustering {'n_clusters': 288}\n",
      "Processing SPAC+min3 ViT-Pretrained AgglomerativeClustering {'n_clusters': 293}\n",
      "Processing SPAC+min3 ViT-Pretrained AgglomerativeClustering {'n_clusters': 298}\n",
      "Processing SPAC+min3 ViT-Pretrained AgglomerativeClustering {'n_clusters': 303}\n",
      "Processing SPAC+min3 ViT-Pretrained AgglomerativeClustering {'n_clusters': 308}\n",
      "Processing SPAC+min3 ViT-Pretrained AgglomerativeClustering {'n_clusters': 313}\n",
      "Processing SPAC+min3 ViT-Pretrained AgglomerativeClustering {'n_clusters': 318}\n",
      "Processing SPAC+min3 ViT-Pretrained AgglomerativeClustering {'n_clusters': 323}\n",
      "Processing SPAC+min3 ViT-Pretrained AgglomerativeClustering {'n_clusters': 328}\n",
      "Processing SPAC+min3 ViT-Pretrained AgglomerativeClustering {'n_clusters': 333}\n",
      "Processing SPAC+min3 ViT-Pretrained AgglomerativeClustering {'n_clusters': 338}\n",
      "Processing SPAC+min3 ViT-Pretrained AgglomerativeClustering {'n_clusters': 343}\n",
      "Processing SPAC+min3 ViT-Pretrained AgglomerativeClustering {'n_clusters': 348}\n",
      "Processing SPAC+min3 ViT-Pretrained AgglomerativeClustering {'n_clusters': 353}\n",
      "Processing SPAC+min3 ViT-Pretrained AgglomerativeClustering {'n_clusters': 358}\n",
      "Processing SPAC+min3 ViT-Pretrained AgglomerativeClustering {'n_clusters': 363}\n",
      "Processing SPAC+min3 ViT-Pretrained AgglomerativeClustering {'n_clusters': 368}\n",
      "Processing SPAC+min3 ViT-Pretrained AgglomerativeClustering {'n_clusters': 373}\n",
      "Processing SPAC+min3 ViT-Pretrained AgglomerativeClustering {'n_clusters': 378}\n",
      "Processing SPAC+min3 ViT-Pretrained AgglomerativeClustering {'n_clusters': 383}\n",
      "Processing SPAC+min3 ViT-Pretrained AgglomerativeClustering {'n_clusters': 388}\n",
      "Processing SPAC+min3 ViT-Pretrained AgglomerativeClustering {'n_clusters': 393}\n",
      "Processing SPAC+min3 ViT-Pretrained AgglomerativeClustering {'n_clusters': 398}\n",
      "Processing SPAC+min3 ViT-Pretrained AgglomerativeClustering {'n_clusters': 403}\n",
      "Processing SPAC+min3 ViT-Pretrained AgglomerativeClustering {'n_clusters': 408}\n",
      "Processing SPAC+min3 ViT-Pretrained AgglomerativeClustering {'n_clusters': 413}\n",
      "Processing SPAC+min3 ViT-Pretrained AgglomerativeClustering {'n_clusters': 418}\n",
      "Processing SPAC+min3 ViT-Pretrained AgglomerativeClustering {'n_clusters': 423}\n",
      "Processing SPAC+min3 ViT-Pretrained AgglomerativeClustering {'n_clusters': 428}\n",
      "Processing SPAC+min3 ViT-Pretrained AgglomerativeClustering {'n_clusters': 433}\n",
      "Processing SPAC+min3 ViT-Pretrained AgglomerativeClustering {'n_clusters': 438}\n",
      "Processing SPAC+min3 ViT-Pretrained AgglomerativeClustering {'n_clusters': 443}\n",
      "Processing SPAC+min3 ViT-Pretrained AgglomerativeClustering {'n_clusters': 448}\n",
      "Processing SPAC+min3 ViT-Pretrained AgglomerativeClustering {'n_clusters': 453}\n",
      "Processing SPAC+min3 ViT-Pretrained AgglomerativeClustering {'n_clusters': 458}\n",
      "Processing SPAC+min3 ViT-Pretrained AgglomerativeClustering {'n_clusters': 463}\n",
      "Processing SPAC+min3 ViT-Pretrained AgglomerativeClustering {'n_clusters': 468}\n",
      "Processing SPAC+min3 ViT-Pretrained AgglomerativeClustering {'n_clusters': 473}\n",
      "Processing SPAC+min3 ViT-Pretrained AgglomerativeClustering {'n_clusters': 478}\n",
      "Processing SPAC+min3 ViT-Pretrained AgglomerativeClustering {'n_clusters': 483}\n",
      "Processing SPAC+min3 ViT-Pretrained AgglomerativeClustering {'n_clusters': 488}\n",
      "Processing SPAC+min3 ViT-Pretrained AgglomerativeClustering {'n_clusters': 493}\n",
      "Processing SPAC+min3 ViT-Pretrained AgglomerativeClustering {'n_clusters': 498}\n",
      "Processing SPAC+min3 ViT-Pretrained AgglomerativeClustering {'n_clusters': 503}\n",
      "Processing SPAC+min3 ViT-Pretrained AgglomerativeClustering {'n_clusters': 508}\n",
      "Processing SPAC+min3 ViT-Pretrained AgglomerativeClustering {'n_clusters': 513}\n",
      "Processing SPAC+min3 ViT-Pretrained AgglomerativeClustering {'n_clusters': 518}\n",
      "Processing SPAC+min3 ViT-Pretrained AgglomerativeClustering {'n_clusters': 523}\n",
      "Processing SPAC+min3 ViT-Pretrained AgglomerativeClustering {'n_clusters': 528}\n",
      "Processing SPAC+min3 ViT-Pretrained AgglomerativeClustering {'n_clusters': 533}\n",
      "Processing SPAC+min3 ViT-Pretrained AgglomerativeClustering {'n_clusters': 538}\n",
      "Processing SPAC+min3 ViT-Pretrained AgglomerativeClustering {'n_clusters': 543}\n",
      "Processing SPAC+min3 ViT-Pretrained AgglomerativeClustering {'n_clusters': 548}\n",
      "Processing SPAC+min3 ViT-Pretrained AgglomerativeClustering {'n_clusters': 553}\n",
      "Processing SPAC+min3 ViT-Pretrained AgglomerativeClustering {'n_clusters': 558}\n",
      "Processing SPAC+min3 ViT-Pretrained AgglomerativeClustering {'n_clusters': 563}\n",
      "Processing SPAC+min3 ViT-Pretrained AgglomerativeClustering {'n_clusters': 568}\n",
      "Processing SPAC+min3 ViT-Pretrained AgglomerativeClustering {'n_clusters': 573}\n",
      "Processing SPAC+min3 ViT-Pretrained AgglomerativeClustering {'n_clusters': 578}\n",
      "Processing SPAC+min3 ViT-Pretrained AgglomerativeClustering {'n_clusters': 583}\n",
      "Processing SPAC+min3 ViT-Pretrained AgglomerativeClustering {'n_clusters': 588}\n",
      "Processing SPAC+min3 ViT-Pretrained AgglomerativeClustering {'n_clusters': 593}\n",
      "Processing SPAC+min3 ViT-Pretrained AgglomerativeClustering {'n_clusters': 598}\n",
      "Processing SPAC+min3 ViT-Pretrained AgglomerativeClustering {'n_clusters': 603}\n",
      "Processing SPAC+min3 ViT-Pretrained AgglomerativeClustering {'n_clusters': 608}\n",
      "Processing SPAC+min3 ViT-Pretrained AgglomerativeClustering {'n_clusters': 613}\n",
      "Processing SPAC+min3 ViT-Pretrained AgglomerativeClustering {'n_clusters': 618}\n",
      "Processing SPAC+min3 ViT-Pretrained AgglomerativeClustering {'n_clusters': 623}\n",
      "Processing SPAC+min3 ViT-Pretrained AgglomerativeClustering {'n_clusters': 628}\n",
      "Processing SPAC+min3 ViT-Pretrained AgglomerativeClustering {'n_clusters': 633}\n",
      "Processing SPAC+min3 ViT-Pretrained AgglomerativeClustering {'n_clusters': 638}\n",
      "Processing SPAC+min3 ViT-Pretrained AgglomerativeClustering {'n_clusters': 643}\n",
      "Processing SPAC+min3 ViT-Pretrained AgglomerativeClustering {'n_clusters': 648}\n",
      "Processing SPAC+min3 ViT-Pretrained AgglomerativeClustering {'n_clusters': 653}\n",
      "Processing SPAC+min3 ViT-Pretrained AgglomerativeClustering {'n_clusters': 658}\n",
      "Processing SPAC+min3 ViT-Pretrained AgglomerativeClustering {'n_clusters': 663}\n",
      "Processing SPAC+min3 ViT-Pretrained AgglomerativeClustering {'n_clusters': 668}\n",
      "Processing SPAC+min3 ViT-Pretrained AgglomerativeClustering {'n_clusters': 673}\n",
      "Processing SPAC+min3 ViT-Pretrained AgglomerativeClustering {'n_clusters': 678}\n",
      "Processing SPAC+min3 ViT-Pretrained AgglomerativeClustering {'n_clusters': 683}\n",
      "Processing SPAC+min3 ViT-Pretrained AgglomerativeClustering {'n_clusters': 688}\n",
      "Processing SPAC+min3 ViT-Pretrained AgglomerativeClustering {'n_clusters': 693}\n",
      "Processing SPAC+min3 ViT-Pretrained AgglomerativeClustering {'n_clusters': 698}\n",
      "Processing SPAC+min3 ViT-Pretrained AgglomerativeClustering {'n_clusters': 703}\n",
      "Processing SPAC+min3 ViT-Pretrained AgglomerativeClustering {'n_clusters': 708}\n",
      "Processing SPAC+min3 ViT-Pretrained AgglomerativeClustering {'n_clusters': 713}\n",
      "Processing SPAC+min3 ViT-Pretrained AgglomerativeClustering {'n_clusters': 718}\n"
     ]
    },
    {
     "name": "stderr",
     "output_type": "stream",
     "text": [
      "Processing configurations:  42%|████▏     | 5/12 [06:10<11:27, 98.16s/it]"
     ]
    },
    {
     "name": "stdout",
     "output_type": "stream",
     "text": [
      "Processing SPAC+min3 ViT-Pretrained HDBSCAN\n",
      "Processing SPAC+min3 ViT-Pretrained HDBSCAN {'min_cluster_size': 3}\n"
     ]
    },
    {
     "name": "stderr",
     "output_type": "stream",
     "text": [
      "/opt/conda/envs/research/lib/python3.10/site-packages/sklearn/metrics/_classification.py:1531: UndefinedMetricWarning: Precision is ill-defined and being set to 0.0 in labels with no predicted samples. Use `zero_division` parameter to control this behavior.\n",
      "  _warn_prf(average, modifier, f\"{metric.capitalize()} is\", len(result))\n"
     ]
    },
    {
     "name": "stdout",
     "output_type": "stream",
     "text": [
      "Processing SPAC+min3 ViT-Pretrained HDBSCAN {'min_cluster_size': 5}\n"
     ]
    },
    {
     "name": "stderr",
     "output_type": "stream",
     "text": [
      "/opt/conda/envs/research/lib/python3.10/site-packages/sklearn/metrics/_classification.py:1531: UndefinedMetricWarning: Precision is ill-defined and being set to 0.0 in labels with no predicted samples. Use `zero_division` parameter to control this behavior.\n",
      "  _warn_prf(average, modifier, f\"{metric.capitalize()} is\", len(result))\n"
     ]
    },
    {
     "name": "stdout",
     "output_type": "stream",
     "text": [
      "Processing SPAC+min3 ViT-Pretrained HDBSCAN {'min_cluster_size': 10}\n"
     ]
    },
    {
     "name": "stderr",
     "output_type": "stream",
     "text": [
      "/opt/conda/envs/research/lib/python3.10/site-packages/sklearn/metrics/_classification.py:1531: UndefinedMetricWarning: Precision is ill-defined and being set to 0.0 in labels with no predicted samples. Use `zero_division` parameter to control this behavior.\n",
      "  _warn_prf(average, modifier, f\"{metric.capitalize()} is\", len(result))\n"
     ]
    },
    {
     "name": "stdout",
     "output_type": "stream",
     "text": [
      "Processing SPAC+min3 ViT-Pretrained HDBSCAN {'min_cluster_size': 20}\n"
     ]
    },
    {
     "name": "stderr",
     "output_type": "stream",
     "text": [
      "/opt/conda/envs/research/lib/python3.10/site-packages/sklearn/metrics/_classification.py:1531: UndefinedMetricWarning: Precision is ill-defined and being set to 0.0 in labels with no predicted samples. Use `zero_division` parameter to control this behavior.\n",
      "  _warn_prf(average, modifier, f\"{metric.capitalize()} is\", len(result))\n"
     ]
    },
    {
     "name": "stdout",
     "output_type": "stream",
     "text": [
      "Processing SPAC+min3 ViT-Pretrained HDBSCAN {'min_cluster_size': 25}\n"
     ]
    },
    {
     "name": "stderr",
     "output_type": "stream",
     "text": [
      "/opt/conda/envs/research/lib/python3.10/site-packages/sklearn/metrics/_classification.py:1531: UndefinedMetricWarning: Precision is ill-defined and being set to 0.0 in labels with no predicted samples. Use `zero_division` parameter to control this behavior.\n",
      "  _warn_prf(average, modifier, f\"{metric.capitalize()} is\", len(result))\n",
      "Processing configurations:  50%|█████     | 6/12 [06:13<06:40, 66.80s/it]"
     ]
    },
    {
     "name": "stdout",
     "output_type": "stream",
     "text": [
      "Processing SPAC+min3 EfN-Pretrained KMeans\n",
      "Processing SPAC+min3 EfN-Pretrained KMeans {'n_clusters': 3}\n"
     ]
    },
    {
     "name": "stderr",
     "output_type": "stream",
     "text": [
      "/opt/conda/envs/research/lib/python3.10/site-packages/sklearn/metrics/_classification.py:1531: UndefinedMetricWarning: Precision is ill-defined and being set to 0.0 in labels with no predicted samples. Use `zero_division` parameter to control this behavior.\n",
      "  _warn_prf(average, modifier, f\"{metric.capitalize()} is\", len(result))\n"
     ]
    },
    {
     "name": "stdout",
     "output_type": "stream",
     "text": [
      "Processing SPAC+min3 EfN-Pretrained KMeans {'n_clusters': 8}\n"
     ]
    },
    {
     "name": "stderr",
     "output_type": "stream",
     "text": [
      "/opt/conda/envs/research/lib/python3.10/site-packages/sklearn/metrics/_classification.py:1531: UndefinedMetricWarning: Precision is ill-defined and being set to 0.0 in labels with no predicted samples. Use `zero_division` parameter to control this behavior.\n",
      "  _warn_prf(average, modifier, f\"{metric.capitalize()} is\", len(result))\n"
     ]
    },
    {
     "name": "stdout",
     "output_type": "stream",
     "text": [
      "Processing SPAC+min3 EfN-Pretrained KMeans {'n_clusters': 13}\n"
     ]
    },
    {
     "name": "stderr",
     "output_type": "stream",
     "text": [
      "/opt/conda/envs/research/lib/python3.10/site-packages/sklearn/metrics/_classification.py:1531: UndefinedMetricWarning: Precision is ill-defined and being set to 0.0 in labels with no predicted samples. Use `zero_division` parameter to control this behavior.\n",
      "  _warn_prf(average, modifier, f\"{metric.capitalize()} is\", len(result))\n"
     ]
    },
    {
     "name": "stdout",
     "output_type": "stream",
     "text": [
      "Processing SPAC+min3 EfN-Pretrained KMeans {'n_clusters': 18}\n"
     ]
    },
    {
     "name": "stderr",
     "output_type": "stream",
     "text": [
      "/opt/conda/envs/research/lib/python3.10/site-packages/sklearn/metrics/_classification.py:1531: UndefinedMetricWarning: Precision is ill-defined and being set to 0.0 in labels with no predicted samples. Use `zero_division` parameter to control this behavior.\n",
      "  _warn_prf(average, modifier, f\"{metric.capitalize()} is\", len(result))\n"
     ]
    },
    {
     "name": "stdout",
     "output_type": "stream",
     "text": [
      "Processing SPAC+min3 EfN-Pretrained KMeans {'n_clusters': 23}\n"
     ]
    },
    {
     "name": "stderr",
     "output_type": "stream",
     "text": [
      "/opt/conda/envs/research/lib/python3.10/site-packages/sklearn/metrics/_classification.py:1531: UndefinedMetricWarning: Precision is ill-defined and being set to 0.0 in labels with no predicted samples. Use `zero_division` parameter to control this behavior.\n",
      "  _warn_prf(average, modifier, f\"{metric.capitalize()} is\", len(result))\n"
     ]
    },
    {
     "name": "stdout",
     "output_type": "stream",
     "text": [
      "Processing SPAC+min3 EfN-Pretrained KMeans {'n_clusters': 28}\n"
     ]
    },
    {
     "name": "stderr",
     "output_type": "stream",
     "text": [
      "/opt/conda/envs/research/lib/python3.10/site-packages/sklearn/metrics/_classification.py:1531: UndefinedMetricWarning: Precision is ill-defined and being set to 0.0 in labels with no predicted samples. Use `zero_division` parameter to control this behavior.\n",
      "  _warn_prf(average, modifier, f\"{metric.capitalize()} is\", len(result))\n"
     ]
    },
    {
     "name": "stdout",
     "output_type": "stream",
     "text": [
      "Processing SPAC+min3 EfN-Pretrained KMeans {'n_clusters': 33}\n"
     ]
    },
    {
     "name": "stderr",
     "output_type": "stream",
     "text": [
      "/opt/conda/envs/research/lib/python3.10/site-packages/sklearn/metrics/_classification.py:1531: UndefinedMetricWarning: Precision is ill-defined and being set to 0.0 in labels with no predicted samples. Use `zero_division` parameter to control this behavior.\n",
      "  _warn_prf(average, modifier, f\"{metric.capitalize()} is\", len(result))\n"
     ]
    },
    {
     "name": "stdout",
     "output_type": "stream",
     "text": [
      "Processing SPAC+min3 EfN-Pretrained KMeans {'n_clusters': 38}\n"
     ]
    },
    {
     "name": "stderr",
     "output_type": "stream",
     "text": [
      "/opt/conda/envs/research/lib/python3.10/site-packages/sklearn/metrics/_classification.py:1531: UndefinedMetricWarning: Precision is ill-defined and being set to 0.0 in labels with no predicted samples. Use `zero_division` parameter to control this behavior.\n",
      "  _warn_prf(average, modifier, f\"{metric.capitalize()} is\", len(result))\n"
     ]
    },
    {
     "name": "stdout",
     "output_type": "stream",
     "text": [
      "Processing SPAC+min3 EfN-Pretrained KMeans {'n_clusters': 43}\n"
     ]
    },
    {
     "name": "stderr",
     "output_type": "stream",
     "text": [
      "/opt/conda/envs/research/lib/python3.10/site-packages/sklearn/metrics/_classification.py:1531: UndefinedMetricWarning: Precision is ill-defined and being set to 0.0 in labels with no predicted samples. Use `zero_division` parameter to control this behavior.\n",
      "  _warn_prf(average, modifier, f\"{metric.capitalize()} is\", len(result))\n"
     ]
    },
    {
     "name": "stdout",
     "output_type": "stream",
     "text": [
      "Processing SPAC+min3 EfN-Pretrained KMeans {'n_clusters': 48}\n"
     ]
    },
    {
     "name": "stderr",
     "output_type": "stream",
     "text": [
      "/opt/conda/envs/research/lib/python3.10/site-packages/sklearn/metrics/_classification.py:1531: UndefinedMetricWarning: Precision is ill-defined and being set to 0.0 in labels with no predicted samples. Use `zero_division` parameter to control this behavior.\n",
      "  _warn_prf(average, modifier, f\"{metric.capitalize()} is\", len(result))\n"
     ]
    },
    {
     "name": "stdout",
     "output_type": "stream",
     "text": [
      "Processing SPAC+min3 EfN-Pretrained KMeans {'n_clusters': 53}\n"
     ]
    },
    {
     "name": "stderr",
     "output_type": "stream",
     "text": [
      "/opt/conda/envs/research/lib/python3.10/site-packages/sklearn/metrics/_classification.py:1531: UndefinedMetricWarning: Precision is ill-defined and being set to 0.0 in labels with no predicted samples. Use `zero_division` parameter to control this behavior.\n",
      "  _warn_prf(average, modifier, f\"{metric.capitalize()} is\", len(result))\n"
     ]
    },
    {
     "name": "stdout",
     "output_type": "stream",
     "text": [
      "Processing SPAC+min3 EfN-Pretrained KMeans {'n_clusters': 58}\n"
     ]
    },
    {
     "name": "stderr",
     "output_type": "stream",
     "text": [
      "/opt/conda/envs/research/lib/python3.10/site-packages/sklearn/metrics/_classification.py:1531: UndefinedMetricWarning: Precision is ill-defined and being set to 0.0 in labels with no predicted samples. Use `zero_division` parameter to control this behavior.\n",
      "  _warn_prf(average, modifier, f\"{metric.capitalize()} is\", len(result))\n"
     ]
    },
    {
     "name": "stdout",
     "output_type": "stream",
     "text": [
      "Processing SPAC+min3 EfN-Pretrained KMeans {'n_clusters': 63}\n"
     ]
    },
    {
     "name": "stderr",
     "output_type": "stream",
     "text": [
      "/opt/conda/envs/research/lib/python3.10/site-packages/sklearn/metrics/_classification.py:1531: UndefinedMetricWarning: Precision is ill-defined and being set to 0.0 in labels with no predicted samples. Use `zero_division` parameter to control this behavior.\n",
      "  _warn_prf(average, modifier, f\"{metric.capitalize()} is\", len(result))\n"
     ]
    },
    {
     "name": "stdout",
     "output_type": "stream",
     "text": [
      "Processing SPAC+min3 EfN-Pretrained KMeans {'n_clusters': 68}\n"
     ]
    },
    {
     "name": "stderr",
     "output_type": "stream",
     "text": [
      "/opt/conda/envs/research/lib/python3.10/site-packages/sklearn/metrics/_classification.py:1531: UndefinedMetricWarning: Precision is ill-defined and being set to 0.0 in labels with no predicted samples. Use `zero_division` parameter to control this behavior.\n",
      "  _warn_prf(average, modifier, f\"{metric.capitalize()} is\", len(result))\n"
     ]
    },
    {
     "name": "stdout",
     "output_type": "stream",
     "text": [
      "Processing SPAC+min3 EfN-Pretrained KMeans {'n_clusters': 73}\n"
     ]
    },
    {
     "name": "stderr",
     "output_type": "stream",
     "text": [
      "/opt/conda/envs/research/lib/python3.10/site-packages/sklearn/metrics/_classification.py:1531: UndefinedMetricWarning: Precision is ill-defined and being set to 0.0 in labels with no predicted samples. Use `zero_division` parameter to control this behavior.\n",
      "  _warn_prf(average, modifier, f\"{metric.capitalize()} is\", len(result))\n"
     ]
    },
    {
     "name": "stdout",
     "output_type": "stream",
     "text": [
      "Processing SPAC+min3 EfN-Pretrained KMeans {'n_clusters': 78}\n"
     ]
    },
    {
     "name": "stderr",
     "output_type": "stream",
     "text": [
      "/opt/conda/envs/research/lib/python3.10/site-packages/sklearn/metrics/_classification.py:1531: UndefinedMetricWarning: Precision is ill-defined and being set to 0.0 in labels with no predicted samples. Use `zero_division` parameter to control this behavior.\n",
      "  _warn_prf(average, modifier, f\"{metric.capitalize()} is\", len(result))\n"
     ]
    },
    {
     "name": "stdout",
     "output_type": "stream",
     "text": [
      "Processing SPAC+min3 EfN-Pretrained KMeans {'n_clusters': 83}\n"
     ]
    },
    {
     "name": "stderr",
     "output_type": "stream",
     "text": [
      "/opt/conda/envs/research/lib/python3.10/site-packages/sklearn/metrics/_classification.py:1531: UndefinedMetricWarning: Precision is ill-defined and being set to 0.0 in labels with no predicted samples. Use `zero_division` parameter to control this behavior.\n",
      "  _warn_prf(average, modifier, f\"{metric.capitalize()} is\", len(result))\n"
     ]
    },
    {
     "name": "stdout",
     "output_type": "stream",
     "text": [
      "Processing SPAC+min3 EfN-Pretrained KMeans {'n_clusters': 88}\n"
     ]
    },
    {
     "name": "stderr",
     "output_type": "stream",
     "text": [
      "/opt/conda/envs/research/lib/python3.10/site-packages/sklearn/metrics/_classification.py:1531: UndefinedMetricWarning: Precision is ill-defined and being set to 0.0 in labels with no predicted samples. Use `zero_division` parameter to control this behavior.\n",
      "  _warn_prf(average, modifier, f\"{metric.capitalize()} is\", len(result))\n"
     ]
    },
    {
     "name": "stdout",
     "output_type": "stream",
     "text": [
      "Processing SPAC+min3 EfN-Pretrained KMeans {'n_clusters': 93}\n"
     ]
    },
    {
     "name": "stderr",
     "output_type": "stream",
     "text": [
      "/opt/conda/envs/research/lib/python3.10/site-packages/sklearn/metrics/_classification.py:1531: UndefinedMetricWarning: Precision is ill-defined and being set to 0.0 in labels with no predicted samples. Use `zero_division` parameter to control this behavior.\n",
      "  _warn_prf(average, modifier, f\"{metric.capitalize()} is\", len(result))\n"
     ]
    },
    {
     "name": "stdout",
     "output_type": "stream",
     "text": [
      "Processing SPAC+min3 EfN-Pretrained KMeans {'n_clusters': 98}\n"
     ]
    },
    {
     "name": "stderr",
     "output_type": "stream",
     "text": [
      "/opt/conda/envs/research/lib/python3.10/site-packages/sklearn/metrics/_classification.py:1531: UndefinedMetricWarning: Precision is ill-defined and being set to 0.0 in labels with no predicted samples. Use `zero_division` parameter to control this behavior.\n",
      "  _warn_prf(average, modifier, f\"{metric.capitalize()} is\", len(result))\n"
     ]
    },
    {
     "name": "stdout",
     "output_type": "stream",
     "text": [
      "Processing SPAC+min3 EfN-Pretrained KMeans {'n_clusters': 103}\n"
     ]
    },
    {
     "name": "stderr",
     "output_type": "stream",
     "text": [
      "/opt/conda/envs/research/lib/python3.10/site-packages/sklearn/metrics/_classification.py:1531: UndefinedMetricWarning: Precision is ill-defined and being set to 0.0 in labels with no predicted samples. Use `zero_division` parameter to control this behavior.\n",
      "  _warn_prf(average, modifier, f\"{metric.capitalize()} is\", len(result))\n"
     ]
    },
    {
     "name": "stdout",
     "output_type": "stream",
     "text": [
      "Processing SPAC+min3 EfN-Pretrained KMeans {'n_clusters': 108}\n"
     ]
    },
    {
     "name": "stderr",
     "output_type": "stream",
     "text": [
      "/opt/conda/envs/research/lib/python3.10/site-packages/sklearn/metrics/_classification.py:1531: UndefinedMetricWarning: Precision is ill-defined and being set to 0.0 in labels with no predicted samples. Use `zero_division` parameter to control this behavior.\n",
      "  _warn_prf(average, modifier, f\"{metric.capitalize()} is\", len(result))\n"
     ]
    },
    {
     "name": "stdout",
     "output_type": "stream",
     "text": [
      "Processing SPAC+min3 EfN-Pretrained KMeans {'n_clusters': 113}\n"
     ]
    },
    {
     "name": "stderr",
     "output_type": "stream",
     "text": [
      "/opt/conda/envs/research/lib/python3.10/site-packages/sklearn/metrics/_classification.py:1531: UndefinedMetricWarning: Precision is ill-defined and being set to 0.0 in labels with no predicted samples. Use `zero_division` parameter to control this behavior.\n",
      "  _warn_prf(average, modifier, f\"{metric.capitalize()} is\", len(result))\n"
     ]
    },
    {
     "name": "stdout",
     "output_type": "stream",
     "text": [
      "Processing SPAC+min3 EfN-Pretrained KMeans {'n_clusters': 118}\n"
     ]
    },
    {
     "name": "stderr",
     "output_type": "stream",
     "text": [
      "/opt/conda/envs/research/lib/python3.10/site-packages/sklearn/metrics/_classification.py:1531: UndefinedMetricWarning: Precision is ill-defined and being set to 0.0 in labels with no predicted samples. Use `zero_division` parameter to control this behavior.\n",
      "  _warn_prf(average, modifier, f\"{metric.capitalize()} is\", len(result))\n"
     ]
    },
    {
     "name": "stdout",
     "output_type": "stream",
     "text": [
      "Processing SPAC+min3 EfN-Pretrained KMeans {'n_clusters': 123}\n"
     ]
    },
    {
     "name": "stderr",
     "output_type": "stream",
     "text": [
      "/opt/conda/envs/research/lib/python3.10/site-packages/sklearn/metrics/_classification.py:1531: UndefinedMetricWarning: Precision is ill-defined and being set to 0.0 in labels with no predicted samples. Use `zero_division` parameter to control this behavior.\n",
      "  _warn_prf(average, modifier, f\"{metric.capitalize()} is\", len(result))\n"
     ]
    },
    {
     "name": "stdout",
     "output_type": "stream",
     "text": [
      "Processing SPAC+min3 EfN-Pretrained KMeans {'n_clusters': 128}\n"
     ]
    },
    {
     "name": "stderr",
     "output_type": "stream",
     "text": [
      "/opt/conda/envs/research/lib/python3.10/site-packages/sklearn/metrics/_classification.py:1531: UndefinedMetricWarning: Precision is ill-defined and being set to 0.0 in labels with no predicted samples. Use `zero_division` parameter to control this behavior.\n",
      "  _warn_prf(average, modifier, f\"{metric.capitalize()} is\", len(result))\n"
     ]
    },
    {
     "name": "stdout",
     "output_type": "stream",
     "text": [
      "Processing SPAC+min3 EfN-Pretrained KMeans {'n_clusters': 133}\n",
      "Processing SPAC+min3 EfN-Pretrained KMeans {'n_clusters': 138}\n",
      "Processing SPAC+min3 EfN-Pretrained KMeans {'n_clusters': 143}\n",
      "Processing SPAC+min3 EfN-Pretrained KMeans {'n_clusters': 148}\n",
      "Processing SPAC+min3 EfN-Pretrained KMeans {'n_clusters': 153}\n",
      "Processing SPAC+min3 EfN-Pretrained KMeans {'n_clusters': 158}\n",
      "Processing SPAC+min3 EfN-Pretrained KMeans {'n_clusters': 163}\n",
      "Processing SPAC+min3 EfN-Pretrained KMeans {'n_clusters': 168}\n",
      "Processing SPAC+min3 EfN-Pretrained KMeans {'n_clusters': 173}\n",
      "Processing SPAC+min3 EfN-Pretrained KMeans {'n_clusters': 178}\n",
      "Processing SPAC+min3 EfN-Pretrained KMeans {'n_clusters': 183}\n",
      "Processing SPAC+min3 EfN-Pretrained KMeans {'n_clusters': 188}\n",
      "Processing SPAC+min3 EfN-Pretrained KMeans {'n_clusters': 193}\n",
      "Processing SPAC+min3 EfN-Pretrained KMeans {'n_clusters': 198}\n",
      "Processing SPAC+min3 EfN-Pretrained KMeans {'n_clusters': 203}\n",
      "Processing SPAC+min3 EfN-Pretrained KMeans {'n_clusters': 208}\n",
      "Processing SPAC+min3 EfN-Pretrained KMeans {'n_clusters': 213}\n",
      "Processing SPAC+min3 EfN-Pretrained KMeans {'n_clusters': 218}\n",
      "Processing SPAC+min3 EfN-Pretrained KMeans {'n_clusters': 223}\n",
      "Processing SPAC+min3 EfN-Pretrained KMeans {'n_clusters': 228}\n",
      "Processing SPAC+min3 EfN-Pretrained KMeans {'n_clusters': 233}\n",
      "Processing SPAC+min3 EfN-Pretrained KMeans {'n_clusters': 238}\n",
      "Processing SPAC+min3 EfN-Pretrained KMeans {'n_clusters': 243}\n",
      "Processing SPAC+min3 EfN-Pretrained KMeans {'n_clusters': 248}\n",
      "Processing SPAC+min3 EfN-Pretrained KMeans {'n_clusters': 253}\n",
      "Processing SPAC+min3 EfN-Pretrained KMeans {'n_clusters': 258}\n",
      "Processing SPAC+min3 EfN-Pretrained KMeans {'n_clusters': 263}\n",
      "Processing SPAC+min3 EfN-Pretrained KMeans {'n_clusters': 268}\n",
      "Processing SPAC+min3 EfN-Pretrained KMeans {'n_clusters': 273}\n",
      "Processing SPAC+min3 EfN-Pretrained KMeans {'n_clusters': 278}\n",
      "Processing SPAC+min3 EfN-Pretrained KMeans {'n_clusters': 283}\n",
      "Processing SPAC+min3 EfN-Pretrained KMeans {'n_clusters': 288}\n",
      "Processing SPAC+min3 EfN-Pretrained KMeans {'n_clusters': 293}\n",
      "Processing SPAC+min3 EfN-Pretrained KMeans {'n_clusters': 298}\n",
      "Processing SPAC+min3 EfN-Pretrained KMeans {'n_clusters': 303}\n",
      "Processing SPAC+min3 EfN-Pretrained KMeans {'n_clusters': 308}\n",
      "Processing SPAC+min3 EfN-Pretrained KMeans {'n_clusters': 313}\n",
      "Processing SPAC+min3 EfN-Pretrained KMeans {'n_clusters': 318}\n",
      "Processing SPAC+min3 EfN-Pretrained KMeans {'n_clusters': 323}\n",
      "Processing SPAC+min3 EfN-Pretrained KMeans {'n_clusters': 328}\n",
      "Processing SPAC+min3 EfN-Pretrained KMeans {'n_clusters': 333}\n",
      "Processing SPAC+min3 EfN-Pretrained KMeans {'n_clusters': 338}\n",
      "Processing SPAC+min3 EfN-Pretrained KMeans {'n_clusters': 343}\n",
      "Processing SPAC+min3 EfN-Pretrained KMeans {'n_clusters': 348}\n",
      "Processing SPAC+min3 EfN-Pretrained KMeans {'n_clusters': 353}\n",
      "Processing SPAC+min3 EfN-Pretrained KMeans {'n_clusters': 358}\n",
      "Processing SPAC+min3 EfN-Pretrained KMeans {'n_clusters': 363}\n",
      "Processing SPAC+min3 EfN-Pretrained KMeans {'n_clusters': 368}\n",
      "Processing SPAC+min3 EfN-Pretrained KMeans {'n_clusters': 373}\n",
      "Processing SPAC+min3 EfN-Pretrained KMeans {'n_clusters': 378}\n",
      "Processing SPAC+min3 EfN-Pretrained KMeans {'n_clusters': 383}\n",
      "Processing SPAC+min3 EfN-Pretrained KMeans {'n_clusters': 388}\n",
      "Processing SPAC+min3 EfN-Pretrained KMeans {'n_clusters': 393}\n",
      "Processing SPAC+min3 EfN-Pretrained KMeans {'n_clusters': 398}\n",
      "Processing SPAC+min3 EfN-Pretrained KMeans {'n_clusters': 403}\n",
      "Processing SPAC+min3 EfN-Pretrained KMeans {'n_clusters': 408}\n",
      "Processing SPAC+min3 EfN-Pretrained KMeans {'n_clusters': 413}\n",
      "Processing SPAC+min3 EfN-Pretrained KMeans {'n_clusters': 418}\n",
      "Processing SPAC+min3 EfN-Pretrained KMeans {'n_clusters': 423}\n",
      "Processing SPAC+min3 EfN-Pretrained KMeans {'n_clusters': 428}\n",
      "Processing SPAC+min3 EfN-Pretrained KMeans {'n_clusters': 433}\n",
      "Processing SPAC+min3 EfN-Pretrained KMeans {'n_clusters': 438}\n",
      "Processing SPAC+min3 EfN-Pretrained KMeans {'n_clusters': 443}\n",
      "Processing SPAC+min3 EfN-Pretrained KMeans {'n_clusters': 448}\n",
      "Processing SPAC+min3 EfN-Pretrained KMeans {'n_clusters': 453}\n",
      "Processing SPAC+min3 EfN-Pretrained KMeans {'n_clusters': 458}\n",
      "Processing SPAC+min3 EfN-Pretrained KMeans {'n_clusters': 463}\n",
      "Processing SPAC+min3 EfN-Pretrained KMeans {'n_clusters': 468}\n",
      "Processing SPAC+min3 EfN-Pretrained KMeans {'n_clusters': 473}\n",
      "Processing SPAC+min3 EfN-Pretrained KMeans {'n_clusters': 478}\n",
      "Processing SPAC+min3 EfN-Pretrained KMeans {'n_clusters': 483}\n",
      "Processing SPAC+min3 EfN-Pretrained KMeans {'n_clusters': 488}\n",
      "Processing SPAC+min3 EfN-Pretrained KMeans {'n_clusters': 493}\n",
      "Processing SPAC+min3 EfN-Pretrained KMeans {'n_clusters': 498}\n",
      "Processing SPAC+min3 EfN-Pretrained KMeans {'n_clusters': 503}\n",
      "Processing SPAC+min3 EfN-Pretrained KMeans {'n_clusters': 508}\n",
      "Processing SPAC+min3 EfN-Pretrained KMeans {'n_clusters': 513}\n",
      "Processing SPAC+min3 EfN-Pretrained KMeans {'n_clusters': 518}\n",
      "Processing SPAC+min3 EfN-Pretrained KMeans {'n_clusters': 523}\n",
      "Processing SPAC+min3 EfN-Pretrained KMeans {'n_clusters': 528}\n",
      "Processing SPAC+min3 EfN-Pretrained KMeans {'n_clusters': 533}\n",
      "Processing SPAC+min3 EfN-Pretrained KMeans {'n_clusters': 538}\n",
      "Processing SPAC+min3 EfN-Pretrained KMeans {'n_clusters': 543}\n",
      "Processing SPAC+min3 EfN-Pretrained KMeans {'n_clusters': 548}\n",
      "Processing SPAC+min3 EfN-Pretrained KMeans {'n_clusters': 553}\n",
      "Processing SPAC+min3 EfN-Pretrained KMeans {'n_clusters': 558}\n",
      "Processing SPAC+min3 EfN-Pretrained KMeans {'n_clusters': 563}\n",
      "Processing SPAC+min3 EfN-Pretrained KMeans {'n_clusters': 568}\n",
      "Processing SPAC+min3 EfN-Pretrained KMeans {'n_clusters': 573}\n",
      "Processing SPAC+min3 EfN-Pretrained KMeans {'n_clusters': 578}\n",
      "Processing SPAC+min3 EfN-Pretrained KMeans {'n_clusters': 583}\n",
      "Processing SPAC+min3 EfN-Pretrained KMeans {'n_clusters': 588}\n",
      "Processing SPAC+min3 EfN-Pretrained KMeans {'n_clusters': 593}\n",
      "Processing SPAC+min3 EfN-Pretrained KMeans {'n_clusters': 598}\n",
      "Processing SPAC+min3 EfN-Pretrained KMeans {'n_clusters': 603}\n",
      "Processing SPAC+min3 EfN-Pretrained KMeans {'n_clusters': 608}\n",
      "Processing SPAC+min3 EfN-Pretrained KMeans {'n_clusters': 613}\n",
      "Processing SPAC+min3 EfN-Pretrained KMeans {'n_clusters': 618}\n",
      "Processing SPAC+min3 EfN-Pretrained KMeans {'n_clusters': 623}\n",
      "Processing SPAC+min3 EfN-Pretrained KMeans {'n_clusters': 628}\n",
      "Processing SPAC+min3 EfN-Pretrained KMeans {'n_clusters': 633}\n",
      "Processing SPAC+min3 EfN-Pretrained KMeans {'n_clusters': 638}\n",
      "Processing SPAC+min3 EfN-Pretrained KMeans {'n_clusters': 643}\n",
      "Processing SPAC+min3 EfN-Pretrained KMeans {'n_clusters': 648}\n",
      "Processing SPAC+min3 EfN-Pretrained KMeans {'n_clusters': 653}\n",
      "Processing SPAC+min3 EfN-Pretrained KMeans {'n_clusters': 658}\n",
      "Processing SPAC+min3 EfN-Pretrained KMeans {'n_clusters': 663}\n",
      "Processing SPAC+min3 EfN-Pretrained KMeans {'n_clusters': 668}\n",
      "Processing SPAC+min3 EfN-Pretrained KMeans {'n_clusters': 673}\n",
      "Processing SPAC+min3 EfN-Pretrained KMeans {'n_clusters': 678}\n",
      "Processing SPAC+min3 EfN-Pretrained KMeans {'n_clusters': 683}\n",
      "Processing SPAC+min3 EfN-Pretrained KMeans {'n_clusters': 688}\n",
      "Processing SPAC+min3 EfN-Pretrained KMeans {'n_clusters': 693}\n",
      "Processing SPAC+min3 EfN-Pretrained KMeans {'n_clusters': 698}\n",
      "Processing SPAC+min3 EfN-Pretrained KMeans {'n_clusters': 703}\n",
      "Processing SPAC+min3 EfN-Pretrained KMeans {'n_clusters': 708}\n",
      "Processing SPAC+min3 EfN-Pretrained KMeans {'n_clusters': 713}\n",
      "Processing SPAC+min3 EfN-Pretrained KMeans {'n_clusters': 718}\n"
     ]
    },
    {
     "name": "stderr",
     "output_type": "stream",
     "text": [
      "Processing configurations:  58%|█████▊    | 7/12 [10:17<10:17, 123.60s/it]"
     ]
    },
    {
     "name": "stdout",
     "output_type": "stream",
     "text": [
      "Processing SPAC+min3 EfN-Pretrained AgglomerativeClustering\n",
      "Processing SPAC+min3 EfN-Pretrained AgglomerativeClustering {'n_clusters': 3}\n"
     ]
    },
    {
     "name": "stderr",
     "output_type": "stream",
     "text": [
      "/opt/conda/envs/research/lib/python3.10/site-packages/sklearn/metrics/_classification.py:1531: UndefinedMetricWarning: Precision is ill-defined and being set to 0.0 in labels with no predicted samples. Use `zero_division` parameter to control this behavior.\n",
      "  _warn_prf(average, modifier, f\"{metric.capitalize()} is\", len(result))\n"
     ]
    },
    {
     "name": "stdout",
     "output_type": "stream",
     "text": [
      "Processing SPAC+min3 EfN-Pretrained AgglomerativeClustering {'n_clusters': 8}\n"
     ]
    },
    {
     "name": "stderr",
     "output_type": "stream",
     "text": [
      "/opt/conda/envs/research/lib/python3.10/site-packages/sklearn/metrics/_classification.py:1531: UndefinedMetricWarning: Precision is ill-defined and being set to 0.0 in labels with no predicted samples. Use `zero_division` parameter to control this behavior.\n",
      "  _warn_prf(average, modifier, f\"{metric.capitalize()} is\", len(result))\n"
     ]
    },
    {
     "name": "stdout",
     "output_type": "stream",
     "text": [
      "Processing SPAC+min3 EfN-Pretrained AgglomerativeClustering {'n_clusters': 13}\n"
     ]
    },
    {
     "name": "stderr",
     "output_type": "stream",
     "text": [
      "/opt/conda/envs/research/lib/python3.10/site-packages/sklearn/metrics/_classification.py:1531: UndefinedMetricWarning: Precision is ill-defined and being set to 0.0 in labels with no predicted samples. Use `zero_division` parameter to control this behavior.\n",
      "  _warn_prf(average, modifier, f\"{metric.capitalize()} is\", len(result))\n"
     ]
    },
    {
     "name": "stdout",
     "output_type": "stream",
     "text": [
      "Processing SPAC+min3 EfN-Pretrained AgglomerativeClustering {'n_clusters': 18}\n"
     ]
    },
    {
     "name": "stderr",
     "output_type": "stream",
     "text": [
      "/opt/conda/envs/research/lib/python3.10/site-packages/sklearn/metrics/_classification.py:1531: UndefinedMetricWarning: Precision is ill-defined and being set to 0.0 in labels with no predicted samples. Use `zero_division` parameter to control this behavior.\n",
      "  _warn_prf(average, modifier, f\"{metric.capitalize()} is\", len(result))\n"
     ]
    },
    {
     "name": "stdout",
     "output_type": "stream",
     "text": [
      "Processing SPAC+min3 EfN-Pretrained AgglomerativeClustering {'n_clusters': 23}\n"
     ]
    },
    {
     "name": "stderr",
     "output_type": "stream",
     "text": [
      "/opt/conda/envs/research/lib/python3.10/site-packages/sklearn/metrics/_classification.py:1531: UndefinedMetricWarning: Precision is ill-defined and being set to 0.0 in labels with no predicted samples. Use `zero_division` parameter to control this behavior.\n",
      "  _warn_prf(average, modifier, f\"{metric.capitalize()} is\", len(result))\n"
     ]
    },
    {
     "name": "stdout",
     "output_type": "stream",
     "text": [
      "Processing SPAC+min3 EfN-Pretrained AgglomerativeClustering {'n_clusters': 28}\n"
     ]
    },
    {
     "name": "stderr",
     "output_type": "stream",
     "text": [
      "/opt/conda/envs/research/lib/python3.10/site-packages/sklearn/metrics/_classification.py:1531: UndefinedMetricWarning: Precision is ill-defined and being set to 0.0 in labels with no predicted samples. Use `zero_division` parameter to control this behavior.\n",
      "  _warn_prf(average, modifier, f\"{metric.capitalize()} is\", len(result))\n"
     ]
    },
    {
     "name": "stdout",
     "output_type": "stream",
     "text": [
      "Processing SPAC+min3 EfN-Pretrained AgglomerativeClustering {'n_clusters': 33}\n"
     ]
    },
    {
     "name": "stderr",
     "output_type": "stream",
     "text": [
      "/opt/conda/envs/research/lib/python3.10/site-packages/sklearn/metrics/_classification.py:1531: UndefinedMetricWarning: Precision is ill-defined and being set to 0.0 in labels with no predicted samples. Use `zero_division` parameter to control this behavior.\n",
      "  _warn_prf(average, modifier, f\"{metric.capitalize()} is\", len(result))\n"
     ]
    },
    {
     "name": "stdout",
     "output_type": "stream",
     "text": [
      "Processing SPAC+min3 EfN-Pretrained AgglomerativeClustering {'n_clusters': 38}\n"
     ]
    },
    {
     "name": "stderr",
     "output_type": "stream",
     "text": [
      "/opt/conda/envs/research/lib/python3.10/site-packages/sklearn/metrics/_classification.py:1531: UndefinedMetricWarning: Precision is ill-defined and being set to 0.0 in labels with no predicted samples. Use `zero_division` parameter to control this behavior.\n",
      "  _warn_prf(average, modifier, f\"{metric.capitalize()} is\", len(result))\n"
     ]
    },
    {
     "name": "stdout",
     "output_type": "stream",
     "text": [
      "Processing SPAC+min3 EfN-Pretrained AgglomerativeClustering {'n_clusters': 43}\n"
     ]
    },
    {
     "name": "stderr",
     "output_type": "stream",
     "text": [
      "/opt/conda/envs/research/lib/python3.10/site-packages/sklearn/metrics/_classification.py:1531: UndefinedMetricWarning: Precision is ill-defined and being set to 0.0 in labels with no predicted samples. Use `zero_division` parameter to control this behavior.\n",
      "  _warn_prf(average, modifier, f\"{metric.capitalize()} is\", len(result))\n"
     ]
    },
    {
     "name": "stdout",
     "output_type": "stream",
     "text": [
      "Processing SPAC+min3 EfN-Pretrained AgglomerativeClustering {'n_clusters': 48}\n"
     ]
    },
    {
     "name": "stderr",
     "output_type": "stream",
     "text": [
      "/opt/conda/envs/research/lib/python3.10/site-packages/sklearn/metrics/_classification.py:1531: UndefinedMetricWarning: Precision is ill-defined and being set to 0.0 in labels with no predicted samples. Use `zero_division` parameter to control this behavior.\n",
      "  _warn_prf(average, modifier, f\"{metric.capitalize()} is\", len(result))\n"
     ]
    },
    {
     "name": "stdout",
     "output_type": "stream",
     "text": [
      "Processing SPAC+min3 EfN-Pretrained AgglomerativeClustering {'n_clusters': 53}\n"
     ]
    },
    {
     "name": "stderr",
     "output_type": "stream",
     "text": [
      "/opt/conda/envs/research/lib/python3.10/site-packages/sklearn/metrics/_classification.py:1531: UndefinedMetricWarning: Precision is ill-defined and being set to 0.0 in labels with no predicted samples. Use `zero_division` parameter to control this behavior.\n",
      "  _warn_prf(average, modifier, f\"{metric.capitalize()} is\", len(result))\n"
     ]
    },
    {
     "name": "stdout",
     "output_type": "stream",
     "text": [
      "Processing SPAC+min3 EfN-Pretrained AgglomerativeClustering {'n_clusters': 58}\n"
     ]
    },
    {
     "name": "stderr",
     "output_type": "stream",
     "text": [
      "/opt/conda/envs/research/lib/python3.10/site-packages/sklearn/metrics/_classification.py:1531: UndefinedMetricWarning: Precision is ill-defined and being set to 0.0 in labels with no predicted samples. Use `zero_division` parameter to control this behavior.\n",
      "  _warn_prf(average, modifier, f\"{metric.capitalize()} is\", len(result))\n"
     ]
    },
    {
     "name": "stdout",
     "output_type": "stream",
     "text": [
      "Processing SPAC+min3 EfN-Pretrained AgglomerativeClustering {'n_clusters': 63}\n"
     ]
    },
    {
     "name": "stderr",
     "output_type": "stream",
     "text": [
      "/opt/conda/envs/research/lib/python3.10/site-packages/sklearn/metrics/_classification.py:1531: UndefinedMetricWarning: Precision is ill-defined and being set to 0.0 in labels with no predicted samples. Use `zero_division` parameter to control this behavior.\n",
      "  _warn_prf(average, modifier, f\"{metric.capitalize()} is\", len(result))\n"
     ]
    },
    {
     "name": "stdout",
     "output_type": "stream",
     "text": [
      "Processing SPAC+min3 EfN-Pretrained AgglomerativeClustering {'n_clusters': 68}\n"
     ]
    },
    {
     "name": "stderr",
     "output_type": "stream",
     "text": [
      "/opt/conda/envs/research/lib/python3.10/site-packages/sklearn/metrics/_classification.py:1531: UndefinedMetricWarning: Precision is ill-defined and being set to 0.0 in labels with no predicted samples. Use `zero_division` parameter to control this behavior.\n",
      "  _warn_prf(average, modifier, f\"{metric.capitalize()} is\", len(result))\n"
     ]
    },
    {
     "name": "stdout",
     "output_type": "stream",
     "text": [
      "Processing SPAC+min3 EfN-Pretrained AgglomerativeClustering {'n_clusters': 73}\n"
     ]
    },
    {
     "name": "stderr",
     "output_type": "stream",
     "text": [
      "/opt/conda/envs/research/lib/python3.10/site-packages/sklearn/metrics/_classification.py:1531: UndefinedMetricWarning: Precision is ill-defined and being set to 0.0 in labels with no predicted samples. Use `zero_division` parameter to control this behavior.\n",
      "  _warn_prf(average, modifier, f\"{metric.capitalize()} is\", len(result))\n"
     ]
    },
    {
     "name": "stdout",
     "output_type": "stream",
     "text": [
      "Processing SPAC+min3 EfN-Pretrained AgglomerativeClustering {'n_clusters': 78}\n"
     ]
    },
    {
     "name": "stderr",
     "output_type": "stream",
     "text": [
      "/opt/conda/envs/research/lib/python3.10/site-packages/sklearn/metrics/_classification.py:1531: UndefinedMetricWarning: Precision is ill-defined and being set to 0.0 in labels with no predicted samples. Use `zero_division` parameter to control this behavior.\n",
      "  _warn_prf(average, modifier, f\"{metric.capitalize()} is\", len(result))\n"
     ]
    },
    {
     "name": "stdout",
     "output_type": "stream",
     "text": [
      "Processing SPAC+min3 EfN-Pretrained AgglomerativeClustering {'n_clusters': 83}\n"
     ]
    },
    {
     "name": "stderr",
     "output_type": "stream",
     "text": [
      "/opt/conda/envs/research/lib/python3.10/site-packages/sklearn/metrics/_classification.py:1531: UndefinedMetricWarning: Precision is ill-defined and being set to 0.0 in labels with no predicted samples. Use `zero_division` parameter to control this behavior.\n",
      "  _warn_prf(average, modifier, f\"{metric.capitalize()} is\", len(result))\n"
     ]
    },
    {
     "name": "stdout",
     "output_type": "stream",
     "text": [
      "Processing SPAC+min3 EfN-Pretrained AgglomerativeClustering {'n_clusters': 88}\n"
     ]
    },
    {
     "name": "stderr",
     "output_type": "stream",
     "text": [
      "/opt/conda/envs/research/lib/python3.10/site-packages/sklearn/metrics/_classification.py:1531: UndefinedMetricWarning: Precision is ill-defined and being set to 0.0 in labels with no predicted samples. Use `zero_division` parameter to control this behavior.\n",
      "  _warn_prf(average, modifier, f\"{metric.capitalize()} is\", len(result))\n"
     ]
    },
    {
     "name": "stdout",
     "output_type": "stream",
     "text": [
      "Processing SPAC+min3 EfN-Pretrained AgglomerativeClustering {'n_clusters': 93}\n"
     ]
    },
    {
     "name": "stderr",
     "output_type": "stream",
     "text": [
      "/opt/conda/envs/research/lib/python3.10/site-packages/sklearn/metrics/_classification.py:1531: UndefinedMetricWarning: Precision is ill-defined and being set to 0.0 in labels with no predicted samples. Use `zero_division` parameter to control this behavior.\n",
      "  _warn_prf(average, modifier, f\"{metric.capitalize()} is\", len(result))\n"
     ]
    },
    {
     "name": "stdout",
     "output_type": "stream",
     "text": [
      "Processing SPAC+min3 EfN-Pretrained AgglomerativeClustering {'n_clusters': 98}\n"
     ]
    },
    {
     "name": "stderr",
     "output_type": "stream",
     "text": [
      "/opt/conda/envs/research/lib/python3.10/site-packages/sklearn/metrics/_classification.py:1531: UndefinedMetricWarning: Precision is ill-defined and being set to 0.0 in labels with no predicted samples. Use `zero_division` parameter to control this behavior.\n",
      "  _warn_prf(average, modifier, f\"{metric.capitalize()} is\", len(result))\n"
     ]
    },
    {
     "name": "stdout",
     "output_type": "stream",
     "text": [
      "Processing SPAC+min3 EfN-Pretrained AgglomerativeClustering {'n_clusters': 103}\n"
     ]
    },
    {
     "name": "stderr",
     "output_type": "stream",
     "text": [
      "/opt/conda/envs/research/lib/python3.10/site-packages/sklearn/metrics/_classification.py:1531: UndefinedMetricWarning: Precision is ill-defined and being set to 0.0 in labels with no predicted samples. Use `zero_division` parameter to control this behavior.\n",
      "  _warn_prf(average, modifier, f\"{metric.capitalize()} is\", len(result))\n"
     ]
    },
    {
     "name": "stdout",
     "output_type": "stream",
     "text": [
      "Processing SPAC+min3 EfN-Pretrained AgglomerativeClustering {'n_clusters': 108}\n"
     ]
    },
    {
     "name": "stderr",
     "output_type": "stream",
     "text": [
      "/opt/conda/envs/research/lib/python3.10/site-packages/sklearn/metrics/_classification.py:1531: UndefinedMetricWarning: Precision is ill-defined and being set to 0.0 in labels with no predicted samples. Use `zero_division` parameter to control this behavior.\n",
      "  _warn_prf(average, modifier, f\"{metric.capitalize()} is\", len(result))\n"
     ]
    },
    {
     "name": "stdout",
     "output_type": "stream",
     "text": [
      "Processing SPAC+min3 EfN-Pretrained AgglomerativeClustering {'n_clusters': 113}\n"
     ]
    },
    {
     "name": "stderr",
     "output_type": "stream",
     "text": [
      "/opt/conda/envs/research/lib/python3.10/site-packages/sklearn/metrics/_classification.py:1531: UndefinedMetricWarning: Precision is ill-defined and being set to 0.0 in labels with no predicted samples. Use `zero_division` parameter to control this behavior.\n",
      "  _warn_prf(average, modifier, f\"{metric.capitalize()} is\", len(result))\n"
     ]
    },
    {
     "name": "stdout",
     "output_type": "stream",
     "text": [
      "Processing SPAC+min3 EfN-Pretrained AgglomerativeClustering {'n_clusters': 118}\n"
     ]
    },
    {
     "name": "stderr",
     "output_type": "stream",
     "text": [
      "/opt/conda/envs/research/lib/python3.10/site-packages/sklearn/metrics/_classification.py:1531: UndefinedMetricWarning: Precision is ill-defined and being set to 0.0 in labels with no predicted samples. Use `zero_division` parameter to control this behavior.\n",
      "  _warn_prf(average, modifier, f\"{metric.capitalize()} is\", len(result))\n"
     ]
    },
    {
     "name": "stdout",
     "output_type": "stream",
     "text": [
      "Processing SPAC+min3 EfN-Pretrained AgglomerativeClustering {'n_clusters': 123}\n"
     ]
    },
    {
     "name": "stderr",
     "output_type": "stream",
     "text": [
      "/opt/conda/envs/research/lib/python3.10/site-packages/sklearn/metrics/_classification.py:1531: UndefinedMetricWarning: Precision is ill-defined and being set to 0.0 in labels with no predicted samples. Use `zero_division` parameter to control this behavior.\n",
      "  _warn_prf(average, modifier, f\"{metric.capitalize()} is\", len(result))\n"
     ]
    },
    {
     "name": "stdout",
     "output_type": "stream",
     "text": [
      "Processing SPAC+min3 EfN-Pretrained AgglomerativeClustering {'n_clusters': 128}\n"
     ]
    },
    {
     "name": "stderr",
     "output_type": "stream",
     "text": [
      "/opt/conda/envs/research/lib/python3.10/site-packages/sklearn/metrics/_classification.py:1531: UndefinedMetricWarning: Precision is ill-defined and being set to 0.0 in labels with no predicted samples. Use `zero_division` parameter to control this behavior.\n",
      "  _warn_prf(average, modifier, f\"{metric.capitalize()} is\", len(result))\n"
     ]
    },
    {
     "name": "stdout",
     "output_type": "stream",
     "text": [
      "Processing SPAC+min3 EfN-Pretrained AgglomerativeClustering {'n_clusters': 133}\n",
      "Processing SPAC+min3 EfN-Pretrained AgglomerativeClustering {'n_clusters': 138}\n",
      "Processing SPAC+min3 EfN-Pretrained AgglomerativeClustering {'n_clusters': 143}\n",
      "Processing SPAC+min3 EfN-Pretrained AgglomerativeClustering {'n_clusters': 148}\n",
      "Processing SPAC+min3 EfN-Pretrained AgglomerativeClustering {'n_clusters': 153}\n",
      "Processing SPAC+min3 EfN-Pretrained AgglomerativeClustering {'n_clusters': 158}\n",
      "Processing SPAC+min3 EfN-Pretrained AgglomerativeClustering {'n_clusters': 163}\n",
      "Processing SPAC+min3 EfN-Pretrained AgglomerativeClustering {'n_clusters': 168}\n",
      "Processing SPAC+min3 EfN-Pretrained AgglomerativeClustering {'n_clusters': 173}\n",
      "Processing SPAC+min3 EfN-Pretrained AgglomerativeClustering {'n_clusters': 178}\n",
      "Processing SPAC+min3 EfN-Pretrained AgglomerativeClustering {'n_clusters': 183}\n",
      "Processing SPAC+min3 EfN-Pretrained AgglomerativeClustering {'n_clusters': 188}\n",
      "Processing SPAC+min3 EfN-Pretrained AgglomerativeClustering {'n_clusters': 193}\n",
      "Processing SPAC+min3 EfN-Pretrained AgglomerativeClustering {'n_clusters': 198}\n",
      "Processing SPAC+min3 EfN-Pretrained AgglomerativeClustering {'n_clusters': 203}\n",
      "Processing SPAC+min3 EfN-Pretrained AgglomerativeClustering {'n_clusters': 208}\n",
      "Processing SPAC+min3 EfN-Pretrained AgglomerativeClustering {'n_clusters': 213}\n",
      "Processing SPAC+min3 EfN-Pretrained AgglomerativeClustering {'n_clusters': 218}\n",
      "Processing SPAC+min3 EfN-Pretrained AgglomerativeClustering {'n_clusters': 223}\n",
      "Processing SPAC+min3 EfN-Pretrained AgglomerativeClustering {'n_clusters': 228}\n",
      "Processing SPAC+min3 EfN-Pretrained AgglomerativeClustering {'n_clusters': 233}\n",
      "Processing SPAC+min3 EfN-Pretrained AgglomerativeClustering {'n_clusters': 238}\n",
      "Processing SPAC+min3 EfN-Pretrained AgglomerativeClustering {'n_clusters': 243}\n",
      "Processing SPAC+min3 EfN-Pretrained AgglomerativeClustering {'n_clusters': 248}\n",
      "Processing SPAC+min3 EfN-Pretrained AgglomerativeClustering {'n_clusters': 253}\n",
      "Processing SPAC+min3 EfN-Pretrained AgglomerativeClustering {'n_clusters': 258}\n",
      "Processing SPAC+min3 EfN-Pretrained AgglomerativeClustering {'n_clusters': 263}\n",
      "Processing SPAC+min3 EfN-Pretrained AgglomerativeClustering {'n_clusters': 268}\n",
      "Processing SPAC+min3 EfN-Pretrained AgglomerativeClustering {'n_clusters': 273}\n",
      "Processing SPAC+min3 EfN-Pretrained AgglomerativeClustering {'n_clusters': 278}\n",
      "Processing SPAC+min3 EfN-Pretrained AgglomerativeClustering {'n_clusters': 283}\n",
      "Processing SPAC+min3 EfN-Pretrained AgglomerativeClustering {'n_clusters': 288}\n",
      "Processing SPAC+min3 EfN-Pretrained AgglomerativeClustering {'n_clusters': 293}\n",
      "Processing SPAC+min3 EfN-Pretrained AgglomerativeClustering {'n_clusters': 298}\n",
      "Processing SPAC+min3 EfN-Pretrained AgglomerativeClustering {'n_clusters': 303}\n",
      "Processing SPAC+min3 EfN-Pretrained AgglomerativeClustering {'n_clusters': 308}\n",
      "Processing SPAC+min3 EfN-Pretrained AgglomerativeClustering {'n_clusters': 313}\n",
      "Processing SPAC+min3 EfN-Pretrained AgglomerativeClustering {'n_clusters': 318}\n",
      "Processing SPAC+min3 EfN-Pretrained AgglomerativeClustering {'n_clusters': 323}\n",
      "Processing SPAC+min3 EfN-Pretrained AgglomerativeClustering {'n_clusters': 328}\n",
      "Processing SPAC+min3 EfN-Pretrained AgglomerativeClustering {'n_clusters': 333}\n",
      "Processing SPAC+min3 EfN-Pretrained AgglomerativeClustering {'n_clusters': 338}\n",
      "Processing SPAC+min3 EfN-Pretrained AgglomerativeClustering {'n_clusters': 343}\n",
      "Processing SPAC+min3 EfN-Pretrained AgglomerativeClustering {'n_clusters': 348}\n",
      "Processing SPAC+min3 EfN-Pretrained AgglomerativeClustering {'n_clusters': 353}\n",
      "Processing SPAC+min3 EfN-Pretrained AgglomerativeClustering {'n_clusters': 358}\n",
      "Processing SPAC+min3 EfN-Pretrained AgglomerativeClustering {'n_clusters': 363}\n",
      "Processing SPAC+min3 EfN-Pretrained AgglomerativeClustering {'n_clusters': 368}\n",
      "Processing SPAC+min3 EfN-Pretrained AgglomerativeClustering {'n_clusters': 373}\n",
      "Processing SPAC+min3 EfN-Pretrained AgglomerativeClustering {'n_clusters': 378}\n",
      "Processing SPAC+min3 EfN-Pretrained AgglomerativeClustering {'n_clusters': 383}\n",
      "Processing SPAC+min3 EfN-Pretrained AgglomerativeClustering {'n_clusters': 388}\n",
      "Processing SPAC+min3 EfN-Pretrained AgglomerativeClustering {'n_clusters': 393}\n",
      "Processing SPAC+min3 EfN-Pretrained AgglomerativeClustering {'n_clusters': 398}\n",
      "Processing SPAC+min3 EfN-Pretrained AgglomerativeClustering {'n_clusters': 403}\n",
      "Processing SPAC+min3 EfN-Pretrained AgglomerativeClustering {'n_clusters': 408}\n",
      "Processing SPAC+min3 EfN-Pretrained AgglomerativeClustering {'n_clusters': 413}\n",
      "Processing SPAC+min3 EfN-Pretrained AgglomerativeClustering {'n_clusters': 418}\n",
      "Processing SPAC+min3 EfN-Pretrained AgglomerativeClustering {'n_clusters': 423}\n",
      "Processing SPAC+min3 EfN-Pretrained AgglomerativeClustering {'n_clusters': 428}\n",
      "Processing SPAC+min3 EfN-Pretrained AgglomerativeClustering {'n_clusters': 433}\n",
      "Processing SPAC+min3 EfN-Pretrained AgglomerativeClustering {'n_clusters': 438}\n",
      "Processing SPAC+min3 EfN-Pretrained AgglomerativeClustering {'n_clusters': 443}\n",
      "Processing SPAC+min3 EfN-Pretrained AgglomerativeClustering {'n_clusters': 448}\n",
      "Processing SPAC+min3 EfN-Pretrained AgglomerativeClustering {'n_clusters': 453}\n",
      "Processing SPAC+min3 EfN-Pretrained AgglomerativeClustering {'n_clusters': 458}\n",
      "Processing SPAC+min3 EfN-Pretrained AgglomerativeClustering {'n_clusters': 463}\n",
      "Processing SPAC+min3 EfN-Pretrained AgglomerativeClustering {'n_clusters': 468}\n",
      "Processing SPAC+min3 EfN-Pretrained AgglomerativeClustering {'n_clusters': 473}\n",
      "Processing SPAC+min3 EfN-Pretrained AgglomerativeClustering {'n_clusters': 478}\n",
      "Processing SPAC+min3 EfN-Pretrained AgglomerativeClustering {'n_clusters': 483}\n",
      "Processing SPAC+min3 EfN-Pretrained AgglomerativeClustering {'n_clusters': 488}\n",
      "Processing SPAC+min3 EfN-Pretrained AgglomerativeClustering {'n_clusters': 493}\n",
      "Processing SPAC+min3 EfN-Pretrained AgglomerativeClustering {'n_clusters': 498}\n",
      "Processing SPAC+min3 EfN-Pretrained AgglomerativeClustering {'n_clusters': 503}\n",
      "Processing SPAC+min3 EfN-Pretrained AgglomerativeClustering {'n_clusters': 508}\n",
      "Processing SPAC+min3 EfN-Pretrained AgglomerativeClustering {'n_clusters': 513}\n",
      "Processing SPAC+min3 EfN-Pretrained AgglomerativeClustering {'n_clusters': 518}\n",
      "Processing SPAC+min3 EfN-Pretrained AgglomerativeClustering {'n_clusters': 523}\n",
      "Processing SPAC+min3 EfN-Pretrained AgglomerativeClustering {'n_clusters': 528}\n",
      "Processing SPAC+min3 EfN-Pretrained AgglomerativeClustering {'n_clusters': 533}\n",
      "Processing SPAC+min3 EfN-Pretrained AgglomerativeClustering {'n_clusters': 538}\n",
      "Processing SPAC+min3 EfN-Pretrained AgglomerativeClustering {'n_clusters': 543}\n",
      "Processing SPAC+min3 EfN-Pretrained AgglomerativeClustering {'n_clusters': 548}\n",
      "Processing SPAC+min3 EfN-Pretrained AgglomerativeClustering {'n_clusters': 553}\n",
      "Processing SPAC+min3 EfN-Pretrained AgglomerativeClustering {'n_clusters': 558}\n",
      "Processing SPAC+min3 EfN-Pretrained AgglomerativeClustering {'n_clusters': 563}\n",
      "Processing SPAC+min3 EfN-Pretrained AgglomerativeClustering {'n_clusters': 568}\n",
      "Processing SPAC+min3 EfN-Pretrained AgglomerativeClustering {'n_clusters': 573}\n",
      "Processing SPAC+min3 EfN-Pretrained AgglomerativeClustering {'n_clusters': 578}\n",
      "Processing SPAC+min3 EfN-Pretrained AgglomerativeClustering {'n_clusters': 583}\n",
      "Processing SPAC+min3 EfN-Pretrained AgglomerativeClustering {'n_clusters': 588}\n",
      "Processing SPAC+min3 EfN-Pretrained AgglomerativeClustering {'n_clusters': 593}\n",
      "Processing SPAC+min3 EfN-Pretrained AgglomerativeClustering {'n_clusters': 598}\n",
      "Processing SPAC+min3 EfN-Pretrained AgglomerativeClustering {'n_clusters': 603}\n",
      "Processing SPAC+min3 EfN-Pretrained AgglomerativeClustering {'n_clusters': 608}\n",
      "Processing SPAC+min3 EfN-Pretrained AgglomerativeClustering {'n_clusters': 613}\n",
      "Processing SPAC+min3 EfN-Pretrained AgglomerativeClustering {'n_clusters': 618}\n",
      "Processing SPAC+min3 EfN-Pretrained AgglomerativeClustering {'n_clusters': 623}\n",
      "Processing SPAC+min3 EfN-Pretrained AgglomerativeClustering {'n_clusters': 628}\n",
      "Processing SPAC+min3 EfN-Pretrained AgglomerativeClustering {'n_clusters': 633}\n",
      "Processing SPAC+min3 EfN-Pretrained AgglomerativeClustering {'n_clusters': 638}\n",
      "Processing SPAC+min3 EfN-Pretrained AgglomerativeClustering {'n_clusters': 643}\n",
      "Processing SPAC+min3 EfN-Pretrained AgglomerativeClustering {'n_clusters': 648}\n",
      "Processing SPAC+min3 EfN-Pretrained AgglomerativeClustering {'n_clusters': 653}\n",
      "Processing SPAC+min3 EfN-Pretrained AgglomerativeClustering {'n_clusters': 658}\n",
      "Processing SPAC+min3 EfN-Pretrained AgglomerativeClustering {'n_clusters': 663}\n",
      "Processing SPAC+min3 EfN-Pretrained AgglomerativeClustering {'n_clusters': 668}\n",
      "Processing SPAC+min3 EfN-Pretrained AgglomerativeClustering {'n_clusters': 673}\n",
      "Processing SPAC+min3 EfN-Pretrained AgglomerativeClustering {'n_clusters': 678}\n",
      "Processing SPAC+min3 EfN-Pretrained AgglomerativeClustering {'n_clusters': 683}\n",
      "Processing SPAC+min3 EfN-Pretrained AgglomerativeClustering {'n_clusters': 688}\n",
      "Processing SPAC+min3 EfN-Pretrained AgglomerativeClustering {'n_clusters': 693}\n",
      "Processing SPAC+min3 EfN-Pretrained AgglomerativeClustering {'n_clusters': 698}\n",
      "Processing SPAC+min3 EfN-Pretrained AgglomerativeClustering {'n_clusters': 703}\n",
      "Processing SPAC+min3 EfN-Pretrained AgglomerativeClustering {'n_clusters': 708}\n",
      "Processing SPAC+min3 EfN-Pretrained AgglomerativeClustering {'n_clusters': 713}\n",
      "Processing SPAC+min3 EfN-Pretrained AgglomerativeClustering {'n_clusters': 718}\n"
     ]
    },
    {
     "name": "stderr",
     "output_type": "stream",
     "text": [
      "Processing configurations:  67%|██████▋   | 8/12 [15:04<11:40, 175.20s/it]"
     ]
    },
    {
     "name": "stdout",
     "output_type": "stream",
     "text": [
      "Processing SPAC+min3 EfN-Pretrained HDBSCAN\n",
      "Processing SPAC+min3 EfN-Pretrained HDBSCAN {'min_cluster_size': 3}\n"
     ]
    },
    {
     "name": "stderr",
     "output_type": "stream",
     "text": [
      "/opt/conda/envs/research/lib/python3.10/site-packages/sklearn/metrics/_classification.py:1531: UndefinedMetricWarning: Precision is ill-defined and being set to 0.0 in labels with no predicted samples. Use `zero_division` parameter to control this behavior.\n",
      "  _warn_prf(average, modifier, f\"{metric.capitalize()} is\", len(result))\n"
     ]
    },
    {
     "name": "stdout",
     "output_type": "stream",
     "text": [
      "Processing SPAC+min3 EfN-Pretrained HDBSCAN {'min_cluster_size': 5}\n"
     ]
    },
    {
     "name": "stderr",
     "output_type": "stream",
     "text": [
      "/opt/conda/envs/research/lib/python3.10/site-packages/sklearn/metrics/_classification.py:1531: UndefinedMetricWarning: Precision is ill-defined and being set to 0.0 in labels with no predicted samples. Use `zero_division` parameter to control this behavior.\n",
      "  _warn_prf(average, modifier, f\"{metric.capitalize()} is\", len(result))\n"
     ]
    },
    {
     "name": "stdout",
     "output_type": "stream",
     "text": [
      "Processing SPAC+min3 EfN-Pretrained HDBSCAN {'min_cluster_size': 10}\n"
     ]
    },
    {
     "name": "stderr",
     "output_type": "stream",
     "text": [
      "/opt/conda/envs/research/lib/python3.10/site-packages/sklearn/metrics/_classification.py:1531: UndefinedMetricWarning: Precision is ill-defined and being set to 0.0 in labels with no predicted samples. Use `zero_division` parameter to control this behavior.\n",
      "  _warn_prf(average, modifier, f\"{metric.capitalize()} is\", len(result))\n"
     ]
    },
    {
     "name": "stdout",
     "output_type": "stream",
     "text": [
      "Processing SPAC+min3 EfN-Pretrained HDBSCAN {'min_cluster_size': 20}\n"
     ]
    },
    {
     "name": "stderr",
     "output_type": "stream",
     "text": [
      "/opt/conda/envs/research/lib/python3.10/site-packages/sklearn/metrics/_classification.py:1531: UndefinedMetricWarning: Precision is ill-defined and being set to 0.0 in labels with no predicted samples. Use `zero_division` parameter to control this behavior.\n",
      "  _warn_prf(average, modifier, f\"{metric.capitalize()} is\", len(result))\n"
     ]
    },
    {
     "name": "stdout",
     "output_type": "stream",
     "text": [
      "Processing SPAC+min3 EfN-Pretrained HDBSCAN {'min_cluster_size': 25}\n"
     ]
    },
    {
     "name": "stderr",
     "output_type": "stream",
     "text": [
      "/opt/conda/envs/research/lib/python3.10/site-packages/sklearn/metrics/_classification.py:1531: UndefinedMetricWarning: Precision is ill-defined and being set to 0.0 in labels with no predicted samples. Use `zero_division` parameter to control this behavior.\n",
      "  _warn_prf(average, modifier, f\"{metric.capitalize()} is\", len(result))\n",
      "Processing configurations:  75%|███████▌  | 9/12 [15:11<06:08, 122.92s/it]"
     ]
    },
    {
     "name": "stdout",
     "output_type": "stream",
     "text": [
      "Processing SPAC+min3 EfN-Finetuned KMeans\n",
      "Processing SPAC+min3 EfN-Finetuned KMeans {'n_clusters': 3}\n"
     ]
    },
    {
     "name": "stderr",
     "output_type": "stream",
     "text": [
      "/opt/conda/envs/research/lib/python3.10/site-packages/sklearn/metrics/_classification.py:1531: UndefinedMetricWarning: Precision is ill-defined and being set to 0.0 in labels with no predicted samples. Use `zero_division` parameter to control this behavior.\n",
      "  _warn_prf(average, modifier, f\"{metric.capitalize()} is\", len(result))\n"
     ]
    },
    {
     "name": "stdout",
     "output_type": "stream",
     "text": [
      "Processing SPAC+min3 EfN-Finetuned KMeans {'n_clusters': 8}\n"
     ]
    },
    {
     "name": "stderr",
     "output_type": "stream",
     "text": [
      "/opt/conda/envs/research/lib/python3.10/site-packages/sklearn/metrics/_classification.py:1531: UndefinedMetricWarning: Precision is ill-defined and being set to 0.0 in labels with no predicted samples. Use `zero_division` parameter to control this behavior.\n",
      "  _warn_prf(average, modifier, f\"{metric.capitalize()} is\", len(result))\n"
     ]
    },
    {
     "name": "stdout",
     "output_type": "stream",
     "text": [
      "Processing SPAC+min3 EfN-Finetuned KMeans {'n_clusters': 13}\n"
     ]
    },
    {
     "name": "stderr",
     "output_type": "stream",
     "text": [
      "/opt/conda/envs/research/lib/python3.10/site-packages/sklearn/metrics/_classification.py:1531: UndefinedMetricWarning: Precision is ill-defined and being set to 0.0 in labels with no predicted samples. Use `zero_division` parameter to control this behavior.\n",
      "  _warn_prf(average, modifier, f\"{metric.capitalize()} is\", len(result))\n"
     ]
    },
    {
     "name": "stdout",
     "output_type": "stream",
     "text": [
      "Processing SPAC+min3 EfN-Finetuned KMeans {'n_clusters': 18}\n"
     ]
    },
    {
     "name": "stderr",
     "output_type": "stream",
     "text": [
      "/opt/conda/envs/research/lib/python3.10/site-packages/sklearn/metrics/_classification.py:1531: UndefinedMetricWarning: Precision is ill-defined and being set to 0.0 in labels with no predicted samples. Use `zero_division` parameter to control this behavior.\n",
      "  _warn_prf(average, modifier, f\"{metric.capitalize()} is\", len(result))\n"
     ]
    },
    {
     "name": "stdout",
     "output_type": "stream",
     "text": [
      "Processing SPAC+min3 EfN-Finetuned KMeans {'n_clusters': 23}\n"
     ]
    },
    {
     "name": "stderr",
     "output_type": "stream",
     "text": [
      "/opt/conda/envs/research/lib/python3.10/site-packages/sklearn/metrics/_classification.py:1531: UndefinedMetricWarning: Precision is ill-defined and being set to 0.0 in labels with no predicted samples. Use `zero_division` parameter to control this behavior.\n",
      "  _warn_prf(average, modifier, f\"{metric.capitalize()} is\", len(result))\n"
     ]
    },
    {
     "name": "stdout",
     "output_type": "stream",
     "text": [
      "Processing SPAC+min3 EfN-Finetuned KMeans {'n_clusters': 28}\n"
     ]
    },
    {
     "name": "stderr",
     "output_type": "stream",
     "text": [
      "/opt/conda/envs/research/lib/python3.10/site-packages/sklearn/metrics/_classification.py:1531: UndefinedMetricWarning: Precision is ill-defined and being set to 0.0 in labels with no predicted samples. Use `zero_division` parameter to control this behavior.\n",
      "  _warn_prf(average, modifier, f\"{metric.capitalize()} is\", len(result))\n"
     ]
    },
    {
     "name": "stdout",
     "output_type": "stream",
     "text": [
      "Processing SPAC+min3 EfN-Finetuned KMeans {'n_clusters': 33}\n"
     ]
    },
    {
     "name": "stderr",
     "output_type": "stream",
     "text": [
      "/opt/conda/envs/research/lib/python3.10/site-packages/sklearn/metrics/_classification.py:1531: UndefinedMetricWarning: Precision is ill-defined and being set to 0.0 in labels with no predicted samples. Use `zero_division` parameter to control this behavior.\n",
      "  _warn_prf(average, modifier, f\"{metric.capitalize()} is\", len(result))\n"
     ]
    },
    {
     "name": "stdout",
     "output_type": "stream",
     "text": [
      "Processing SPAC+min3 EfN-Finetuned KMeans {'n_clusters': 38}\n"
     ]
    },
    {
     "name": "stderr",
     "output_type": "stream",
     "text": [
      "/opt/conda/envs/research/lib/python3.10/site-packages/sklearn/metrics/_classification.py:1531: UndefinedMetricWarning: Precision is ill-defined and being set to 0.0 in labels with no predicted samples. Use `zero_division` parameter to control this behavior.\n",
      "  _warn_prf(average, modifier, f\"{metric.capitalize()} is\", len(result))\n"
     ]
    },
    {
     "name": "stdout",
     "output_type": "stream",
     "text": [
      "Processing SPAC+min3 EfN-Finetuned KMeans {'n_clusters': 43}\n"
     ]
    },
    {
     "name": "stderr",
     "output_type": "stream",
     "text": [
      "/opt/conda/envs/research/lib/python3.10/site-packages/sklearn/metrics/_classification.py:1531: UndefinedMetricWarning: Precision is ill-defined and being set to 0.0 in labels with no predicted samples. Use `zero_division` parameter to control this behavior.\n",
      "  _warn_prf(average, modifier, f\"{metric.capitalize()} is\", len(result))\n"
     ]
    },
    {
     "name": "stdout",
     "output_type": "stream",
     "text": [
      "Processing SPAC+min3 EfN-Finetuned KMeans {'n_clusters': 48}\n"
     ]
    },
    {
     "name": "stderr",
     "output_type": "stream",
     "text": [
      "/opt/conda/envs/research/lib/python3.10/site-packages/sklearn/metrics/_classification.py:1531: UndefinedMetricWarning: Precision is ill-defined and being set to 0.0 in labels with no predicted samples. Use `zero_division` parameter to control this behavior.\n",
      "  _warn_prf(average, modifier, f\"{metric.capitalize()} is\", len(result))\n"
     ]
    },
    {
     "name": "stdout",
     "output_type": "stream",
     "text": [
      "Processing SPAC+min3 EfN-Finetuned KMeans {'n_clusters': 53}\n"
     ]
    },
    {
     "name": "stderr",
     "output_type": "stream",
     "text": [
      "/opt/conda/envs/research/lib/python3.10/site-packages/sklearn/metrics/_classification.py:1531: UndefinedMetricWarning: Precision is ill-defined and being set to 0.0 in labels with no predicted samples. Use `zero_division` parameter to control this behavior.\n",
      "  _warn_prf(average, modifier, f\"{metric.capitalize()} is\", len(result))\n"
     ]
    },
    {
     "name": "stdout",
     "output_type": "stream",
     "text": [
      "Processing SPAC+min3 EfN-Finetuned KMeans {'n_clusters': 58}\n"
     ]
    },
    {
     "name": "stderr",
     "output_type": "stream",
     "text": [
      "/opt/conda/envs/research/lib/python3.10/site-packages/sklearn/metrics/_classification.py:1531: UndefinedMetricWarning: Precision is ill-defined and being set to 0.0 in labels with no predicted samples. Use `zero_division` parameter to control this behavior.\n",
      "  _warn_prf(average, modifier, f\"{metric.capitalize()} is\", len(result))\n"
     ]
    },
    {
     "name": "stdout",
     "output_type": "stream",
     "text": [
      "Processing SPAC+min3 EfN-Finetuned KMeans {'n_clusters': 63}\n"
     ]
    },
    {
     "name": "stderr",
     "output_type": "stream",
     "text": [
      "/opt/conda/envs/research/lib/python3.10/site-packages/sklearn/metrics/_classification.py:1531: UndefinedMetricWarning: Precision is ill-defined and being set to 0.0 in labels with no predicted samples. Use `zero_division` parameter to control this behavior.\n",
      "  _warn_prf(average, modifier, f\"{metric.capitalize()} is\", len(result))\n"
     ]
    },
    {
     "name": "stdout",
     "output_type": "stream",
     "text": [
      "Processing SPAC+min3 EfN-Finetuned KMeans {'n_clusters': 68}\n"
     ]
    },
    {
     "name": "stderr",
     "output_type": "stream",
     "text": [
      "/opt/conda/envs/research/lib/python3.10/site-packages/sklearn/metrics/_classification.py:1531: UndefinedMetricWarning: Precision is ill-defined and being set to 0.0 in labels with no predicted samples. Use `zero_division` parameter to control this behavior.\n",
      "  _warn_prf(average, modifier, f\"{metric.capitalize()} is\", len(result))\n"
     ]
    },
    {
     "name": "stdout",
     "output_type": "stream",
     "text": [
      "Processing SPAC+min3 EfN-Finetuned KMeans {'n_clusters': 73}\n"
     ]
    },
    {
     "name": "stderr",
     "output_type": "stream",
     "text": [
      "/opt/conda/envs/research/lib/python3.10/site-packages/sklearn/metrics/_classification.py:1531: UndefinedMetricWarning: Precision is ill-defined and being set to 0.0 in labels with no predicted samples. Use `zero_division` parameter to control this behavior.\n",
      "  _warn_prf(average, modifier, f\"{metric.capitalize()} is\", len(result))\n"
     ]
    },
    {
     "name": "stdout",
     "output_type": "stream",
     "text": [
      "Processing SPAC+min3 EfN-Finetuned KMeans {'n_clusters': 78}\n"
     ]
    },
    {
     "name": "stderr",
     "output_type": "stream",
     "text": [
      "/opt/conda/envs/research/lib/python3.10/site-packages/sklearn/metrics/_classification.py:1531: UndefinedMetricWarning: Precision is ill-defined and being set to 0.0 in labels with no predicted samples. Use `zero_division` parameter to control this behavior.\n",
      "  _warn_prf(average, modifier, f\"{metric.capitalize()} is\", len(result))\n"
     ]
    },
    {
     "name": "stdout",
     "output_type": "stream",
     "text": [
      "Processing SPAC+min3 EfN-Finetuned KMeans {'n_clusters': 83}\n"
     ]
    },
    {
     "name": "stderr",
     "output_type": "stream",
     "text": [
      "/opt/conda/envs/research/lib/python3.10/site-packages/sklearn/metrics/_classification.py:1531: UndefinedMetricWarning: Precision is ill-defined and being set to 0.0 in labels with no predicted samples. Use `zero_division` parameter to control this behavior.\n",
      "  _warn_prf(average, modifier, f\"{metric.capitalize()} is\", len(result))\n"
     ]
    },
    {
     "name": "stdout",
     "output_type": "stream",
     "text": [
      "Processing SPAC+min3 EfN-Finetuned KMeans {'n_clusters': 88}\n"
     ]
    },
    {
     "name": "stderr",
     "output_type": "stream",
     "text": [
      "/opt/conda/envs/research/lib/python3.10/site-packages/sklearn/metrics/_classification.py:1531: UndefinedMetricWarning: Precision is ill-defined and being set to 0.0 in labels with no predicted samples. Use `zero_division` parameter to control this behavior.\n",
      "  _warn_prf(average, modifier, f\"{metric.capitalize()} is\", len(result))\n"
     ]
    },
    {
     "name": "stdout",
     "output_type": "stream",
     "text": [
      "Processing SPAC+min3 EfN-Finetuned KMeans {'n_clusters': 93}\n"
     ]
    },
    {
     "name": "stderr",
     "output_type": "stream",
     "text": [
      "/opt/conda/envs/research/lib/python3.10/site-packages/sklearn/metrics/_classification.py:1531: UndefinedMetricWarning: Precision is ill-defined and being set to 0.0 in labels with no predicted samples. Use `zero_division` parameter to control this behavior.\n",
      "  _warn_prf(average, modifier, f\"{metric.capitalize()} is\", len(result))\n"
     ]
    },
    {
     "name": "stdout",
     "output_type": "stream",
     "text": [
      "Processing SPAC+min3 EfN-Finetuned KMeans {'n_clusters': 98}\n"
     ]
    },
    {
     "name": "stderr",
     "output_type": "stream",
     "text": [
      "/opt/conda/envs/research/lib/python3.10/site-packages/sklearn/metrics/_classification.py:1531: UndefinedMetricWarning: Precision is ill-defined and being set to 0.0 in labels with no predicted samples. Use `zero_division` parameter to control this behavior.\n",
      "  _warn_prf(average, modifier, f\"{metric.capitalize()} is\", len(result))\n"
     ]
    },
    {
     "name": "stdout",
     "output_type": "stream",
     "text": [
      "Processing SPAC+min3 EfN-Finetuned KMeans {'n_clusters': 103}\n"
     ]
    },
    {
     "name": "stderr",
     "output_type": "stream",
     "text": [
      "/opt/conda/envs/research/lib/python3.10/site-packages/sklearn/metrics/_classification.py:1531: UndefinedMetricWarning: Precision is ill-defined and being set to 0.0 in labels with no predicted samples. Use `zero_division` parameter to control this behavior.\n",
      "  _warn_prf(average, modifier, f\"{metric.capitalize()} is\", len(result))\n"
     ]
    },
    {
     "name": "stdout",
     "output_type": "stream",
     "text": [
      "Processing SPAC+min3 EfN-Finetuned KMeans {'n_clusters': 108}\n"
     ]
    },
    {
     "name": "stderr",
     "output_type": "stream",
     "text": [
      "/opt/conda/envs/research/lib/python3.10/site-packages/sklearn/metrics/_classification.py:1531: UndefinedMetricWarning: Precision is ill-defined and being set to 0.0 in labels with no predicted samples. Use `zero_division` parameter to control this behavior.\n",
      "  _warn_prf(average, modifier, f\"{metric.capitalize()} is\", len(result))\n"
     ]
    },
    {
     "name": "stdout",
     "output_type": "stream",
     "text": [
      "Processing SPAC+min3 EfN-Finetuned KMeans {'n_clusters': 113}\n"
     ]
    },
    {
     "name": "stderr",
     "output_type": "stream",
     "text": [
      "/opt/conda/envs/research/lib/python3.10/site-packages/sklearn/metrics/_classification.py:1531: UndefinedMetricWarning: Precision is ill-defined and being set to 0.0 in labels with no predicted samples. Use `zero_division` parameter to control this behavior.\n",
      "  _warn_prf(average, modifier, f\"{metric.capitalize()} is\", len(result))\n"
     ]
    },
    {
     "name": "stdout",
     "output_type": "stream",
     "text": [
      "Processing SPAC+min3 EfN-Finetuned KMeans {'n_clusters': 118}\n"
     ]
    },
    {
     "name": "stderr",
     "output_type": "stream",
     "text": [
      "/opt/conda/envs/research/lib/python3.10/site-packages/sklearn/metrics/_classification.py:1531: UndefinedMetricWarning: Precision is ill-defined and being set to 0.0 in labels with no predicted samples. Use `zero_division` parameter to control this behavior.\n",
      "  _warn_prf(average, modifier, f\"{metric.capitalize()} is\", len(result))\n"
     ]
    },
    {
     "name": "stdout",
     "output_type": "stream",
     "text": [
      "Processing SPAC+min3 EfN-Finetuned KMeans {'n_clusters': 123}\n"
     ]
    },
    {
     "name": "stderr",
     "output_type": "stream",
     "text": [
      "/opt/conda/envs/research/lib/python3.10/site-packages/sklearn/metrics/_classification.py:1531: UndefinedMetricWarning: Precision is ill-defined and being set to 0.0 in labels with no predicted samples. Use `zero_division` parameter to control this behavior.\n",
      "  _warn_prf(average, modifier, f\"{metric.capitalize()} is\", len(result))\n"
     ]
    },
    {
     "name": "stdout",
     "output_type": "stream",
     "text": [
      "Processing SPAC+min3 EfN-Finetuned KMeans {'n_clusters': 128}\n"
     ]
    },
    {
     "name": "stderr",
     "output_type": "stream",
     "text": [
      "/opt/conda/envs/research/lib/python3.10/site-packages/sklearn/metrics/_classification.py:1531: UndefinedMetricWarning: Precision is ill-defined and being set to 0.0 in labels with no predicted samples. Use `zero_division` parameter to control this behavior.\n",
      "  _warn_prf(average, modifier, f\"{metric.capitalize()} is\", len(result))\n"
     ]
    },
    {
     "name": "stdout",
     "output_type": "stream",
     "text": [
      "Processing SPAC+min3 EfN-Finetuned KMeans {'n_clusters': 133}\n",
      "Processing SPAC+min3 EfN-Finetuned KMeans {'n_clusters': 138}\n",
      "Processing SPAC+min3 EfN-Finetuned KMeans {'n_clusters': 143}\n",
      "Processing SPAC+min3 EfN-Finetuned KMeans {'n_clusters': 148}\n",
      "Processing SPAC+min3 EfN-Finetuned KMeans {'n_clusters': 153}\n",
      "Processing SPAC+min3 EfN-Finetuned KMeans {'n_clusters': 158}\n",
      "Processing SPAC+min3 EfN-Finetuned KMeans {'n_clusters': 163}\n",
      "Processing SPAC+min3 EfN-Finetuned KMeans {'n_clusters': 168}\n",
      "Processing SPAC+min3 EfN-Finetuned KMeans {'n_clusters': 173}\n",
      "Processing SPAC+min3 EfN-Finetuned KMeans {'n_clusters': 178}\n",
      "Processing SPAC+min3 EfN-Finetuned KMeans {'n_clusters': 183}\n",
      "Processing SPAC+min3 EfN-Finetuned KMeans {'n_clusters': 188}\n",
      "Processing SPAC+min3 EfN-Finetuned KMeans {'n_clusters': 193}\n",
      "Processing SPAC+min3 EfN-Finetuned KMeans {'n_clusters': 198}\n",
      "Processing SPAC+min3 EfN-Finetuned KMeans {'n_clusters': 203}\n",
      "Processing SPAC+min3 EfN-Finetuned KMeans {'n_clusters': 208}\n",
      "Processing SPAC+min3 EfN-Finetuned KMeans {'n_clusters': 213}\n",
      "Processing SPAC+min3 EfN-Finetuned KMeans {'n_clusters': 218}\n",
      "Processing SPAC+min3 EfN-Finetuned KMeans {'n_clusters': 223}\n",
      "Processing SPAC+min3 EfN-Finetuned KMeans {'n_clusters': 228}\n",
      "Processing SPAC+min3 EfN-Finetuned KMeans {'n_clusters': 233}\n",
      "Processing SPAC+min3 EfN-Finetuned KMeans {'n_clusters': 238}\n",
      "Processing SPAC+min3 EfN-Finetuned KMeans {'n_clusters': 243}\n",
      "Processing SPAC+min3 EfN-Finetuned KMeans {'n_clusters': 248}\n",
      "Processing SPAC+min3 EfN-Finetuned KMeans {'n_clusters': 253}\n",
      "Processing SPAC+min3 EfN-Finetuned KMeans {'n_clusters': 258}\n",
      "Processing SPAC+min3 EfN-Finetuned KMeans {'n_clusters': 263}\n",
      "Processing SPAC+min3 EfN-Finetuned KMeans {'n_clusters': 268}\n",
      "Processing SPAC+min3 EfN-Finetuned KMeans {'n_clusters': 273}\n",
      "Processing SPAC+min3 EfN-Finetuned KMeans {'n_clusters': 278}\n",
      "Processing SPAC+min3 EfN-Finetuned KMeans {'n_clusters': 283}\n",
      "Processing SPAC+min3 EfN-Finetuned KMeans {'n_clusters': 288}\n",
      "Processing SPAC+min3 EfN-Finetuned KMeans {'n_clusters': 293}\n",
      "Processing SPAC+min3 EfN-Finetuned KMeans {'n_clusters': 298}\n",
      "Processing SPAC+min3 EfN-Finetuned KMeans {'n_clusters': 303}\n",
      "Processing SPAC+min3 EfN-Finetuned KMeans {'n_clusters': 308}\n",
      "Processing SPAC+min3 EfN-Finetuned KMeans {'n_clusters': 313}\n",
      "Processing SPAC+min3 EfN-Finetuned KMeans {'n_clusters': 318}\n",
      "Processing SPAC+min3 EfN-Finetuned KMeans {'n_clusters': 323}\n",
      "Processing SPAC+min3 EfN-Finetuned KMeans {'n_clusters': 328}\n",
      "Processing SPAC+min3 EfN-Finetuned KMeans {'n_clusters': 333}\n",
      "Processing SPAC+min3 EfN-Finetuned KMeans {'n_clusters': 338}\n",
      "Processing SPAC+min3 EfN-Finetuned KMeans {'n_clusters': 343}\n",
      "Processing SPAC+min3 EfN-Finetuned KMeans {'n_clusters': 348}\n",
      "Processing SPAC+min3 EfN-Finetuned KMeans {'n_clusters': 353}\n",
      "Processing SPAC+min3 EfN-Finetuned KMeans {'n_clusters': 358}\n",
      "Processing SPAC+min3 EfN-Finetuned KMeans {'n_clusters': 363}\n",
      "Processing SPAC+min3 EfN-Finetuned KMeans {'n_clusters': 368}\n",
      "Processing SPAC+min3 EfN-Finetuned KMeans {'n_clusters': 373}\n",
      "Processing SPAC+min3 EfN-Finetuned KMeans {'n_clusters': 378}\n",
      "Processing SPAC+min3 EfN-Finetuned KMeans {'n_clusters': 383}\n",
      "Processing SPAC+min3 EfN-Finetuned KMeans {'n_clusters': 388}\n",
      "Processing SPAC+min3 EfN-Finetuned KMeans {'n_clusters': 393}\n",
      "Processing SPAC+min3 EfN-Finetuned KMeans {'n_clusters': 398}\n",
      "Processing SPAC+min3 EfN-Finetuned KMeans {'n_clusters': 403}\n",
      "Processing SPAC+min3 EfN-Finetuned KMeans {'n_clusters': 408}\n",
      "Processing SPAC+min3 EfN-Finetuned KMeans {'n_clusters': 413}\n",
      "Processing SPAC+min3 EfN-Finetuned KMeans {'n_clusters': 418}\n",
      "Processing SPAC+min3 EfN-Finetuned KMeans {'n_clusters': 423}\n",
      "Processing SPAC+min3 EfN-Finetuned KMeans {'n_clusters': 428}\n",
      "Processing SPAC+min3 EfN-Finetuned KMeans {'n_clusters': 433}\n",
      "Processing SPAC+min3 EfN-Finetuned KMeans {'n_clusters': 438}\n",
      "Processing SPAC+min3 EfN-Finetuned KMeans {'n_clusters': 443}\n",
      "Processing SPAC+min3 EfN-Finetuned KMeans {'n_clusters': 448}\n",
      "Processing SPAC+min3 EfN-Finetuned KMeans {'n_clusters': 453}\n",
      "Processing SPAC+min3 EfN-Finetuned KMeans {'n_clusters': 458}\n",
      "Processing SPAC+min3 EfN-Finetuned KMeans {'n_clusters': 463}\n",
      "Processing SPAC+min3 EfN-Finetuned KMeans {'n_clusters': 468}\n",
      "Processing SPAC+min3 EfN-Finetuned KMeans {'n_clusters': 473}\n",
      "Processing SPAC+min3 EfN-Finetuned KMeans {'n_clusters': 478}\n",
      "Processing SPAC+min3 EfN-Finetuned KMeans {'n_clusters': 483}\n",
      "Processing SPAC+min3 EfN-Finetuned KMeans {'n_clusters': 488}\n",
      "Processing SPAC+min3 EfN-Finetuned KMeans {'n_clusters': 493}\n",
      "Processing SPAC+min3 EfN-Finetuned KMeans {'n_clusters': 498}\n",
      "Processing SPAC+min3 EfN-Finetuned KMeans {'n_clusters': 503}\n",
      "Processing SPAC+min3 EfN-Finetuned KMeans {'n_clusters': 508}\n",
      "Processing SPAC+min3 EfN-Finetuned KMeans {'n_clusters': 513}\n",
      "Processing SPAC+min3 EfN-Finetuned KMeans {'n_clusters': 518}\n",
      "Processing SPAC+min3 EfN-Finetuned KMeans {'n_clusters': 523}\n",
      "Processing SPAC+min3 EfN-Finetuned KMeans {'n_clusters': 528}\n",
      "Processing SPAC+min3 EfN-Finetuned KMeans {'n_clusters': 533}\n",
      "Processing SPAC+min3 EfN-Finetuned KMeans {'n_clusters': 538}\n",
      "Processing SPAC+min3 EfN-Finetuned KMeans {'n_clusters': 543}\n",
      "Processing SPAC+min3 EfN-Finetuned KMeans {'n_clusters': 548}\n",
      "Processing SPAC+min3 EfN-Finetuned KMeans {'n_clusters': 553}\n",
      "Processing SPAC+min3 EfN-Finetuned KMeans {'n_clusters': 558}\n",
      "Processing SPAC+min3 EfN-Finetuned KMeans {'n_clusters': 563}\n",
      "Processing SPAC+min3 EfN-Finetuned KMeans {'n_clusters': 568}\n",
      "Processing SPAC+min3 EfN-Finetuned KMeans {'n_clusters': 573}\n",
      "Processing SPAC+min3 EfN-Finetuned KMeans {'n_clusters': 578}\n",
      "Processing SPAC+min3 EfN-Finetuned KMeans {'n_clusters': 583}\n",
      "Processing SPAC+min3 EfN-Finetuned KMeans {'n_clusters': 588}\n",
      "Processing SPAC+min3 EfN-Finetuned KMeans {'n_clusters': 593}\n",
      "Processing SPAC+min3 EfN-Finetuned KMeans {'n_clusters': 598}\n",
      "Processing SPAC+min3 EfN-Finetuned KMeans {'n_clusters': 603}\n",
      "Processing SPAC+min3 EfN-Finetuned KMeans {'n_clusters': 608}\n",
      "Processing SPAC+min3 EfN-Finetuned KMeans {'n_clusters': 613}\n",
      "Processing SPAC+min3 EfN-Finetuned KMeans {'n_clusters': 618}\n",
      "Processing SPAC+min3 EfN-Finetuned KMeans {'n_clusters': 623}\n",
      "Processing SPAC+min3 EfN-Finetuned KMeans {'n_clusters': 628}\n",
      "Processing SPAC+min3 EfN-Finetuned KMeans {'n_clusters': 633}\n",
      "Processing SPAC+min3 EfN-Finetuned KMeans {'n_clusters': 638}\n",
      "Processing SPAC+min3 EfN-Finetuned KMeans {'n_clusters': 643}\n",
      "Processing SPAC+min3 EfN-Finetuned KMeans {'n_clusters': 648}\n",
      "Processing SPAC+min3 EfN-Finetuned KMeans {'n_clusters': 653}\n",
      "Processing SPAC+min3 EfN-Finetuned KMeans {'n_clusters': 658}\n",
      "Processing SPAC+min3 EfN-Finetuned KMeans {'n_clusters': 663}\n",
      "Processing SPAC+min3 EfN-Finetuned KMeans {'n_clusters': 668}\n",
      "Processing SPAC+min3 EfN-Finetuned KMeans {'n_clusters': 673}\n",
      "Processing SPAC+min3 EfN-Finetuned KMeans {'n_clusters': 678}\n",
      "Processing SPAC+min3 EfN-Finetuned KMeans {'n_clusters': 683}\n",
      "Processing SPAC+min3 EfN-Finetuned KMeans {'n_clusters': 688}\n",
      "Processing SPAC+min3 EfN-Finetuned KMeans {'n_clusters': 693}\n",
      "Processing SPAC+min3 EfN-Finetuned KMeans {'n_clusters': 698}\n",
      "Processing SPAC+min3 EfN-Finetuned KMeans {'n_clusters': 703}\n",
      "Processing SPAC+min3 EfN-Finetuned KMeans {'n_clusters': 708}\n",
      "Processing SPAC+min3 EfN-Finetuned KMeans {'n_clusters': 713}\n",
      "Processing SPAC+min3 EfN-Finetuned KMeans {'n_clusters': 718}\n"
     ]
    },
    {
     "name": "stderr",
     "output_type": "stream",
     "text": [
      "Processing configurations:  83%|████████▎ | 10/12 [16:21<03:33, 106.78s/it]"
     ]
    },
    {
     "name": "stdout",
     "output_type": "stream",
     "text": [
      "Processing SPAC+min3 EfN-Finetuned AgglomerativeClustering\n",
      "Processing SPAC+min3 EfN-Finetuned AgglomerativeClustering {'n_clusters': 3}\n"
     ]
    },
    {
     "name": "stderr",
     "output_type": "stream",
     "text": [
      "/opt/conda/envs/research/lib/python3.10/site-packages/sklearn/metrics/_classification.py:1531: UndefinedMetricWarning: Precision is ill-defined and being set to 0.0 in labels with no predicted samples. Use `zero_division` parameter to control this behavior.\n",
      "  _warn_prf(average, modifier, f\"{metric.capitalize()} is\", len(result))\n"
     ]
    },
    {
     "name": "stdout",
     "output_type": "stream",
     "text": [
      "Processing SPAC+min3 EfN-Finetuned AgglomerativeClustering {'n_clusters': 8}\n"
     ]
    },
    {
     "name": "stderr",
     "output_type": "stream",
     "text": [
      "/opt/conda/envs/research/lib/python3.10/site-packages/sklearn/metrics/_classification.py:1531: UndefinedMetricWarning: Precision is ill-defined and being set to 0.0 in labels with no predicted samples. Use `zero_division` parameter to control this behavior.\n",
      "  _warn_prf(average, modifier, f\"{metric.capitalize()} is\", len(result))\n"
     ]
    },
    {
     "name": "stdout",
     "output_type": "stream",
     "text": [
      "Processing SPAC+min3 EfN-Finetuned AgglomerativeClustering {'n_clusters': 13}\n"
     ]
    },
    {
     "name": "stderr",
     "output_type": "stream",
     "text": [
      "/opt/conda/envs/research/lib/python3.10/site-packages/sklearn/metrics/_classification.py:1531: UndefinedMetricWarning: Precision is ill-defined and being set to 0.0 in labels with no predicted samples. Use `zero_division` parameter to control this behavior.\n",
      "  _warn_prf(average, modifier, f\"{metric.capitalize()} is\", len(result))\n"
     ]
    },
    {
     "name": "stdout",
     "output_type": "stream",
     "text": [
      "Processing SPAC+min3 EfN-Finetuned AgglomerativeClustering {'n_clusters': 18}\n"
     ]
    },
    {
     "name": "stderr",
     "output_type": "stream",
     "text": [
      "/opt/conda/envs/research/lib/python3.10/site-packages/sklearn/metrics/_classification.py:1531: UndefinedMetricWarning: Precision is ill-defined and being set to 0.0 in labels with no predicted samples. Use `zero_division` parameter to control this behavior.\n",
      "  _warn_prf(average, modifier, f\"{metric.capitalize()} is\", len(result))\n"
     ]
    },
    {
     "name": "stdout",
     "output_type": "stream",
     "text": [
      "Processing SPAC+min3 EfN-Finetuned AgglomerativeClustering {'n_clusters': 23}\n"
     ]
    },
    {
     "name": "stderr",
     "output_type": "stream",
     "text": [
      "/opt/conda/envs/research/lib/python3.10/site-packages/sklearn/metrics/_classification.py:1531: UndefinedMetricWarning: Precision is ill-defined and being set to 0.0 in labels with no predicted samples. Use `zero_division` parameter to control this behavior.\n",
      "  _warn_prf(average, modifier, f\"{metric.capitalize()} is\", len(result))\n"
     ]
    },
    {
     "name": "stdout",
     "output_type": "stream",
     "text": [
      "Processing SPAC+min3 EfN-Finetuned AgglomerativeClustering {'n_clusters': 28}\n"
     ]
    },
    {
     "name": "stderr",
     "output_type": "stream",
     "text": [
      "/opt/conda/envs/research/lib/python3.10/site-packages/sklearn/metrics/_classification.py:1531: UndefinedMetricWarning: Precision is ill-defined and being set to 0.0 in labels with no predicted samples. Use `zero_division` parameter to control this behavior.\n",
      "  _warn_prf(average, modifier, f\"{metric.capitalize()} is\", len(result))\n"
     ]
    },
    {
     "name": "stdout",
     "output_type": "stream",
     "text": [
      "Processing SPAC+min3 EfN-Finetuned AgglomerativeClustering {'n_clusters': 33}\n"
     ]
    },
    {
     "name": "stderr",
     "output_type": "stream",
     "text": [
      "/opt/conda/envs/research/lib/python3.10/site-packages/sklearn/metrics/_classification.py:1531: UndefinedMetricWarning: Precision is ill-defined and being set to 0.0 in labels with no predicted samples. Use `zero_division` parameter to control this behavior.\n",
      "  _warn_prf(average, modifier, f\"{metric.capitalize()} is\", len(result))\n"
     ]
    },
    {
     "name": "stdout",
     "output_type": "stream",
     "text": [
      "Processing SPAC+min3 EfN-Finetuned AgglomerativeClustering {'n_clusters': 38}\n"
     ]
    },
    {
     "name": "stderr",
     "output_type": "stream",
     "text": [
      "/opt/conda/envs/research/lib/python3.10/site-packages/sklearn/metrics/_classification.py:1531: UndefinedMetricWarning: Precision is ill-defined and being set to 0.0 in labels with no predicted samples. Use `zero_division` parameter to control this behavior.\n",
      "  _warn_prf(average, modifier, f\"{metric.capitalize()} is\", len(result))\n"
     ]
    },
    {
     "name": "stdout",
     "output_type": "stream",
     "text": [
      "Processing SPAC+min3 EfN-Finetuned AgglomerativeClustering {'n_clusters': 43}\n"
     ]
    },
    {
     "name": "stderr",
     "output_type": "stream",
     "text": [
      "/opt/conda/envs/research/lib/python3.10/site-packages/sklearn/metrics/_classification.py:1531: UndefinedMetricWarning: Precision is ill-defined and being set to 0.0 in labels with no predicted samples. Use `zero_division` parameter to control this behavior.\n",
      "  _warn_prf(average, modifier, f\"{metric.capitalize()} is\", len(result))\n"
     ]
    },
    {
     "name": "stdout",
     "output_type": "stream",
     "text": [
      "Processing SPAC+min3 EfN-Finetuned AgglomerativeClustering {'n_clusters': 48}\n"
     ]
    },
    {
     "name": "stderr",
     "output_type": "stream",
     "text": [
      "/opt/conda/envs/research/lib/python3.10/site-packages/sklearn/metrics/_classification.py:1531: UndefinedMetricWarning: Precision is ill-defined and being set to 0.0 in labels with no predicted samples. Use `zero_division` parameter to control this behavior.\n",
      "  _warn_prf(average, modifier, f\"{metric.capitalize()} is\", len(result))\n"
     ]
    },
    {
     "name": "stdout",
     "output_type": "stream",
     "text": [
      "Processing SPAC+min3 EfN-Finetuned AgglomerativeClustering {'n_clusters': 53}\n"
     ]
    },
    {
     "name": "stderr",
     "output_type": "stream",
     "text": [
      "/opt/conda/envs/research/lib/python3.10/site-packages/sklearn/metrics/_classification.py:1531: UndefinedMetricWarning: Precision is ill-defined and being set to 0.0 in labels with no predicted samples. Use `zero_division` parameter to control this behavior.\n",
      "  _warn_prf(average, modifier, f\"{metric.capitalize()} is\", len(result))\n"
     ]
    },
    {
     "name": "stdout",
     "output_type": "stream",
     "text": [
      "Processing SPAC+min3 EfN-Finetuned AgglomerativeClustering {'n_clusters': 58}\n"
     ]
    },
    {
     "name": "stderr",
     "output_type": "stream",
     "text": [
      "/opt/conda/envs/research/lib/python3.10/site-packages/sklearn/metrics/_classification.py:1531: UndefinedMetricWarning: Precision is ill-defined and being set to 0.0 in labels with no predicted samples. Use `zero_division` parameter to control this behavior.\n",
      "  _warn_prf(average, modifier, f\"{metric.capitalize()} is\", len(result))\n"
     ]
    },
    {
     "name": "stdout",
     "output_type": "stream",
     "text": [
      "Processing SPAC+min3 EfN-Finetuned AgglomerativeClustering {'n_clusters': 63}\n"
     ]
    },
    {
     "name": "stderr",
     "output_type": "stream",
     "text": [
      "/opt/conda/envs/research/lib/python3.10/site-packages/sklearn/metrics/_classification.py:1531: UndefinedMetricWarning: Precision is ill-defined and being set to 0.0 in labels with no predicted samples. Use `zero_division` parameter to control this behavior.\n",
      "  _warn_prf(average, modifier, f\"{metric.capitalize()} is\", len(result))\n"
     ]
    },
    {
     "name": "stdout",
     "output_type": "stream",
     "text": [
      "Processing SPAC+min3 EfN-Finetuned AgglomerativeClustering {'n_clusters': 68}\n"
     ]
    },
    {
     "name": "stderr",
     "output_type": "stream",
     "text": [
      "/opt/conda/envs/research/lib/python3.10/site-packages/sklearn/metrics/_classification.py:1531: UndefinedMetricWarning: Precision is ill-defined and being set to 0.0 in labels with no predicted samples. Use `zero_division` parameter to control this behavior.\n",
      "  _warn_prf(average, modifier, f\"{metric.capitalize()} is\", len(result))\n"
     ]
    },
    {
     "name": "stdout",
     "output_type": "stream",
     "text": [
      "Processing SPAC+min3 EfN-Finetuned AgglomerativeClustering {'n_clusters': 73}\n"
     ]
    },
    {
     "name": "stderr",
     "output_type": "stream",
     "text": [
      "/opt/conda/envs/research/lib/python3.10/site-packages/sklearn/metrics/_classification.py:1531: UndefinedMetricWarning: Precision is ill-defined and being set to 0.0 in labels with no predicted samples. Use `zero_division` parameter to control this behavior.\n",
      "  _warn_prf(average, modifier, f\"{metric.capitalize()} is\", len(result))\n"
     ]
    },
    {
     "name": "stdout",
     "output_type": "stream",
     "text": [
      "Processing SPAC+min3 EfN-Finetuned AgglomerativeClustering {'n_clusters': 78}\n"
     ]
    },
    {
     "name": "stderr",
     "output_type": "stream",
     "text": [
      "/opt/conda/envs/research/lib/python3.10/site-packages/sklearn/metrics/_classification.py:1531: UndefinedMetricWarning: Precision is ill-defined and being set to 0.0 in labels with no predicted samples. Use `zero_division` parameter to control this behavior.\n",
      "  _warn_prf(average, modifier, f\"{metric.capitalize()} is\", len(result))\n"
     ]
    },
    {
     "name": "stdout",
     "output_type": "stream",
     "text": [
      "Processing SPAC+min3 EfN-Finetuned AgglomerativeClustering {'n_clusters': 83}\n"
     ]
    },
    {
     "name": "stderr",
     "output_type": "stream",
     "text": [
      "/opt/conda/envs/research/lib/python3.10/site-packages/sklearn/metrics/_classification.py:1531: UndefinedMetricWarning: Precision is ill-defined and being set to 0.0 in labels with no predicted samples. Use `zero_division` parameter to control this behavior.\n",
      "  _warn_prf(average, modifier, f\"{metric.capitalize()} is\", len(result))\n"
     ]
    },
    {
     "name": "stdout",
     "output_type": "stream",
     "text": [
      "Processing SPAC+min3 EfN-Finetuned AgglomerativeClustering {'n_clusters': 88}\n"
     ]
    },
    {
     "name": "stderr",
     "output_type": "stream",
     "text": [
      "/opt/conda/envs/research/lib/python3.10/site-packages/sklearn/metrics/_classification.py:1531: UndefinedMetricWarning: Precision is ill-defined and being set to 0.0 in labels with no predicted samples. Use `zero_division` parameter to control this behavior.\n",
      "  _warn_prf(average, modifier, f\"{metric.capitalize()} is\", len(result))\n"
     ]
    },
    {
     "name": "stdout",
     "output_type": "stream",
     "text": [
      "Processing SPAC+min3 EfN-Finetuned AgglomerativeClustering {'n_clusters': 93}\n"
     ]
    },
    {
     "name": "stderr",
     "output_type": "stream",
     "text": [
      "/opt/conda/envs/research/lib/python3.10/site-packages/sklearn/metrics/_classification.py:1531: UndefinedMetricWarning: Precision is ill-defined and being set to 0.0 in labels with no predicted samples. Use `zero_division` parameter to control this behavior.\n",
      "  _warn_prf(average, modifier, f\"{metric.capitalize()} is\", len(result))\n"
     ]
    },
    {
     "name": "stdout",
     "output_type": "stream",
     "text": [
      "Processing SPAC+min3 EfN-Finetuned AgglomerativeClustering {'n_clusters': 98}\n"
     ]
    },
    {
     "name": "stderr",
     "output_type": "stream",
     "text": [
      "/opt/conda/envs/research/lib/python3.10/site-packages/sklearn/metrics/_classification.py:1531: UndefinedMetricWarning: Precision is ill-defined and being set to 0.0 in labels with no predicted samples. Use `zero_division` parameter to control this behavior.\n",
      "  _warn_prf(average, modifier, f\"{metric.capitalize()} is\", len(result))\n"
     ]
    },
    {
     "name": "stdout",
     "output_type": "stream",
     "text": [
      "Processing SPAC+min3 EfN-Finetuned AgglomerativeClustering {'n_clusters': 103}\n"
     ]
    },
    {
     "name": "stderr",
     "output_type": "stream",
     "text": [
      "/opt/conda/envs/research/lib/python3.10/site-packages/sklearn/metrics/_classification.py:1531: UndefinedMetricWarning: Precision is ill-defined and being set to 0.0 in labels with no predicted samples. Use `zero_division` parameter to control this behavior.\n",
      "  _warn_prf(average, modifier, f\"{metric.capitalize()} is\", len(result))\n"
     ]
    },
    {
     "name": "stdout",
     "output_type": "stream",
     "text": [
      "Processing SPAC+min3 EfN-Finetuned AgglomerativeClustering {'n_clusters': 108}\n"
     ]
    },
    {
     "name": "stderr",
     "output_type": "stream",
     "text": [
      "/opt/conda/envs/research/lib/python3.10/site-packages/sklearn/metrics/_classification.py:1531: UndefinedMetricWarning: Precision is ill-defined and being set to 0.0 in labels with no predicted samples. Use `zero_division` parameter to control this behavior.\n",
      "  _warn_prf(average, modifier, f\"{metric.capitalize()} is\", len(result))\n"
     ]
    },
    {
     "name": "stdout",
     "output_type": "stream",
     "text": [
      "Processing SPAC+min3 EfN-Finetuned AgglomerativeClustering {'n_clusters': 113}\n"
     ]
    },
    {
     "name": "stderr",
     "output_type": "stream",
     "text": [
      "/opt/conda/envs/research/lib/python3.10/site-packages/sklearn/metrics/_classification.py:1531: UndefinedMetricWarning: Precision is ill-defined and being set to 0.0 in labels with no predicted samples. Use `zero_division` parameter to control this behavior.\n",
      "  _warn_prf(average, modifier, f\"{metric.capitalize()} is\", len(result))\n"
     ]
    },
    {
     "name": "stdout",
     "output_type": "stream",
     "text": [
      "Processing SPAC+min3 EfN-Finetuned AgglomerativeClustering {'n_clusters': 118}\n"
     ]
    },
    {
     "name": "stderr",
     "output_type": "stream",
     "text": [
      "/opt/conda/envs/research/lib/python3.10/site-packages/sklearn/metrics/_classification.py:1531: UndefinedMetricWarning: Precision is ill-defined and being set to 0.0 in labels with no predicted samples. Use `zero_division` parameter to control this behavior.\n",
      "  _warn_prf(average, modifier, f\"{metric.capitalize()} is\", len(result))\n"
     ]
    },
    {
     "name": "stdout",
     "output_type": "stream",
     "text": [
      "Processing SPAC+min3 EfN-Finetuned AgglomerativeClustering {'n_clusters': 123}\n"
     ]
    },
    {
     "name": "stderr",
     "output_type": "stream",
     "text": [
      "/opt/conda/envs/research/lib/python3.10/site-packages/sklearn/metrics/_classification.py:1531: UndefinedMetricWarning: Precision is ill-defined and being set to 0.0 in labels with no predicted samples. Use `zero_division` parameter to control this behavior.\n",
      "  _warn_prf(average, modifier, f\"{metric.capitalize()} is\", len(result))\n"
     ]
    },
    {
     "name": "stdout",
     "output_type": "stream",
     "text": [
      "Processing SPAC+min3 EfN-Finetuned AgglomerativeClustering {'n_clusters': 128}\n"
     ]
    },
    {
     "name": "stderr",
     "output_type": "stream",
     "text": [
      "/opt/conda/envs/research/lib/python3.10/site-packages/sklearn/metrics/_classification.py:1531: UndefinedMetricWarning: Precision is ill-defined and being set to 0.0 in labels with no predicted samples. Use `zero_division` parameter to control this behavior.\n",
      "  _warn_prf(average, modifier, f\"{metric.capitalize()} is\", len(result))\n"
     ]
    },
    {
     "name": "stdout",
     "output_type": "stream",
     "text": [
      "Processing SPAC+min3 EfN-Finetuned AgglomerativeClustering {'n_clusters': 133}\n",
      "Processing SPAC+min3 EfN-Finetuned AgglomerativeClustering {'n_clusters': 138}\n",
      "Processing SPAC+min3 EfN-Finetuned AgglomerativeClustering {'n_clusters': 143}\n",
      "Processing SPAC+min3 EfN-Finetuned AgglomerativeClustering {'n_clusters': 148}\n",
      "Processing SPAC+min3 EfN-Finetuned AgglomerativeClustering {'n_clusters': 153}\n",
      "Processing SPAC+min3 EfN-Finetuned AgglomerativeClustering {'n_clusters': 158}\n",
      "Processing SPAC+min3 EfN-Finetuned AgglomerativeClustering {'n_clusters': 163}\n",
      "Processing SPAC+min3 EfN-Finetuned AgglomerativeClustering {'n_clusters': 168}\n",
      "Processing SPAC+min3 EfN-Finetuned AgglomerativeClustering {'n_clusters': 173}\n",
      "Processing SPAC+min3 EfN-Finetuned AgglomerativeClustering {'n_clusters': 178}\n",
      "Processing SPAC+min3 EfN-Finetuned AgglomerativeClustering {'n_clusters': 183}\n",
      "Processing SPAC+min3 EfN-Finetuned AgglomerativeClustering {'n_clusters': 188}\n",
      "Processing SPAC+min3 EfN-Finetuned AgglomerativeClustering {'n_clusters': 193}\n",
      "Processing SPAC+min3 EfN-Finetuned AgglomerativeClustering {'n_clusters': 198}\n",
      "Processing SPAC+min3 EfN-Finetuned AgglomerativeClustering {'n_clusters': 203}\n",
      "Processing SPAC+min3 EfN-Finetuned AgglomerativeClustering {'n_clusters': 208}\n",
      "Processing SPAC+min3 EfN-Finetuned AgglomerativeClustering {'n_clusters': 213}\n",
      "Processing SPAC+min3 EfN-Finetuned AgglomerativeClustering {'n_clusters': 218}\n",
      "Processing SPAC+min3 EfN-Finetuned AgglomerativeClustering {'n_clusters': 223}\n",
      "Processing SPAC+min3 EfN-Finetuned AgglomerativeClustering {'n_clusters': 228}\n",
      "Processing SPAC+min3 EfN-Finetuned AgglomerativeClustering {'n_clusters': 233}\n",
      "Processing SPAC+min3 EfN-Finetuned AgglomerativeClustering {'n_clusters': 238}\n",
      "Processing SPAC+min3 EfN-Finetuned AgglomerativeClustering {'n_clusters': 243}\n",
      "Processing SPAC+min3 EfN-Finetuned AgglomerativeClustering {'n_clusters': 248}\n",
      "Processing SPAC+min3 EfN-Finetuned AgglomerativeClustering {'n_clusters': 253}\n",
      "Processing SPAC+min3 EfN-Finetuned AgglomerativeClustering {'n_clusters': 258}\n",
      "Processing SPAC+min3 EfN-Finetuned AgglomerativeClustering {'n_clusters': 263}\n",
      "Processing SPAC+min3 EfN-Finetuned AgglomerativeClustering {'n_clusters': 268}\n",
      "Processing SPAC+min3 EfN-Finetuned AgglomerativeClustering {'n_clusters': 273}\n",
      "Processing SPAC+min3 EfN-Finetuned AgglomerativeClustering {'n_clusters': 278}\n",
      "Processing SPAC+min3 EfN-Finetuned AgglomerativeClustering {'n_clusters': 283}\n",
      "Processing SPAC+min3 EfN-Finetuned AgglomerativeClustering {'n_clusters': 288}\n",
      "Processing SPAC+min3 EfN-Finetuned AgglomerativeClustering {'n_clusters': 293}\n",
      "Processing SPAC+min3 EfN-Finetuned AgglomerativeClustering {'n_clusters': 298}\n",
      "Processing SPAC+min3 EfN-Finetuned AgglomerativeClustering {'n_clusters': 303}\n",
      "Processing SPAC+min3 EfN-Finetuned AgglomerativeClustering {'n_clusters': 308}\n",
      "Processing SPAC+min3 EfN-Finetuned AgglomerativeClustering {'n_clusters': 313}\n",
      "Processing SPAC+min3 EfN-Finetuned AgglomerativeClustering {'n_clusters': 318}\n",
      "Processing SPAC+min3 EfN-Finetuned AgglomerativeClustering {'n_clusters': 323}\n",
      "Processing SPAC+min3 EfN-Finetuned AgglomerativeClustering {'n_clusters': 328}\n",
      "Processing SPAC+min3 EfN-Finetuned AgglomerativeClustering {'n_clusters': 333}\n",
      "Processing SPAC+min3 EfN-Finetuned AgglomerativeClustering {'n_clusters': 338}\n",
      "Processing SPAC+min3 EfN-Finetuned AgglomerativeClustering {'n_clusters': 343}\n",
      "Processing SPAC+min3 EfN-Finetuned AgglomerativeClustering {'n_clusters': 348}\n",
      "Processing SPAC+min3 EfN-Finetuned AgglomerativeClustering {'n_clusters': 353}\n",
      "Processing SPAC+min3 EfN-Finetuned AgglomerativeClustering {'n_clusters': 358}\n",
      "Processing SPAC+min3 EfN-Finetuned AgglomerativeClustering {'n_clusters': 363}\n",
      "Processing SPAC+min3 EfN-Finetuned AgglomerativeClustering {'n_clusters': 368}\n",
      "Processing SPAC+min3 EfN-Finetuned AgglomerativeClustering {'n_clusters': 373}\n",
      "Processing SPAC+min3 EfN-Finetuned AgglomerativeClustering {'n_clusters': 378}\n",
      "Processing SPAC+min3 EfN-Finetuned AgglomerativeClustering {'n_clusters': 383}\n",
      "Processing SPAC+min3 EfN-Finetuned AgglomerativeClustering {'n_clusters': 388}\n",
      "Processing SPAC+min3 EfN-Finetuned AgglomerativeClustering {'n_clusters': 393}\n",
      "Processing SPAC+min3 EfN-Finetuned AgglomerativeClustering {'n_clusters': 398}\n",
      "Processing SPAC+min3 EfN-Finetuned AgglomerativeClustering {'n_clusters': 403}\n",
      "Processing SPAC+min3 EfN-Finetuned AgglomerativeClustering {'n_clusters': 408}\n",
      "Processing SPAC+min3 EfN-Finetuned AgglomerativeClustering {'n_clusters': 413}\n",
      "Processing SPAC+min3 EfN-Finetuned AgglomerativeClustering {'n_clusters': 418}\n",
      "Processing SPAC+min3 EfN-Finetuned AgglomerativeClustering {'n_clusters': 423}\n",
      "Processing SPAC+min3 EfN-Finetuned AgglomerativeClustering {'n_clusters': 428}\n",
      "Processing SPAC+min3 EfN-Finetuned AgglomerativeClustering {'n_clusters': 433}\n",
      "Processing SPAC+min3 EfN-Finetuned AgglomerativeClustering {'n_clusters': 438}\n",
      "Processing SPAC+min3 EfN-Finetuned AgglomerativeClustering {'n_clusters': 443}\n",
      "Processing SPAC+min3 EfN-Finetuned AgglomerativeClustering {'n_clusters': 448}\n",
      "Processing SPAC+min3 EfN-Finetuned AgglomerativeClustering {'n_clusters': 453}\n",
      "Processing SPAC+min3 EfN-Finetuned AgglomerativeClustering {'n_clusters': 458}\n",
      "Processing SPAC+min3 EfN-Finetuned AgglomerativeClustering {'n_clusters': 463}\n",
      "Processing SPAC+min3 EfN-Finetuned AgglomerativeClustering {'n_clusters': 468}\n",
      "Processing SPAC+min3 EfN-Finetuned AgglomerativeClustering {'n_clusters': 473}\n",
      "Processing SPAC+min3 EfN-Finetuned AgglomerativeClustering {'n_clusters': 478}\n",
      "Processing SPAC+min3 EfN-Finetuned AgglomerativeClustering {'n_clusters': 483}\n",
      "Processing SPAC+min3 EfN-Finetuned AgglomerativeClustering {'n_clusters': 488}\n",
      "Processing SPAC+min3 EfN-Finetuned AgglomerativeClustering {'n_clusters': 493}\n",
      "Processing SPAC+min3 EfN-Finetuned AgglomerativeClustering {'n_clusters': 498}\n",
      "Processing SPAC+min3 EfN-Finetuned AgglomerativeClustering {'n_clusters': 503}\n",
      "Processing SPAC+min3 EfN-Finetuned AgglomerativeClustering {'n_clusters': 508}\n",
      "Processing SPAC+min3 EfN-Finetuned AgglomerativeClustering {'n_clusters': 513}\n",
      "Processing SPAC+min3 EfN-Finetuned AgglomerativeClustering {'n_clusters': 518}\n",
      "Processing SPAC+min3 EfN-Finetuned AgglomerativeClustering {'n_clusters': 523}\n",
      "Processing SPAC+min3 EfN-Finetuned AgglomerativeClustering {'n_clusters': 528}\n",
      "Processing SPAC+min3 EfN-Finetuned AgglomerativeClustering {'n_clusters': 533}\n",
      "Processing SPAC+min3 EfN-Finetuned AgglomerativeClustering {'n_clusters': 538}\n",
      "Processing SPAC+min3 EfN-Finetuned AgglomerativeClustering {'n_clusters': 543}\n",
      "Processing SPAC+min3 EfN-Finetuned AgglomerativeClustering {'n_clusters': 548}\n",
      "Processing SPAC+min3 EfN-Finetuned AgglomerativeClustering {'n_clusters': 553}\n",
      "Processing SPAC+min3 EfN-Finetuned AgglomerativeClustering {'n_clusters': 558}\n",
      "Processing SPAC+min3 EfN-Finetuned AgglomerativeClustering {'n_clusters': 563}\n",
      "Processing SPAC+min3 EfN-Finetuned AgglomerativeClustering {'n_clusters': 568}\n",
      "Processing SPAC+min3 EfN-Finetuned AgglomerativeClustering {'n_clusters': 573}\n",
      "Processing SPAC+min3 EfN-Finetuned AgglomerativeClustering {'n_clusters': 578}\n",
      "Processing SPAC+min3 EfN-Finetuned AgglomerativeClustering {'n_clusters': 583}\n",
      "Processing SPAC+min3 EfN-Finetuned AgglomerativeClustering {'n_clusters': 588}\n",
      "Processing SPAC+min3 EfN-Finetuned AgglomerativeClustering {'n_clusters': 593}\n",
      "Processing SPAC+min3 EfN-Finetuned AgglomerativeClustering {'n_clusters': 598}\n",
      "Processing SPAC+min3 EfN-Finetuned AgglomerativeClustering {'n_clusters': 603}\n",
      "Processing SPAC+min3 EfN-Finetuned AgglomerativeClustering {'n_clusters': 608}\n",
      "Processing SPAC+min3 EfN-Finetuned AgglomerativeClustering {'n_clusters': 613}\n",
      "Processing SPAC+min3 EfN-Finetuned AgglomerativeClustering {'n_clusters': 618}\n",
      "Processing SPAC+min3 EfN-Finetuned AgglomerativeClustering {'n_clusters': 623}\n",
      "Processing SPAC+min3 EfN-Finetuned AgglomerativeClustering {'n_clusters': 628}\n",
      "Processing SPAC+min3 EfN-Finetuned AgglomerativeClustering {'n_clusters': 633}\n",
      "Processing SPAC+min3 EfN-Finetuned AgglomerativeClustering {'n_clusters': 638}\n",
      "Processing SPAC+min3 EfN-Finetuned AgglomerativeClustering {'n_clusters': 643}\n",
      "Processing SPAC+min3 EfN-Finetuned AgglomerativeClustering {'n_clusters': 648}\n",
      "Processing SPAC+min3 EfN-Finetuned AgglomerativeClustering {'n_clusters': 653}\n",
      "Processing SPAC+min3 EfN-Finetuned AgglomerativeClustering {'n_clusters': 658}\n",
      "Processing SPAC+min3 EfN-Finetuned AgglomerativeClustering {'n_clusters': 663}\n",
      "Processing SPAC+min3 EfN-Finetuned AgglomerativeClustering {'n_clusters': 668}\n",
      "Processing SPAC+min3 EfN-Finetuned AgglomerativeClustering {'n_clusters': 673}\n",
      "Processing SPAC+min3 EfN-Finetuned AgglomerativeClustering {'n_clusters': 678}\n",
      "Processing SPAC+min3 EfN-Finetuned AgglomerativeClustering {'n_clusters': 683}\n",
      "Processing SPAC+min3 EfN-Finetuned AgglomerativeClustering {'n_clusters': 688}\n",
      "Processing SPAC+min3 EfN-Finetuned AgglomerativeClustering {'n_clusters': 693}\n",
      "Processing SPAC+min3 EfN-Finetuned AgglomerativeClustering {'n_clusters': 698}\n",
      "Processing SPAC+min3 EfN-Finetuned AgglomerativeClustering {'n_clusters': 703}\n",
      "Processing SPAC+min3 EfN-Finetuned AgglomerativeClustering {'n_clusters': 708}\n",
      "Processing SPAC+min3 EfN-Finetuned AgglomerativeClustering {'n_clusters': 713}\n",
      "Processing SPAC+min3 EfN-Finetuned AgglomerativeClustering {'n_clusters': 718}\n"
     ]
    },
    {
     "name": "stderr",
     "output_type": "stream",
     "text": [
      "Processing configurations:  92%|█████████▏| 11/12 [17:21<01:32, 92.38s/it] "
     ]
    },
    {
     "name": "stdout",
     "output_type": "stream",
     "text": [
      "Processing SPAC+min3 EfN-Finetuned HDBSCAN\n",
      "Processing SPAC+min3 EfN-Finetuned HDBSCAN {'min_cluster_size': 3}\n"
     ]
    },
    {
     "name": "stderr",
     "output_type": "stream",
     "text": [
      "/opt/conda/envs/research/lib/python3.10/site-packages/sklearn/metrics/_classification.py:1531: UndefinedMetricWarning: Precision is ill-defined and being set to 0.0 in labels with no predicted samples. Use `zero_division` parameter to control this behavior.\n",
      "  _warn_prf(average, modifier, f\"{metric.capitalize()} is\", len(result))\n"
     ]
    },
    {
     "name": "stdout",
     "output_type": "stream",
     "text": [
      "Processing SPAC+min3 EfN-Finetuned HDBSCAN {'min_cluster_size': 5}\n"
     ]
    },
    {
     "name": "stderr",
     "output_type": "stream",
     "text": [
      "/opt/conda/envs/research/lib/python3.10/site-packages/sklearn/metrics/_classification.py:1531: UndefinedMetricWarning: Precision is ill-defined and being set to 0.0 in labels with no predicted samples. Use `zero_division` parameter to control this behavior.\n",
      "  _warn_prf(average, modifier, f\"{metric.capitalize()} is\", len(result))\n"
     ]
    },
    {
     "name": "stdout",
     "output_type": "stream",
     "text": [
      "Processing SPAC+min3 EfN-Finetuned HDBSCAN {'min_cluster_size': 10}\n"
     ]
    },
    {
     "name": "stderr",
     "output_type": "stream",
     "text": [
      "/opt/conda/envs/research/lib/python3.10/site-packages/sklearn/metrics/_classification.py:1531: UndefinedMetricWarning: Precision is ill-defined and being set to 0.0 in labels with no predicted samples. Use `zero_division` parameter to control this behavior.\n",
      "  _warn_prf(average, modifier, f\"{metric.capitalize()} is\", len(result))\n"
     ]
    },
    {
     "name": "stdout",
     "output_type": "stream",
     "text": [
      "Processing SPAC+min3 EfN-Finetuned HDBSCAN {'min_cluster_size': 20}\n"
     ]
    },
    {
     "name": "stderr",
     "output_type": "stream",
     "text": [
      "/opt/conda/envs/research/lib/python3.10/site-packages/sklearn/metrics/_classification.py:1531: UndefinedMetricWarning: Precision is ill-defined and being set to 0.0 in labels with no predicted samples. Use `zero_division` parameter to control this behavior.\n",
      "  _warn_prf(average, modifier, f\"{metric.capitalize()} is\", len(result))\n"
     ]
    },
    {
     "name": "stdout",
     "output_type": "stream",
     "text": [
      "Processing SPAC+min3 EfN-Finetuned HDBSCAN {'min_cluster_size': 25}\n"
     ]
    },
    {
     "name": "stderr",
     "output_type": "stream",
     "text": [
      "/opt/conda/envs/research/lib/python3.10/site-packages/sklearn/metrics/_classification.py:1531: UndefinedMetricWarning: Precision is ill-defined and being set to 0.0 in labels with no predicted samples. Use `zero_division` parameter to control this behavior.\n",
      "  _warn_prf(average, modifier, f\"{metric.capitalize()} is\", len(result))\n",
      "Processing configurations: 100%|██████████| 12/12 [17:22<00:00, 86.89s/it]\n"
     ]
    }
   ],
   "source": [
    "# nohup python3 cluster_sweep.py > output.log 2> error.log &\n",
    "from gorillatracker.classification.clustering import  EXT_MERGED_DF, configs\n",
    "from gorillatracker.classification.clustering_cosine import sweep_clustering_algorithms_cosine\n",
    "\n",
    "print(\"Number of configurations:\", len(configs))\n",
    "print(\"Number of algorithm configurations:\", sum(len(params) for _, _, _, params in configs))\n",
    "partial = [config for config in configs if config[0] == \"SPAC+min3\"]\n",
    "results_df = sweep_clustering_algorithms_cosine(EXT_MERGED_DF, partial, cache_dir=\"./cosine_vs_euclidean2\")\n",
    "results_df.to_pickle(\"cosine_vs_euclidean.pkl\")"
   ]
  },
  {
   "cell_type": "code",
   "execution_count": 4,
   "metadata": {},
   "outputs": [
    {
     "name": "stdout",
     "output_type": "stream",
     "text": [
      "\\begin{table}[H]\n",
      "    \\centering\n",
      "    \\resizebox{\\textwidth}{!}{%\n",
      "    \\begin{tabular}{l|c|ccc|ccc|ccc}\n",
      "    \\toprule\n",
      "    & True & \\multicolumn{3}{c|}{KMeans} & \\multicolumn{3}{c|}{AgglomerativeClustering} & \\multicolumn{3}{c}{HDBSCAN} \\\\\n",
      "    Embedding Space & Clusters & True ARI & ARI & Clusters & True ARI & ARI & Clusters & True ARI & ARI & Clusters \\\\\n",
      "    \\midrule\n",
      "    \\multicolumn{11}{l}{\\textbf{SPAC+min3}} \\\\\n",
      "    EfN-Finetuned & 110 & 0.095 & 0.111 & 43 & 0.091 & 0.23 & 378 & 0.011 & 0.011 & 9 \\\\\n",
      "    EfN-Pretrained & 110 & 0.068 & 0.08 & 143 & 0.007 & 0.241 & 628 & 0.006 & 0.013 & 4 \\\\\n",
      "    ViT-Finetuned & 110 & 0.364 & 0.408 & 58 & 0.545 & 0.698 & 188 & 0.102 & 0.102 & 125 \\\\\n",
      "    ViT-Pretrained & 110 & 0.128 & 0.138 & 128 & 0.011 & 0.346 & 478 & 0.005 & 0.015 & 4 \\\\\n",
      "    \\bottomrule\n",
      "    \\end{tabular}%\n",
      "    }\n",
      "    \\caption{Clustering Performance Metrics for Different Models and Algorithms}\n",
      "    \\label{tab:clustering-algorithms}\n",
      "\\end{table}\n"
     ]
    }
   ],
   "source": [
    "import pandas as pd\n",
    "\n",
    "results_df = pd.read_pickle(\"cosine_vs_euclidean.pkl\")\n",
    "\n",
    "def extract_data_best_algorithms_can_do(df):\n",
    "    # Group by Dataset, Algorithm, and Model\n",
    "    grouped = df.groupby(['dataset', 'algorithm', 'model'])\n",
    "    \n",
    "    report_data = []\n",
    "    \n",
    "    for (dataset, algorithm, model), group in grouped:\n",
    "        # Find the row with the top ARI (adjusted_rand_score)\n",
    "        top_ari_row = group.loc[group['adjusted_rand_score'].idxmax()]\n",
    "        \n",
    "        # Get the true number of clusters (assuming it's constant for each dataset-algorithm-model combination)\n",
    "        true_clusters = group['n_true_clusters'].iloc[0]\n",
    "        \n",
    "        # Find the row with n_clusters closest to true_clusters\n",
    "        closest_clusters_row = group.loc[(group['n_clusters'] - true_clusters).abs().idxmin()]\n",
    "        \n",
    "        report_data.append({\n",
    "            'Dataset': dataset,\n",
    "            'Algorithm': algorithm,\n",
    "            'Model': model,\n",
    "            'True Clusters': true_clusters,\n",
    "            'ARI': top_ari_row['adjusted_rand_score'],\n",
    "            'Clusters': top_ari_row['n_clusters'],\n",
    "            'True ARI': closest_clusters_row['adjusted_rand_score']\n",
    "        })\n",
    "    \n",
    "    return pd.DataFrame(report_data)\n",
    "\n",
    "def format_value(value):\n",
    "    if abs(value) < 1e-10:  # Consider values very close to zero as zero\n",
    "        return \"0\"\n",
    "    return f\"{value:.3f}\".rstrip('0').rstrip('.').replace('-0', '0')\n",
    "\n",
    "def latex_table_best_algorithms_can_do(df):\n",
    "    latex_code = [\n",
    "        r\"\\begin{table}[H]\",\n",
    "        r\"    \\centering\",\n",
    "        r\"    \\resizebox{\\textwidth}{!}{%\",\n",
    "        r\"    \\begin{tabular}{l|c|ccc|ccc|ccc}\",\n",
    "        r\"    \\toprule\",\n",
    "        r\"    & True & \\multicolumn{3}{c|}{KMeans} & \\multicolumn{3}{c|}{AgglomerativeClustering} & \\multicolumn{3}{c}{HDBSCAN} \\\\\",\n",
    "        r\"    Embedding Space & Clusters & True ARI & ARI & Clusters & True ARI & ARI & Clusters & True ARI & ARI & Clusters \\\\\",\n",
    "        r\"    \\midrule\",\n",
    "    ]\n",
    "\n",
    "    datasets = df['Dataset'].unique()\n",
    "    for i, dataset in enumerate(datasets):\n",
    "        group = df[df['Dataset'] == dataset]\n",
    "        latex_code.append(f\"    \\\\multicolumn{{11}}{{l}}{{\\\\textbf{{{dataset}}}}} \\\\\\\\\")\n",
    "\n",
    "        # Pivot the data\n",
    "        pivot = group.pivot(index='Model', columns='Algorithm', \n",
    "                            values=['True Clusters', 'ARI', 'Clusters', 'True ARI'])\n",
    "        \n",
    "        for model in pivot.index:\n",
    "            row = pivot.loc[model]\n",
    "            true_clusters = row['True Clusters'].iloc[0]  # All algorithms have same True Clusters\n",
    "            values = [\n",
    "                model,\n",
    "                str(int(true_clusters)),\n",
    "            ]\n",
    "            for alg in ['KMeans', 'AgglomerativeClustering', 'HDBSCAN']:\n",
    "                values.extend([\n",
    "                    format_value(row['True ARI'][alg]),\n",
    "                    format_value(row['ARI'][alg]),\n",
    "                    str(int(row['Clusters'][alg]))\n",
    "                ])\n",
    "            latex_code.append(\"    \" + \" & \".join(values) + r\" \\\\\")\n",
    "        \n",
    "        # Add a midrule between datasets, except after the last dataset\n",
    "        if i < len(datasets) - 1:\n",
    "            latex_code.append(r\"    \\midrule\")\n",
    "\n",
    "    latex_code.extend([\n",
    "        r\"    \\bottomrule\",\n",
    "        r\"    \\end{tabular}%\",\n",
    "        r\"    }\",\n",
    "        r\"    \\caption{Clustering Performance Metrics for Different Models and Algorithms}\",\n",
    "        r\"    \\label{tab:clustering-algorithms}\",\n",
    "        r\"\\end{table}\",\n",
    "    ])\n",
    "\n",
    "    return \"\\n\".join(latex_code)\n",
    "\n",
    "# Example usage:\n",
    "# Assuming metrics_df is your input DataFrame\n",
    "report_df = extract_data_best_algorithms_can_do(results_df)\n",
    "print(latex_table_best_algorithms_can_do(report_df))"
   ]
  }
 ],
 "metadata": {
  "kernelspec": {
   "display_name": "Python 3",
   "language": "python",
   "name": "python3"
  },
  "language_info": {
   "codemirror_mode": {
    "name": "ipython",
    "version": 3
   },
   "file_extension": ".py",
   "mimetype": "text/x-python",
   "name": "python",
   "nbconvert_exporter": "python",
   "pygments_lexer": "ipython3",
   "version": "3.10.14"
  }
 },
 "nbformat": 4,
 "nbformat_minor": 2
}

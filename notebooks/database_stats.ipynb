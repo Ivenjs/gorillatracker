{
 "cells": [
  {
   "cell_type": "markdown",
   "metadata": {},
   "source": [
    "### Imports and database initialization"
   ]
  },
  {
   "cell_type": "code",
   "execution_count": null,
   "metadata": {},
   "outputs": [],
   "source": [
    "from sqlalchemy import select, func\n",
    "from gorillatracker.ssl_pipeline.models import Tracking, Video, Camera\n",
    "from sqlalchemy.orm import sessionmaker\n",
    "from gorillatracker.ssl_pipeline.dataset import GorillaDatasetKISZ\n",
    "\n",
    "from tabulate import tabulate\n",
    "\n",
    "import matplotlib.pyplot as plt\n",
    "import matplotlib.dates as mdates\n",
    "from matplotlib.dates import DateFormatter\n",
    "\n",
    "import numpy as np\n",
    "\n",
    "engine = GorillaDatasetKISZ().engine\n",
    "session_cls = sessionmaker(bind=engine)"
   ]
  },
  {
   "cell_type": "markdown",
   "metadata": {},
   "source": [
    "### Number of frames per camera (sorted descending)"
   ]
  },
  {
   "cell_type": "code",
   "execution_count": null,
   "metadata": {},
   "outputs": [],
   "source": [
    "stmt = (\n",
    "    select(Video.camera_id, func.sum(Video.frames).label(\"count\"))\n",
    "    .group_by(Video.camera_id)\n",
    "    )\n",
    "\n",
    "with session_cls() as session:\n",
    "    result = session.execute(stmt)\n",
    "    sorted_all = sorted(result.fetchall(), key=lambda x: x[1], reverse=True)\n",
    "    print(tabulate(sorted_all, headers=result.keys(), tablefmt=\"psql\"))"
   ]
  },
  {
   "cell_type": "markdown",
   "metadata": {},
   "source": [
    "### Number of Tracking-IDs per Video (not really meaningful with 250000 videos)"
   ]
  },
  {
   "cell_type": "code",
   "execution_count": null,
   "metadata": {},
   "outputs": [],
   "source": [
    "stmt = (\n",
    "    select(Tracking.video_id, func.count(Tracking.tracking_id).label(\"count\"))\n",
    "    .group_by(Tracking.video_id)\n",
    "    )\n",
    "\n",
    "with session_cls() as session:\n",
    "    result = session.execute(stmt)\n",
    "    sorted_all = sorted(result.fetchall(), key=lambda x: x[1], reverse=True)\n",
    "    \n",
    "list1, list2 = zip(*sorted_all)\n",
    "plt.bar(list1, list2)\n",
    "plt.xlabel(\"Video\")\n",
    "plt.ylabel(\"Number of ID's\")\n",
    "plt.ylim(0, 40)\n",
    "plt.tight_layout()\n",
    "plt.show()"
   ]
  },
  {
   "cell_type": "markdown",
   "metadata": {},
   "source": [
    "### Number of Tracking-IDs per camera"
   ]
  },
  {
   "cell_type": "code",
   "execution_count": null,
   "metadata": {},
   "outputs": [],
   "source": [
    "from ipywidgets import IntProgress\n",
    "\n",
    "stmt = (\n",
    "    select(Video.camera_id, func.sum(Tracking.tracking_id).label(\"count\"))\n",
    "    .join(Tracking, Video.video_id == Tracking.video_id)\n",
    "    .group_by(Video.camera_id)\n",
    "    )\n",
    "\n",
    "with session_cls() as session:\n",
    "    result = session.execute(stmt)\n",
    "    all = sorted(result.fetchall(), key=lambda x: x[0])\n",
    "    print(tabulate(all, headers=result.keys(), tablefmt=\"psql\"))\n",
    "\n",
    "stmt = (\n",
    "    select(Camera.camera_id, Camera.longitude, Camera.latitude)\n",
    "    )\n",
    "\n",
    "with session_cls() as session:\n",
    "    result = session.execute(stmt)\n",
    "    all2 = sorted(result.fetchall(), key=lambda x: x[0])\n",
    "    print(tabulate(all2, headers=result.keys(), tablefmt=\"psql\"))\n",
    "\n",
    "mapping = {x : (y,z) for x, y, z in all2}\n",
    "\n",
    "f = IntProgress(min=0, max=len(all)) # instantiate the bar\n",
    "display(f)\n",
    "\n",
    "points = []\n",
    "for (camera_id2, count) in all:\n",
    "    f.value += 1\n",
    "    (long, lat) = mapping[camera_id2]\n",
    "    if long is None or lat is None:\n",
    "        continue\n",
    "    for i in range(count//10000):\n",
    "        points.append((long + np.random.normal(0, 0.002), lat + np.random.normal(0, 0.002)))\n",
    "\n",
    "x, y = zip(*points)\n",
    "\n",
    "plt.hist2d(x,y, bins=1000, cmap=\"twilight\")\n",
    "plt.show()"
   ]
  },
  {
   "cell_type": "markdown",
   "metadata": {},
   "source": [
    "### Average number of Tracking-IDs in videos per camera"
   ]
  },
  {
   "cell_type": "code",
   "execution_count": null,
   "metadata": {},
   "outputs": [],
   "source": [
    "stmt = (\n",
    "    select(Video.camera_id, func.avg(Tracking.tracking_id).label(\"count\"))\n",
    "    .join(Tracking, Video.video_id == Tracking.video_id)\n",
    "    .group_by(Video.camera_id)\n",
    "    )\n",
    "\n",
    "with session_cls() as session:\n",
    "    result = session.execute(stmt)\n",
    "    all = sorted(result.fetchall(), key=lambda x: x[0])\n",
    "    print(tabulate(all, headers=result.keys(), tablefmt=\"psql\"))\n",
    "    \n",
    "list1, list2 = zip(*all)\n",
    "plt.bar(list1, list2)\n",
    "plt.xlabel(\"Camera\")\n",
    "plt.ylabel(\"Avg. number of ID's\")\n",
    "plt.tight_layout()\n",
    "plt.show()"
   ]
  },
  {
   "cell_type": "markdown",
   "metadata": {},
   "source": [
    "### Number of Videos per Date"
   ]
  },
  {
   "cell_type": "code",
   "execution_count": null,
   "metadata": {},
   "outputs": [],
   "source": [
    "with session_cls() as session:\n",
    "    result = session.execute(select(Video.start_time))\n",
    "    all = result.fetchall()\n",
    "    print(tabulate(all, headers=result.keys(), tablefmt=\"psql\"))\n",
    "    \n",
    "all_dates = [mdates.date2num(date[0].date()) for date in all if date[0] is not None and date[0].date().year > 2000]\n",
    "\n",
    "fig, ax = plt.subplots()\n",
    "ax.hist(all_dates, bins=100)\n",
    "ax.xaxis.set_major_formatter(DateFormatter(\"%Y-%m-%d\"))\n",
    "plt.xlabel(\"Date\")\n",
    "plt.ylabel(\"Number of Videos\")\n",
    "plt.xticks(rotation=45)\n",
    "plt.tight_layout()\n",
    "plt.show()\n"
   ]
  },
  {
   "cell_type": "markdown",
   "metadata": {},
   "source": [
    "### Length of Videos"
   ]
  },
  {
   "cell_type": "code",
   "execution_count": null,
   "metadata": {},
   "outputs": [],
   "source": [
    "stmt = (\n",
    "    select((Video.frames / Video.fps).label(\"duration\"), func.count(Video.video_id).label(\"count\"))\n",
    "    .group_by(\"duration\")\n",
    "    )\n",
    "\n",
    "with session_cls() as session:\n",
    "    result = session.execute(stmt)\n",
    "    all = result.fetchall()\n",
    "\n",
    "list1, list2 = zip(*all)\n",
    "plt.bar(list1, list2)\n",
    "plt.xlabel(\"Length (seconds)\")\n",
    "plt.ylabel(\"Number of Videos\")\n",
    "plt.yscale(\"log\")\n",
    "plt.tight_layout()\n",
    "plt.show()"
   ]
  },
  {
   "cell_type": "markdown",
   "metadata": {},
   "source": [
    "### Distribution of Video Recording Start Times"
   ]
  },
  {
   "cell_type": "code",
   "execution_count": null,
   "metadata": {},
   "outputs": [],
   "source": [
    "from datetime import datetime\n",
    "\n",
    "stmt = (\n",
    "    select(Video.start_time)\n",
    ")\n",
    "\n",
    "with session_cls() as session:\n",
    "    result = session.execute(stmt)\n",
    "    all = result.fetchall()\n",
    "    all_times = [mdates.date2num(datetime.combine(datetime.today(), t[0].time())) for t in all if t[0] is not None]\n",
    "    \n",
    "fig, ax = plt.subplots()\n",
    "ax.hist(all_times, bins=24 * 4, rwidth=0.8)\n",
    "ax.xaxis.set_major_formatter(DateFormatter(\"%H:%M\"))\n",
    "plt.xlabel(\"Time of Day Start Time\")\n",
    "plt.ylabel(\"Number of Videos\")\n",
    "plt.title(\"Distribution of Video Recording Times\")\n",
    "plt.xticks(rotation=45)\n",
    "plt.tight_layout()\n",
    "plt.show()"
   ]
  }
 ],
 "metadata": {
  "kernelspec": {
   "display_name": "Python 3",
   "language": "python",
   "name": "python3"
  },
  "language_info": {
   "codemirror_mode": {
    "name": "ipython",
    "version": 3
   },
   "file_extension": ".py",
   "mimetype": "text/x-python",
   "name": "python",
   "nbconvert_exporter": "python",
   "pygments_lexer": "ipython3",
   "version": "3.10.14"
  }
 },
 "nbformat": 4,
 "nbformat_minor": 2
}

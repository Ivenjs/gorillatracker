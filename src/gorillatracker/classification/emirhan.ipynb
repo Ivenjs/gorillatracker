{
 "cells": [
  {
   "cell_type": "code",
   "execution_count": 1,
   "metadata": {},
   "outputs": [],
   "source": [
    "from gorillatracker.classification.metrics import analyse_embedding_space\n",
    "import pandas as pd\n",
    "import dill\n",
    "\n",
    "base = \"/workspaces/gorillatracker/emirhan\"\n",
    "\n",
    "fp = f\"{base}/gorillatracker/notebooks/ssl_embeddings.pkl\"\n",
    "fp2022 = f\"{base}/gorillatracker/notebooks/ssl_embeddings_2022.pkl\"\n",
    "\n",
    "\n",
    "with open(fp2022, \"rb\") as dill_file:\n",
    "    df = dill.load(dill_file)"
   ]
  },
  {
   "cell_type": "code",
   "execution_count": 3,
   "metadata": {},
   "outputs": [
    {
     "name": "stderr",
     "output_type": "stream",
     "text": [
      "Grid Search Progress:   0%|          | 0/8 [00:00<?, ?it/s]"
     ]
    },
    {
     "name": "stderr",
     "output_type": "stream",
     "text": [
      "Grid Search Progress: 100%|██████████| 8/8 [04:48<00:00, 36.10s/it]"
     ]
    },
    {
     "name": "stdout",
     "output_type": "stream",
     "text": [
      "   unclustered_ratio  global_max_dist  global_min_dist  global_avg_dist  \\\n",
      "0                0.0        22.205246         1.304098        13.674086   \n",
      "1                0.0        22.205246         1.304098        13.674086   \n",
      "2                0.0        22.205246         1.304098        13.674086   \n",
      "3                0.0        22.205246         1.304098        13.674086   \n",
      "4                0.0        22.205246         1.304098        13.674086   \n",
      "5                0.0        22.205246         1.304098        13.674086   \n",
      "6                0.0        22.205246         1.304098        13.674086   \n",
      "7                0.0        22.205246         1.304098        13.674086   \n",
      "\n",
      "   global_std_dist  intra_min_dist  intra_max_dist  intra_avg_dist  \\\n",
      "0         1.786503        6.755762       14.771306        9.682278   \n",
      "1         1.786503        0.000000       10.510887        4.359147   \n",
      "2         1.786503        0.000000        8.218441        3.228318   \n",
      "3         1.786503        0.000000        6.063566        2.393428   \n",
      "4         1.786503        0.000000        4.834923        1.684141   \n",
      "5         1.786503        0.000000        3.959001        1.070558   \n",
      "6         1.786503        0.000000        3.008017        0.541704   \n",
      "7         1.786503        0.000000        2.225853        0.103826   \n",
      "\n",
      "   intra_std_dist  inter_min_dist  inter_max_dist  inter_avg_dist  \\\n",
      "0        1.151786             NaN             NaN             NaN   \n",
      "1        1.388127        2.467441       19.890785       12.358071   \n",
      "2        1.220940        1.978525       21.469569       13.117684   \n",
      "3        1.257100        2.400891       21.924655       13.430820   \n",
      "4        1.237780        2.008486       22.205246       13.576592   \n",
      "5        1.106779        2.026418       22.205246       13.643224   \n",
      "6        0.851865        2.026418       22.205246       13.676416   \n",
      "7        0.366315        1.366068       22.205246       13.676535   \n",
      "\n",
      "   inter_std_dist  calinski_harabasz_index           wcss  \\\n",
      "0             NaN                      NaN  695269.643817   \n",
      "1        1.862427                22.361119  153054.223107   \n",
      "2        1.797517                18.540998   87117.816084   \n",
      "3        1.780510                17.259548   53449.246734   \n",
      "4        1.772552                17.192329   31946.323742   \n",
      "5        1.773502                18.078629   17339.527121   \n",
      "6        1.777816                20.180691    7452.798297   \n",
      "7        1.781072                29.186624    1060.140047   \n",
      "\n",
      "   silhouette_coefficient  davies_bouldin_index  dunn_index     k  \n",
      "0                     NaN                   NaN         NaN     1  \n",
      "1                0.223614              1.466466    0.234751  1001  \n",
      "2                0.236473              1.070670    0.240742  2001  \n",
      "3                0.202573              0.823693    0.395954  3001  \n",
      "4                0.163426              0.638673    0.415412  4001  \n",
      "5                0.118709              0.494252    0.511851  5001  \n",
      "6                0.068475              0.362175    0.673672  6001  \n",
      "7                0.018610              0.208147    0.613728  7001  \n"
     ]
    },
    {
     "name": "stderr",
     "output_type": "stream",
     "text": [
      "\n"
     ]
    }
   ],
   "source": [
    "import numpy as np\n",
    "from sklearn.cluster import KMeans\n",
    "from tqdm import tqdm\n",
    "\n",
    "embeddings = np.array(df[\"embedding\"].tolist())\n",
    "\n",
    "nsamples = embeddings.shape[0]\n",
    "\n",
    "# Prepare the range of k values\n",
    "k_values = range(1, min(nsamples, 20001), 1000)\n",
    "\n",
    "# Initialize lists to store results\n",
    "results = []\n",
    "\n",
    "# Perform grid search\n",
    "for k in tqdm(k_values, desc=\"Grid Search Progress\"):\n",
    "    kmeans = KMeans(n_clusters=k, random_state=42)\n",
    "    cluster_labels = kmeans.fit_predict(embeddings)\n",
    "\n",
    "    # Update the 'label' column with cluster labels\n",
    "    df[\"label\"] = cluster_labels\n",
    "\n",
    "    # Analyze the embedding space\n",
    "    metrics = analyse_embedding_space(df)\n",
    "\n",
    "    # Store results\n",
    "    results.append({**metrics, \"k\": k})\n",
    "\n",
    "# Convert results to a DataFrame\n",
    "results_df = pd.DataFrame(results)\n",
    "\n",
    "# Print the results\n",
    "print(results_df)"
   ]
  },
  {
   "cell_type": "code",
   "execution_count": 1,
   "metadata": {},
   "outputs": [
    {
     "ename": "NameError",
     "evalue": "name 'results_df' is not defined",
     "output_type": "error",
     "traceback": [
      "\u001b[0;31m---------------------------------------------------------------------------\u001b[0m",
      "\u001b[0;31mNameError\u001b[0m                                 Traceback (most recent call last)",
      "Cell \u001b[0;32mIn[1], line 8\u001b[0m\n\u001b[1;32m      5\u001b[0m model \u001b[38;5;241m=\u001b[39m \u001b[38;5;124m\"\u001b[39m\u001b[38;5;124mA\u001b[39m\u001b[38;5;124m\"\u001b[39m\n\u001b[1;32m      6\u001b[0m algorithm \u001b[38;5;241m=\u001b[39m \u001b[38;5;124m\"\u001b[39m\u001b[38;5;124mKMeans\u001b[39m\u001b[38;5;124m\"\u001b[39m\n\u001b[0;32m----> 8\u001b[0m \u001b[43mresults_df\u001b[49m[\u001b[38;5;124m\"\u001b[39m\u001b[38;5;124mdataset\u001b[39m\u001b[38;5;124m\"\u001b[39m] \u001b[38;5;241m=\u001b[39m dataset\n\u001b[1;32m      9\u001b[0m results_df[\u001b[38;5;124m\"\u001b[39m\u001b[38;5;124mmodel\u001b[39m\u001b[38;5;124m\"\u001b[39m] \u001b[38;5;241m=\u001b[39m model\n\u001b[1;32m     10\u001b[0m results_df[\u001b[38;5;124m\"\u001b[39m\u001b[38;5;124malgorithm\u001b[39m\u001b[38;5;124m\"\u001b[39m] \u001b[38;5;241m=\u001b[39m algorithm\n",
      "\u001b[0;31mNameError\u001b[0m: name 'results_df' is not defined"
     ]
    }
   ],
   "source": [
    "from gorillatracker.classification.clustering import visualize_alg_metrics\n",
    "from gorillatracker.classification.metrics import formatted_names\n",
    "\n",
    "dataset = \"ssl_embeddings_2022\"\n",
    "model = \"A\"\n",
    "algorithm = \"KMeans\"\n",
    "\n",
    "results_df[\"dataset\"] = dataset\n",
    "results_df[\"model\"] = model\n",
    "results_df[\"algorithm\"] = algorithm\n",
    "results_df[\"algorithm_params\"] = results_df[\"k\"].apply(lambda x: {\"n_clusters\": x})\n",
    "results_df[\"n_true_clusters\"] = 0\n",
    "\n",
    "visualize_alg_metrics(results_df, dataset, model, algorithm, formatted_names)"
   ]
  }
 ],
 "metadata": {
  "kernelspec": {
   "display_name": "Python 3",
   "language": "python",
   "name": "python3"
  },
  "language_info": {
   "codemirror_mode": {
    "name": "ipython",
    "version": 3
   },
   "file_extension": ".py",
   "mimetype": "text/x-python",
   "name": "python",
   "nbconvert_exporter": "python",
   "pygments_lexer": "ipython3",
   "version": "3.10.14"
  }
 },
 "nbformat": 4,
 "nbformat_minor": 2
}

{
 "cells": [
  {
   "cell_type": "code",
   "execution_count": null,
   "metadata": {},
   "outputs": [],
   "source": [
    "import os\n",
    "\n",
    "\n",
    "dirpath = \"/workspaces/gorillatracker/data/derived_data/cxl/yolov8n_gorillabody_ybyh495y/body_images/\"\n",
    "paths = os.listdir(dirpath)\n",
    "print(paths)"
   ]
  },
  {
   "cell_type": "code",
   "execution_count": null,
   "metadata": {},
   "outputs": [],
   "source": [
    "# Import necessary libraries\n",
    "import matplotlib.pyplot as plt\n",
    "import matplotlib.image as mpimg\n",
    "import os\n",
    "\n",
    "\n",
    "# Function to display images in a grid\n",
    "def display_images_grid(image_folder, images_list, grid_size=(3, 3), show_filename=True):\n",
    "    fig, axes = plt.subplots(grid_size[0], grid_size[1], figsize=(15, 15))\n",
    "    axes = axes.flatten()\n",
    "\n",
    "    for ax, image_name in zip(axes, images_list):\n",
    "        img_path = os.path.join(image_folder, image_name)\n",
    "        if os.path.exists(img_path):\n",
    "            img = mpimg.imread(img_path)\n",
    "            ax.imshow(img)\n",
    "            if show_filename:\n",
    "                ax.set_title(image_name)\n",
    "            ax.axis(\"off\")\n",
    "        else:\n",
    "            ax.axis(\"off\")\n",
    "\n",
    "    for ax in axes[len(images_list) :]:\n",
    "        ax.axis(\"off\")\n",
    "\n",
    "    plt.tight_layout()\n",
    "    plt.show()\n",
    "\n",
    "\n",
    "# Display images in a grid\n",
    "display_images_grid(dirpath, paths, grid_size=(4, 4), show_filename=False)"
   ]
  }
 ],
 "metadata": {
  "kernelspec": {
   "display_name": "Python 3",
   "language": "python",
   "name": "python3"
  },
  "language_info": {
   "codemirror_mode": {
    "name": "ipython",
    "version": 3
   },
   "file_extension": ".py",
   "mimetype": "text/x-python",
   "name": "python",
   "nbconvert_exporter": "python",
   "pygments_lexer": "ipython3",
   "version": "3.10.14"
  }
 },
 "nbformat": 4,
 "nbformat_minor": 2
}

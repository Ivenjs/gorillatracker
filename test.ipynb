{
 "cells": [
  {
   "cell_type": "code",
   "execution_count": 1,
   "metadata": {},
   "outputs": [],
   "source": [
    "import timm\n",
    "import torch\n",
    "from typing import Optional\n",
    "\n",
    "def get_input_size(model_name: str) -> Optional[int]:\n",
    "    try:\n",
    "        model = timm.create_model(model_name, pretrained=True)\n",
    "        model = model.eval()\n",
    "    except RuntimeError as e:\n",
    "        print(f\"Error loading {model_name}: {e}\")\n",
    "        return None\n",
    "\n",
    "    data_config = timm.data.resolve_model_data_config(model)\n",
    "    input_size = data_config[\"input_size\"][-1]\n",
    "    input_size = min(input_size, 768)  # Limit input size to 768\n",
    "\n",
    "    if input_size != data_config[\"input_size\"][-1]:\n",
    "        print(f\"Warning: input size limited to 768 for {model_name}\")\n",
    "\n",
    "    return input_size"
   ]
  },
  {
   "cell_type": "code",
   "execution_count": 2,
   "metadata": {},
   "outputs": [
    {
     "data": {
      "application/vnd.jupyter.widget-view+json": {
       "model_id": "b917d06a77114d7089f9afc8cb9251c7",
       "version_major": 2,
       "version_minor": 0
      },
      "text/plain": [
       "model.safetensors:   0%|          | 0.00/792M [00:00<?, ?B/s]"
      ]
     },
     "metadata": {},
     "output_type": "display_data"
    },
    {
     "data": {
      "text/plain": [
       "256"
      ]
     },
     "execution_count": 2,
     "metadata": {},
     "output_type": "execute_result"
    }
   ],
   "source": [
    "get_input_size(\"timm/swinv2_large_window12to16_192to256.ms_in22k_ft_in1k\")"
   ]
  }
 ],
 "metadata": {
  "kernelspec": {
   "display_name": "Python 3",
   "language": "python",
   "name": "python3"
  },
  "language_info": {
   "codemirror_mode": {
    "name": "ipython",
    "version": 3
   },
   "file_extension": ".py",
   "mimetype": "text/x-python",
   "name": "python",
   "nbconvert_exporter": "python",
   "pygments_lexer": "ipython3",
   "version": "3.10.14"
  }
 },
 "nbformat": 4,
 "nbformat_minor": 2
}

{
 "cells": [
  {
   "cell_type": "code",
   "execution_count": 1,
   "metadata": {},
   "outputs": [
    {
     "name": "stdout",
     "output_type": "stream",
     "text": [
      "Number of architectures: 14\n"
     ]
    }
   ],
   "source": [
    "import pathlib\n",
    "\n",
    "architecture_result_paths = list(pathlib.Path(\"../results/gorillas\").glob(\"*\"))\n",
    "print(\"Number of architectures:\", len(list(architecture_result_paths)))"
   ]
  },
  {
   "cell_type": "code",
   "execution_count": 2,
   "metadata": {},
   "outputs": [],
   "source": [
    "import json\n",
    "import pandas as pd\n",
    "\n",
    "tials_that_should_exist = []\n",
    "for architecture_result_path in architecture_result_paths:\n",
    "    tials_that_should_exist.append(architecture_result_path.name)\n",
    "    tials_that_should_exist.append(architecture_result_path.name + \"-QAT\")\n",
    "    tials_that_should_exist.append(architecture_result_path.name + \"-QAT&KD\")\n",
    "    \n",
    "\n",
    "dataframe_list = []\n",
    "trials_that_exist = []\n",
    "for architecture_result_path in architecture_result_paths:\n",
    "    trials = list(architecture_result_path.glob(\"*\"))\n",
    "    \n",
    "    for trial in trials:\n",
    "        config_dict = json.loads((trial / \"config.json\").read_text())\n",
    "        metrics_dict = json.loads((trial / \"metrics.json\").read_text())\n",
    "        \n",
    "        name = trial.parent.name\n",
    "        \n",
    "        if config_dict[\"use_quantization_aware_training\"][\"0\"]:\n",
    "            name += \"-QAT\"\n",
    "        if config_dict[\"loss_mode\"][\"0\"] == \"distillation/offline/response-based\":\n",
    "            name += \"&KD\"\n",
    "            \n",
    "        if \"aggregated/cxlkfold/val/embeddings/knn/accuracy_max\" not in metrics_dict.keys():\n",
    "            continue\n",
    "        else:\n",
    "            dataframe_entry = {\n",
    "                \"name\": name,\n",
    "                \"knn-1 accuracy\": metrics_dict[\"aggregated/cxlkfold/val/embeddings/knn/accuracy_max\"][\"0\"],\n",
    "                \"knn-1 precision\": metrics_dict[\"aggregated/cxlkfold/val/embeddings/knn/precision_max\"][\"0\"],\n",
    "                \"knn-1 f1\": metrics_dict[\"aggregated/cxlkfold/val/embeddings/knn/f1_max\"][\"0\"],\n",
    "                \"knn-5 accuracy\": metrics_dict[\"aggregated/cxlkfold/val/embeddings/knn5/accuracy_max\"][\"0\"],\n",
    "                \"knn-5 precision\": metrics_dict[\"aggregated/cxlkfold/val/embeddings/knn5/precision_max\"][\"0\"],\n",
    "                \"knn-5 f1\": metrics_dict[\"aggregated/cxlkfold/val/embeddings/knn5/f1_max\"][\"0\"],\n",
    "                \"knn-5 accuracy top-5\": metrics_dict[\"aggregated/cxlkfold/val/embeddings/knn5/accuracy_top5_max\"][\"0\"],\n",
    "                \n",
    "            }\n",
    "            dataframe_list.append(dataframe_entry)\n",
    "            trials_that_exist.append(name)\n",
    "            \n",
    "dataframe = pd.DataFrame(dataframe_list)\n",
    "dataframe.to_csv(\"gorillas.csv\", index=False)\n",
    "\n",
    "tails_that_are_missing = set(tials_that_should_exist) - set(trials_that_exist)\n",
    "tails_that_are_missing = sorted(list(tails_that_are_missing))\n",
    "\n",
    "\n",
    "missing_kd = []\n",
    "missing_baseline = []\n",
    "missing_qat = []\n",
    "for tail in tails_that_are_missing:\n",
    "    if \"&KD\" in tail:\n",
    "        missing_kd.append(tail)\n",
    "    elif \"-QAT\" in tail:\n",
    "        missing_qat.append(tail)\n",
    "    else:\n",
    "        missing_baseline.append(tail)\n",
    "        \n",
    "with open(\"missing.txt\", \"w\") as file:\n",
    "    file.write(\"Missing KD:\\n\")\n",
    "    for tail in missing_kd:\n",
    "        file.write(tail + \"\\n\")\n",
    "        \n",
    "    file.write(\"\\nMissing QAT:\\n\")\n",
    "    for tail in missing_qat:\n",
    "        file.write(tail + \"\\n\")\n",
    "        \n",
    "    file.write(\"\\nMissing Baseline:\\n\")\n",
    "    for tail in missing_baseline:\n",
    "        file.write(tail + \"\\n\") \n",
    "    \n",
    "        "
   ]
  },
  {
   "cell_type": "code",
   "execution_count": 3,
   "metadata": {},
   "outputs": [
    {
     "name": "stdout",
     "output_type": "stream",
     "text": [
      "Number of architectures: 5\n"
     ]
    }
   ],
   "source": [
    "# get data from ptq\n",
    "\n",
    "import pathlib\n",
    "import pandas as pd\n",
    "import json\n",
    "\n",
    "dataframe_list = dataframe_list\n",
    "architecture_result_paths = list(pathlib.Path(\"../runs\").glob(\"*\"))\n",
    "print(\"Number of architectures:\", len(list(architecture_result_paths)))\n",
    "\n",
    "for architecture_path in architecture_result_paths:\n",
    "    results = json.loads((architecture_path / \"results.json\").read_text())\n",
    "    results = results[\"quantized\"]\n",
    "    dataframe_list.append({\n",
    "        \"name\": architecture_path.name + \"-PTQ\",\n",
    "        \"knn-1 accuracy\": results[\"knn1\"][\"accuracy\"],\n",
    "        \"knn-1 precision\": results[\"knn1\"][\"precision\"],\n",
    "        \"knn-1 f1\": results[\"knn1\"][\"f1\"],\n",
    "        \"knn-5 accuracy\": results[\"knn1\"][\"accuracy\"],\n",
    "        \"knn-5 precision\": results[\"knn1\"][\"precision\"],\n",
    "        \"knn-5 f1\": results[\"knn1\"][\"f1\"],\n",
    "        \"knn-5 accuracy top-5\": results[\"knn1\"][\"accuracy_top5\"],\n",
    "    })\n",
    "    \n",
    "dataframe = pd.DataFrame(dataframe_list)\n",
    "dataframe.to_csv(\"gorillas.csv\", index=False)"
   ]
  }
 ],
 "metadata": {
  "kernelspec": {
   "display_name": "Python 3",
   "language": "python",
   "name": "python3"
  },
  "language_info": {
   "codemirror_mode": {
    "name": "ipython",
    "version": 3
   },
   "file_extension": ".py",
   "mimetype": "text/x-python",
   "name": "python",
   "nbconvert_exporter": "python",
   "pygments_lexer": "ipython3",
   "version": "3.10.14"
  }
 },
 "nbformat": 4,
 "nbformat_minor": 2
}
